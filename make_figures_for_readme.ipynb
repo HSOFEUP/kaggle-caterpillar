{
 "cells": [
  {
   "cell_type": "code",
   "execution_count": 39,
   "metadata": {
    "collapsed": false
   },
   "outputs": [
    {
     "name": "stdout",
     "output_type": "stream",
     "text": [
      "Populating the interactive namespace from numpy and matplotlib\n"
     ]
    }
   ],
   "source": [
    "%pylab inline\n",
    "\n",
    "import pandas as pd\n",
    "\n",
    "from soln.bracket import get_fixed_and_var_cost\n",
    "from soln.dataset import get_augmented_train_and_test_set\n",
    "from soln.dataset import get_component_info_df\n",
    "from soln.dataset import inverse_log_transform_y\n",
    "from soln.dataset import load_raw_components\n",
    "from soln.utils import count_components"
   ]
  },
  {
   "cell_type": "code",
   "execution_count": 2,
   "metadata": {
    "collapsed": false
   },
   "outputs": [
    {
     "name": "stdout",
     "output_type": "stream",
     "text": [
      "CPU times: user 13.3 s, sys: 148 ms, total: 13.5 s\n",
      "Wall time: 13.8 s\n"
     ]
    }
   ],
   "source": [
    "%time aug_train_set, aug_test_set = get_augmented_train_and_test_set()"
   ]
  },
  {
   "cell_type": "code",
   "execution_count": 26,
   "metadata": {
    "collapsed": false
   },
   "outputs": [
    {
     "name": "stdout",
     "output_type": "stream",
     "text": [
      "19.0447619647 2.83680093249 0.999937805986\n"
     ]
    },
    {
     "data": {
      "image/png": "[encoded data removed]",
      "text/plain": [
       "<matplotlib.figure.Figure at 0x57048d0>"
      ]
     },
     "metadata": {},
     "output_type": "display_data"
    }
   ],
   "source": [
    "# From bracket_pricing.ipynb.\n",
    "\n",
    "taid = 'TA-00002'\n",
    "df = aug_train_set[aug_train_set.tube_assembly_id == taid]\n",
    "quantities = df.quantity.values\n",
    "costs = inverse_log_transform_y(df.log_cost.values)\n",
    "fixed_cost, var_cost, r2 = get_fixed_and_var_cost(quantities, costs)\n",
    "print fixed_cost, var_cost, r2\n",
    "\n",
    "plt.figure(figsize=(8, 5))\n",
    "plt.scatter(1.0 / quantities, costs, s=200, marker='+')\n",
    "plt.xlabel('1 / quantity')\n",
    "plt.ylabel('per-unit cost')\n",
    "plt.xlim(-0.1, 1.1)\n",
    "plt.ylim(0, 25)\n",
    "xx = np.linspace(-0.1, 1.1, 100)\n",
    "yy = fixed_cost * xx + var_cost\n",
    "plt.plot(xx, yy)\n",
    "plt.savefig('images/bracket.png')"
   ]
  },
  {
   "cell_type": "code",
   "execution_count": 27,
   "metadata": {
    "collapsed": true
   },
   "outputs": [],
   "source": [
    "# From bracket_pricing.ipynb.\n",
    "\n",
    "brapa = (1, 2, 5, 10, 25, 50, 100, 250)\n",
    "df = aug_train_set[aug_train_set.bracketing_pattern == brapa]\n",
    "grouped = df.groupby('tube_assembly_id')\n",
    "taids = []\n",
    "fixed_costs = []\n",
    "var_costs = []\n",
    "for taid, indices in grouped.groups.iteritems():\n",
    "    quantities = df.quantity[indices].values\n",
    "    costs = inverse_log_transform_y(df.log_cost[indices].values)\n",
    "    fixed_cost, var_cost, r2 = get_fixed_and_var_cost(quantities, costs)\n",
    "    if r2 < 0.9999:\n",
    "        print \"{} has bad r2\".format(taid)\n",
    "    taids.append(taid)\n",
    "    fixed_costs.append(fixed_cost)\n",
    "    var_costs.append(var_cost)"
   ]
  },
  {
   "cell_type": "code",
   "execution_count": 33,
   "metadata": {
    "collapsed": false
   },
   "outputs": [
    {
     "data": {
      "image/png": "[encoded data removed]",
      "text/plain": [
       "<matplotlib.figure.Figure at 0xc22b590>"
      ]
     },
     "metadata": {},
     "output_type": "display_data"
    }
   ],
   "source": [
    "plt.figure(figsize=(8, 5))\n",
    "plt.xlabel('fixed_cost')\n",
    "plt.ylabel('number of tubes (log scale)')\n",
    "plt.hist(fixed_costs, bins=100, log=True);\n",
    "plt.savefig('images/fixed_costs.png')"
   ]
  },
  {
   "cell_type": "code",
   "execution_count": 40,
   "metadata": {
    "collapsed": false
   },
   "outputs": [],
   "source": [
    "# From components.ipynb.\n",
    "\n",
    "comp_types, group_dfs, cluster_dfs = load_raw_components()\n",
    "cinfo_df = get_component_info_df(comp_types, group_dfs, cluster_dfs)\n",
    "train_counts = count_components(aug_train_set, cinfo_df)\n",
    "train_counts.rename(columns={'count': 'train_count'}, inplace=True)\n",
    "test_counts = count_components(aug_test_set, cinfo_df)\n",
    "test_counts.rename(columns={'count': 'test_count'}, inplace=True)\n",
    "all_counts = cinfo_df[['component_id', 'component_type_id', 'component_group_id']]\n",
    "all_counts = all_counts.merge(train_counts, on='component_id')\n",
    "all_counts = all_counts.merge(test_counts, on='component_id')"
   ]
  },
  {
   "cell_type": "code",
   "execution_count": 56,
   "metadata": {
    "collapsed": false
   },
   "outputs": [],
   "source": [
    "bins = [(0, 0), (1, 1), (2, 5), (5, 10), (10, 20), (20, 50), (50, 100), (100, np.inf)]\n",
    "all_counts['train_bin'] = -1\n",
    "for i, (cmin, cmax) in enumerate(bins):\n",
    "    all_counts.train_bin.loc[(all_counts.train_count >= cmin) & (all_counts.train_count <= cmax)] = i\n",
    "all_counts['test_bin'] = -1\n",
    "for i, (cmin, cmax) in enumerate(bins):\n",
    "    all_counts.test_bin.loc[(all_counts.test_count >= cmin) & (all_counts.test_count <= cmax)] = i"
   ]
  },
  {
   "cell_type": "code",
   "execution_count": 57,
   "metadata": {
    "collapsed": false
   },
   "outputs": [
    {
     "data": {
      "text/html": [
       "<div>\n",
       "<table border=\"1\" class=\"dataframe\">\n",
       "  <thead>\n",
       "    <tr style=\"text-align: right;\">\n",
       "      <th>test_seen_count</th>\n",
       "      <th>0..0</th>\n",
       "      <th>1..1</th>\n",
       "      <th>2..5</th>\n",
       "      <th>5..10</th>\n",
       "      <th>10..20</th>\n",
       "      <th>20..50</th>\n",
       "      <th>50..100</th>\n",
       "      <th>100..inf</th>\n",
       "    </tr>\n",
       "    <tr>\n",
       "      <th>train_seen_count</th>\n",
       "      <th></th>\n",
       "      <th></th>\n",
       "      <th></th>\n",
       "      <th></th>\n",
       "      <th></th>\n",
       "      <th></th>\n",
       "      <th></th>\n",
       "      <th></th>\n",
       "    </tr>\n",
       "  </thead>\n",
       "  <tbody>\n",
       "    <tr>\n",
       "      <th>0..0</th>\n",
       "      <td>346</td>\n",
       "      <td>399</td>\n",
       "      <td>81</td>\n",
       "      <td>2</td>\n",
       "      <td></td>\n",
       "      <td></td>\n",
       "      <td></td>\n",
       "      <td></td>\n",
       "    </tr>\n",
       "    <tr>\n",
       "      <th>1..1</th>\n",
       "      <td>407</td>\n",
       "      <td>140</td>\n",
       "      <td>83</td>\n",
       "      <td>9</td>\n",
       "      <td></td>\n",
       "      <td></td>\n",
       "      <td></td>\n",
       "      <td></td>\n",
       "    </tr>\n",
       "    <tr>\n",
       "      <th>2..5</th>\n",
       "      <td>111</td>\n",
       "      <td>94</td>\n",
       "      <td>112</td>\n",
       "      <td>38</td>\n",
       "      <td>2</td>\n",
       "      <td></td>\n",
       "      <td></td>\n",
       "      <td></td>\n",
       "    </tr>\n",
       "    <tr>\n",
       "      <th>5..10</th>\n",
       "      <td>2</td>\n",
       "      <td>5</td>\n",
       "      <td>43</td>\n",
       "      <td>37</td>\n",
       "      <td>8</td>\n",
       "      <td></td>\n",
       "      <td></td>\n",
       "      <td></td>\n",
       "    </tr>\n",
       "    <tr>\n",
       "      <th>10..20</th>\n",
       "      <td></td>\n",
       "      <td></td>\n",
       "      <td></td>\n",
       "      <td>13</td>\n",
       "      <td>41</td>\n",
       "      <td>2</td>\n",
       "      <td></td>\n",
       "      <td></td>\n",
       "    </tr>\n",
       "    <tr>\n",
       "      <th>20..50</th>\n",
       "      <td></td>\n",
       "      <td></td>\n",
       "      <td></td>\n",
       "      <td></td>\n",
       "      <td>9</td>\n",
       "      <td>23</td>\n",
       "      <td>1</td>\n",
       "      <td></td>\n",
       "    </tr>\n",
       "    <tr>\n",
       "      <th>50..100</th>\n",
       "      <td></td>\n",
       "      <td></td>\n",
       "      <td></td>\n",
       "      <td></td>\n",
       "      <td></td>\n",
       "      <td>3</td>\n",
       "      <td>6</td>\n",
       "      <td></td>\n",
       "    </tr>\n",
       "    <tr>\n",
       "      <th>100..inf</th>\n",
       "      <td></td>\n",
       "      <td></td>\n",
       "      <td></td>\n",
       "      <td></td>\n",
       "      <td></td>\n",
       "      <td></td>\n",
       "      <td></td>\n",
       "      <td>30</td>\n",
       "    </tr>\n",
       "  </tbody>\n",
       "</table>\n",
       "</div>"
      ],
      "text/plain": [
       "test_seen_count  0..0 1..1 2..5 5..10 10..20 20..50 50..100 100..inf\n",
       "train_seen_count                                                    \n",
       "0..0              346  399   81     2                               \n",
       "1..1              407  140   83     9                               \n",
       "2..5              111   94  112    38      2                        \n",
       "5..10               2    5   43    37      8                        \n",
       "10..20                             13     41      2                 \n",
       "20..50                                     9     23       1         \n",
       "50..100                                           3       6         \n",
       "100..inf                                                          30"
      ]
     },
     "execution_count": 57,
     "metadata": {},
     "output_type": "execute_result"
    }
   ],
   "source": [
    "grouped = all_counts.groupby(['train_bin', 'test_bin'])\n",
    "df = grouped.size().unstack()\n",
    "str_bins = [\"{}..{}\".format(a, b) for (a, b) in bins]\n",
    "df.index = pd.Index(str_bins, name='train_seen_count')\n",
    "df.columns = pd.Index(str_bins, name='test_seen_count')\n",
    "df.fillna('', inplace=True)\n",
    "df"
   ]
  },
  {
   "cell_type": "code",
   "execution_count": null,
   "metadata": {
    "collapsed": true
   },
   "outputs": [],
   "source": []
  }
 ],
 "metadata": {
  "kernelspec": {
   "display_name": "Python 2",
   "language": "python",
   "name": "python2"
  },
  "language_info": {
   "codemirror_mode": {
    "name": "ipython",
    "version": 2
   },
   "file_extension": ".py",
   "mimetype": "text/x-python",
   "name": "python",
   "nbconvert_exporter": "python",
   "pygments_lexer": "ipython2",
   "version": "2.7.3"
  }
 },
 "nbformat": 4,
 "nbformat_minor": 0
}
