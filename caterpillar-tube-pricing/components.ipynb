{
 "cells": [
  {
   "cell_type": "code",
   "execution_count": 60,
   "metadata": {
    "collapsed": false
   },
   "outputs": [
    {
     "name": "stdout",
     "output_type": "stream",
     "text": [
      "Populating the interactive namespace from numpy and matplotlib\n",
      "data/competition_data/comp_adaptor.csv  data/competition_data/comp_other.csv\r\n",
      "data/competition_data/comp_boss.csv     data/competition_data/comp_sleeve.csv\r\n",
      "data/competition_data/comp_elbow.csv    data/competition_data/comp_straight.csv\r\n",
      "data/competition_data/comp_float.csv    data/competition_data/comp_tee.csv\r\n",
      "data/competition_data/comp_hfl.csv      data/competition_data/comp_threaded.csv\r\n",
      "data/competition_data/comp_nut.csv\r\n"
     ]
    },
    {
     "name": "stderr",
     "output_type": "stream",
     "text": [
      "WARNING: pylab import has clobbered these variables: ['float_']\n",
      "`%matplotlib` prevents importing * from pylab and numpy\n"
     ]
    }
   ],
   "source": [
    "%pylab inline\n",
    "\n",
    "import pandas as pd\n",
    "\n",
    "pd.set_option('display.max_columns', None)\n",
    "\n",
    "%ls data/competition_data/comp_*.csv"
   ]
  },
  {
   "cell_type": "code",
   "execution_count": 6,
   "metadata": {
    "collapsed": false
   },
   "outputs": [
    {
     "data": {
      "text/html": [
       "<div>\n",
       "<table border=\"1\" class=\"dataframe\">\n",
       "  <thead>\n",
       "    <tr style=\"text-align: right;\">\n",
       "      <th></th>\n",
       "      <th>component_type_id</th>\n",
       "      <th>name</th>\n",
       "    </tr>\n",
       "  </thead>\n",
       "  <tbody>\n",
       "    <tr>\n",
       "      <th>0</th>\n",
       "      <td>CP-001</td>\n",
       "      <td>4-bolt Tig Straight</td>\n",
       "    </tr>\n",
       "    <tr>\n",
       "      <th>1</th>\n",
       "      <td>CP-002</td>\n",
       "      <td>4-bolt MJ Straight</td>\n",
       "    </tr>\n",
       "    <tr>\n",
       "      <th>2</th>\n",
       "      <td>CP-003</td>\n",
       "      <td>4-bolt Braze/Weld Straight</td>\n",
       "    </tr>\n",
       "    <tr>\n",
       "      <th>3</th>\n",
       "      <td>CP-004</td>\n",
       "      <td>2-bolt Braze/Weld Straight</td>\n",
       "    </tr>\n",
       "    <tr>\n",
       "      <th>4</th>\n",
       "      <td>CP-005</td>\n",
       "      <td>2-bolt MJ Straight</td>\n",
       "    </tr>\n",
       "    <tr>\n",
       "      <th>5</th>\n",
       "      <td>CP-006</td>\n",
       "      <td>Braze/Weld Flange Head</td>\n",
       "    </tr>\n",
       "    <tr>\n",
       "      <th>6</th>\n",
       "      <td>CP-007</td>\n",
       "      <td>MJ Flange Head</td>\n",
       "    </tr>\n",
       "    <tr>\n",
       "      <th>7</th>\n",
       "      <td>CP-008</td>\n",
       "      <td>4-bolt Braze/Weld Elbow</td>\n",
       "    </tr>\n",
       "    <tr>\n",
       "      <th>8</th>\n",
       "      <td>CP-009</td>\n",
       "      <td>4-bolt Tig Elbow</td>\n",
       "    </tr>\n",
       "    <tr>\n",
       "      <th>9</th>\n",
       "      <td>CP-010</td>\n",
       "      <td>2-bolt Braze/Weld Elbow</td>\n",
       "    </tr>\n",
       "    <tr>\n",
       "      <th>10</th>\n",
       "      <td>CP-011</td>\n",
       "      <td>4-bolt MJ Elbow</td>\n",
       "    </tr>\n",
       "    <tr>\n",
       "      <th>11</th>\n",
       "      <td>CP-012</td>\n",
       "      <td>MJ Plug</td>\n",
       "    </tr>\n",
       "    <tr>\n",
       "      <th>12</th>\n",
       "      <td>CP-013</td>\n",
       "      <td>4-bolt MJ Tee</td>\n",
       "    </tr>\n",
       "    <tr>\n",
       "      <th>13</th>\n",
       "      <td>CP-014</td>\n",
       "      <td>Threaded Straight</td>\n",
       "    </tr>\n",
       "    <tr>\n",
       "      <th>14</th>\n",
       "      <td>CP-015</td>\n",
       "      <td>Threaded Elbow</td>\n",
       "    </tr>\n",
       "    <tr>\n",
       "      <th>15</th>\n",
       "      <td>CP-016</td>\n",
       "      <td>Threaded Tee</td>\n",
       "    </tr>\n",
       "    <tr>\n",
       "      <th>16</th>\n",
       "      <td>CP-017</td>\n",
       "      <td>Threaded Lateral Cross</td>\n",
       "    </tr>\n",
       "    <tr>\n",
       "      <th>17</th>\n",
       "      <td>CP-018</td>\n",
       "      <td>Threaded Boss</td>\n",
       "    </tr>\n",
       "    <tr>\n",
       "      <th>18</th>\n",
       "      <td>CP-019</td>\n",
       "      <td>4-bolt Boss</td>\n",
       "    </tr>\n",
       "    <tr>\n",
       "      <th>19</th>\n",
       "      <td>CP-020</td>\n",
       "      <td>2-bolt Boss</td>\n",
       "    </tr>\n",
       "    <tr>\n",
       "      <th>20</th>\n",
       "      <td>CP-021</td>\n",
       "      <td>Free-Floating 4-bolt Spacer</td>\n",
       "    </tr>\n",
       "    <tr>\n",
       "      <th>21</th>\n",
       "      <td>CP-022</td>\n",
       "      <td>Free-Floating 4-bolt Captive Flange</td>\n",
       "    </tr>\n",
       "    <tr>\n",
       "      <th>22</th>\n",
       "      <td>CP-023</td>\n",
       "      <td>Stems and Shells</td>\n",
       "    </tr>\n",
       "    <tr>\n",
       "      <th>23</th>\n",
       "      <td>CP-024</td>\n",
       "      <td>Sleeves</td>\n",
       "    </tr>\n",
       "    <tr>\n",
       "      <th>24</th>\n",
       "      <td>CP-025</td>\n",
       "      <td>ORFS Nut</td>\n",
       "    </tr>\n",
       "    <tr>\n",
       "      <th>25</th>\n",
       "      <td>CP-026</td>\n",
       "      <td>JIC 37 - 45 Nut</td>\n",
       "    </tr>\n",
       "    <tr>\n",
       "      <th>26</th>\n",
       "      <td>CP-027</td>\n",
       "      <td>Weld On Nut</td>\n",
       "    </tr>\n",
       "    <tr>\n",
       "      <th>27</th>\n",
       "      <td>CP-028</td>\n",
       "      <td>Straight Adapter</td>\n",
       "    </tr>\n",
       "    <tr>\n",
       "      <th>28</th>\n",
       "      <td>CP-029</td>\n",
       "      <td>Elbow Adapter</td>\n",
       "    </tr>\n",
       "  </tbody>\n",
       "</table>\n",
       "</div>"
      ],
      "text/plain": [
       "   component_type_id                                 name\n",
       "0             CP-001                  4-bolt Tig Straight\n",
       "1             CP-002                   4-bolt MJ Straight\n",
       "2             CP-003           4-bolt Braze/Weld Straight\n",
       "3             CP-004           2-bolt Braze/Weld Straight\n",
       "4             CP-005                   2-bolt MJ Straight\n",
       "5             CP-006               Braze/Weld Flange Head\n",
       "6             CP-007                       MJ Flange Head\n",
       "7             CP-008              4-bolt Braze/Weld Elbow\n",
       "8             CP-009                     4-bolt Tig Elbow\n",
       "9             CP-010              2-bolt Braze/Weld Elbow\n",
       "10            CP-011                      4-bolt MJ Elbow\n",
       "11            CP-012                              MJ Plug\n",
       "12            CP-013                        4-bolt MJ Tee\n",
       "13            CP-014                    Threaded Straight\n",
       "14            CP-015                       Threaded Elbow\n",
       "15            CP-016                         Threaded Tee\n",
       "16            CP-017               Threaded Lateral Cross\n",
       "17            CP-018                        Threaded Boss\n",
       "18            CP-019                          4-bolt Boss\n",
       "19            CP-020                          2-bolt Boss\n",
       "20            CP-021          Free-Floating 4-bolt Spacer\n",
       "21            CP-022  Free-Floating 4-bolt Captive Flange\n",
       "22            CP-023                     Stems and Shells\n",
       "23            CP-024                              Sleeves\n",
       "24            CP-025                             ORFS Nut\n",
       "25            CP-026                      JIC 37 - 45 Nut\n",
       "26            CP-027                          Weld On Nut\n",
       "27            CP-028                     Straight Adapter\n",
       "28            CP-029                        Elbow Adapter"
      ]
     },
     "execution_count": 6,
     "metadata": {},
     "output_type": "execute_result"
    }
   ],
   "source": [
    "typ = pd.read_csv('data/competition_data/type_component.csv')\n",
    "typ"
   ]
  },
  {
   "cell_type": "code",
   "execution_count": 7,
   "metadata": {
    "collapsed": false
   },
   "outputs": [
    {
     "data": {
      "text/plain": [
       "CP-028    24\n",
       "CP-029     1\n",
       "dtype: int64"
      ]
     },
     "execution_count": 7,
     "metadata": {},
     "output_type": "execute_result"
    }
   ],
   "source": [
    "adaptor = pd.read_csv('data/competition_data/comp_adaptor.csv')\n",
    "adaptor.component_type_id.value_counts()"
   ]
  },
  {
   "cell_type": "code",
   "execution_count": 8,
   "metadata": {
    "collapsed": false
   },
   "outputs": [
    {
     "data": {
      "text/plain": [
       "CP-018    124\n",
       "CP-019     17\n",
       "CP-020      6\n",
       "dtype: int64"
      ]
     },
     "execution_count": 8,
     "metadata": {},
     "output_type": "execute_result"
    }
   ],
   "source": [
    "boss = pd.read_csv('data/competition_data/comp_boss.csv')\n",
    "boss.component_type_id.value_counts()"
   ]
  },
  {
   "cell_type": "code",
   "execution_count": 9,
   "metadata": {
    "collapsed": false
   },
   "outputs": [
    {
     "data": {
      "text/plain": [
       "CP-008    70\n",
       "CP-011    41\n",
       "CP-010    33\n",
       "CP-009    27\n",
       "CP-012     7\n",
       "dtype: int64"
      ]
     },
     "execution_count": 9,
     "metadata": {},
     "output_type": "execute_result"
    }
   ],
   "source": [
    "elbow = pd.read_csv('data/competition_data/comp_elbow.csv')\n",
    "elbow.component_type_id.value_counts()"
   ]
  },
  {
   "cell_type": "code",
   "execution_count": 10,
   "metadata": {
    "collapsed": false
   },
   "outputs": [
    {
     "data": {
      "text/plain": [
       "CP-022    10\n",
       "CP-021     6\n",
       "dtype: int64"
      ]
     },
     "execution_count": 10,
     "metadata": {},
     "output_type": "execute_result"
    }
   ],
   "source": [
    "float_ = pd.read_csv('data/competition_data/comp_float.csv')\n",
    "float_.component_type_id.value_counts()"
   ]
  },
  {
   "cell_type": "code",
   "execution_count": 11,
   "metadata": {
    "collapsed": false
   },
   "outputs": [
    {
     "data": {
      "text/plain": [
       "CP-023    6\n",
       "dtype: int64"
      ]
     },
     "execution_count": 11,
     "metadata": {},
     "output_type": "execute_result"
    }
   ],
   "source": [
    "hfl = pd.read_csv('data/competition_data/comp_hfl.csv')\n",
    "hfl.component_type_id.value_counts()"
   ]
  },
  {
   "cell_type": "code",
   "execution_count": 12,
   "metadata": {
    "collapsed": false
   },
   "outputs": [
    {
     "data": {
      "text/plain": [
       "CP-025    25\n",
       "CP-027    23\n",
       "CP-026    17\n",
       "dtype: int64"
      ]
     },
     "execution_count": 12,
     "metadata": {},
     "output_type": "execute_result"
    }
   ],
   "source": [
    "nut = pd.read_csv('data/competition_data/comp_nut.csv')\n",
    "nut.component_type_id.value_counts()"
   ]
  },
  {
   "cell_type": "code",
   "execution_count": 14,
   "metadata": {
    "collapsed": false
   },
   "outputs": [],
   "source": [
    "other = pd.read_csv('data/competition_data/comp_other.csv')\n",
    "# no component_type_id"
   ]
  },
  {
   "cell_type": "code",
   "execution_count": 15,
   "metadata": {
    "collapsed": false
   },
   "outputs": [
    {
     "data": {
      "text/plain": [
       "CP-024    50\n",
       "dtype: int64"
      ]
     },
     "execution_count": 15,
     "metadata": {},
     "output_type": "execute_result"
    }
   ],
   "source": [
    "sleeve = pd.read_csv('data/competition_data/comp_sleeve.csv')\n",
    "sleeve.component_type_id.value_counts()"
   ]
  },
  {
   "cell_type": "code",
   "execution_count": 16,
   "metadata": {
    "collapsed": false
   },
   "outputs": [
    {
     "data": {
      "text/plain": [
       "CP-002    93\n",
       "CP-004    85\n",
       "CP-003    83\n",
       "CP-006    45\n",
       "CP-001    28\n",
       "CP-007    25\n",
       "CP-005     2\n",
       "dtype: int64"
      ]
     },
     "execution_count": 16,
     "metadata": {},
     "output_type": "execute_result"
    }
   ],
   "source": [
    "straight = pd.read_csv('data/competition_data/comp_straight.csv')\n",
    "straight.component_type_id.value_counts()"
   ]
  },
  {
   "cell_type": "code",
   "execution_count": 17,
   "metadata": {
    "collapsed": false
   },
   "outputs": [
    {
     "data": {
      "text/plain": [
       "OTHER    4\n",
       "dtype: int64"
      ]
     },
     "execution_count": 17,
     "metadata": {},
     "output_type": "execute_result"
    }
   ],
   "source": [
    "tee = pd.read_csv('data/competition_data/comp_tee.csv')\n",
    "tee.component_type_id.value_counts()"
   ]
  },
  {
   "cell_type": "code",
   "execution_count": 19,
   "metadata": {
    "collapsed": false
   },
   "outputs": [
    {
     "data": {
      "text/plain": [
       "CP-014    121\n",
       "CP-015     54\n",
       "CP-016     18\n",
       "CP-017      1\n",
       "dtype: int64"
      ]
     },
     "execution_count": 19,
     "metadata": {},
     "output_type": "execute_result"
    }
   ],
   "source": [
    "threaded = pd.read_csv('data/competition_data/comp_threaded.csv')\n",
    "threaded.component_type_id.value_counts()"
   ]
  },
  {
   "cell_type": "code",
   "execution_count": 70,
   "metadata": {
    "collapsed": false
   },
   "outputs": [
    {
     "data": {
      "text/plain": [
       "Index([u'component_id', u'part_name', u'weight'], dtype='object')"
      ]
     },
     "execution_count": 70,
     "metadata": {},
     "output_type": "execute_result"
    }
   ],
   "source": [
    "from soln.dataset import load_raw_components\n",
    "comp_types, group_dfs = load_raw_components()\n",
    "group_dfs['other'].columns"
   ]
  },
  {
   "cell_type": "code",
   "execution_count": 33,
   "metadata": {
    "collapsed": false,
    "scrolled": false
   },
   "outputs": [
    {
     "name": "stdout",
     "output_type": "stream",
     "text": [
      "11\n",
      "weight 11 ['threaded', 'sleeve', 'adaptor', 'nut', 'float', 'tee', 'boss', 'other', 'hfl', 'elbow', 'straight']\n",
      "component_id 11 ['threaded', 'sleeve', 'adaptor', 'nut', 'float', 'tee', 'boss', 'other', 'hfl', 'elbow', 'straight']\n",
      "orientation 10 ['threaded', 'sleeve', 'adaptor', 'nut', 'float', 'tee', 'boss', 'hfl', 'elbow', 'straight']\n",
      "component_type_id 10 ['threaded', 'sleeve', 'adaptor', 'nut', 'float', 'tee', 'boss', 'hfl', 'elbow', 'straight']\n",
      "unique_feature 7 ['threaded', 'sleeve', 'adaptor', 'tee', 'boss', 'elbow', 'straight']\n",
      "bolt_pattern_wide 5 ['float', 'tee', 'boss', 'elbow', 'straight']\n",
      "overall_length 5 ['threaded', 'adaptor', 'tee', 'elbow', 'straight']\n",
      "bolt_pattern_long 5 ['float', 'tee', 'boss', 'elbow', 'straight']\n",
      "thickness 4 ['float', 'tee', 'elbow', 'straight']\n",
      "groove 4 ['tee', 'boss', 'elbow', 'straight']\n",
      "mj_class_code 3 ['tee', 'elbow', 'straight']\n",
      "nominal_size_2 2 ['threaded', 'adaptor']\n",
      "nominal_size_1 2 ['threaded', 'adaptor']\n",
      "adaptor_angle 2 ['threaded', 'adaptor']\n",
      "connection_type_id 2 ['sleeve', 'boss']\n",
      "length 2 ['sleeve', 'nut']\n",
      "mj_plug_class_code 2 ['tee', 'elbow']\n",
      "hex_size 2 ['threaded', 'adaptor']\n",
      "connection_type_id_1 2 ['threaded', 'adaptor']\n",
      "connection_type_id_2 2 ['threaded', 'adaptor']\n",
      "thread_size_1 2 ['threaded', 'adaptor']\n",
      "thread_size_2 2 ['threaded', 'adaptor']\n",
      "plating 2 ['sleeve', 'hfl']\n",
      "end_form_id_1 2 ['threaded', 'adaptor']\n",
      "end_form_id_2 2 ['threaded', 'adaptor']\n",
      "extension_length 2 ['tee', 'elbow']\n",
      "drop_length 2 ['tee', 'elbow']\n",
      "length_1 2 ['threaded', 'adaptor']\n",
      "length_2 2 ['threaded', 'adaptor']\n",
      "thread_pitch_1 2 ['threaded', 'adaptor']\n",
      "thread_pitch_2 2 ['threaded', 'adaptor']\n",
      "diameter 1 ['nut']\n",
      "nominal_size_3 1 ['threaded']\n",
      "nominal_size_4 1 ['threaded']\n",
      "head_diameter 1 ['straight']\n",
      "type 1 ['boss']\n",
      "corresponding_shell 1 ['hfl']\n",
      "outside_shape 1 ['boss']\n",
      "base_diameter 1 ['boss']\n",
      "elbow_angle 1 ['elbow']\n",
      "base_type 1 ['boss']\n",
      "seat_angle 1 ['nut']\n",
      "thread_size_4 1 ['threaded']\n",
      "connection_type_id_3 1 ['threaded']\n",
      "connection_type_id_4 1 ['threaded']\n",
      "thread_size_3 1 ['threaded']\n",
      "material 1 ['hfl']\n",
      "coupling_class 1 ['hfl']\n",
      "thread_size 1 ['nut']\n",
      "intended_nut_pitch 1 ['sleeve']\n",
      "plug_diameter 1 ['elbow']\n",
      "end_form_id_3 1 ['threaded']\n",
      "hex_nut_size 1 ['nut']\n",
      "end_form_id_4 1 ['threaded']\n",
      "hose_diameter 1 ['hfl']\n",
      "thread_pitch 1 ['nut']\n",
      "shoulder_diameter 1 ['boss']\n",
      "part_name 1 ['other']\n",
      "intended_nut_thread 1 ['sleeve']\n",
      "blind_hole 1 ['nut']\n",
      "height_over_tube 1 ['boss']\n",
      "length_3 1 ['threaded']\n",
      "length_4 1 ['threaded']\n",
      "thread_pitch_4 1 ['threaded']\n",
      "thread_pitch_3 1 ['threaded']\n"
     ]
    }
   ],
   "source": [
    "# Look for columns that occur in multiple groups:\n",
    "\n",
    "from collections import defaultdict\n",
    "col_to_groups = defaultdict(list)\n",
    "for group_name, df in group_dfs.iteritems():\n",
    "    for col in df.columns:\n",
    "        col_to_groups[col].append(group_name)\n",
    "\n",
    "col_groups = col_to_groups.items()\n",
    "col_groups.sort(key=lambda (col, groups): len(groups), reverse=True)\n",
    "print len(group_dfs)\n",
    "for col, groups in col_groups:\n",
    "    print col, len(groups), groups"
   ]
  },
  {
   "cell_type": "code",
   "execution_count": 71,
   "metadata": {
    "collapsed": false
   },
   "outputs": [
    {
     "name": "stdout",
     "output_type": "stream",
     "text": [
      "<class 'pandas.core.frame.DataFrame'>\n",
      "Int64Index: 2047 entries, 0 to 360\n",
      "Data columns (total 10 columns):\n",
      "component_id          2047 non-null object\n",
      "component_group_id    2047 non-null object\n",
      "component_type_id     2047 non-null object\n",
      "end_form_id_2         219 non-null object\n",
      "end_form_id_3         19 non-null object\n",
      "end_form_id_4         1 non-null object\n",
      "orientation           2047 non-null bool\n",
      "weight                1976 non-null float64\n",
      "end_form_id_1         219 non-null object\n",
      "unique_feature        2047 non-null bool\n",
      "dtypes: bool(2), float64(1), object(7)\n",
      "memory usage: 147.9+ KB\n"
     ]
    }
   ],
   "source": [
    "from soln.dataset import get_component_info_df\n",
    "df = get_component_info_df(comp_types, group_dfs)\n",
    "df.info()"
   ]
  },
  {
   "cell_type": "code",
   "execution_count": 49,
   "metadata": {
    "collapsed": false
   },
   "outputs": [
    {
     "data": {
      "text/plain": [
       "False    1864\n",
       "True      183\n",
       "dtype: int64"
      ]
     },
     "execution_count": 49,
     "metadata": {},
     "output_type": "execute_result"
    }
   ],
   "source": [
    "df.unique_feature.value_counts()"
   ]
  },
  {
   "cell_type": "code",
   "execution_count": 75,
   "metadata": {
    "collapsed": false
   },
   "outputs": [
    {
     "data": {
      "text/html": [
       "<div>\n",
       "<table border=\"1\" class=\"dataframe\">\n",
       "  <thead>\n",
       "    <tr style=\"text-align: right;\">\n",
       "      <th></th>\n",
       "      <th>component_id</th>\n",
       "      <th>component_group_id</th>\n",
       "      <th>component_type_id</th>\n",
       "      <th>end_form_id_2</th>\n",
       "      <th>end_form_id_3</th>\n",
       "      <th>end_form_id_4</th>\n",
       "      <th>orientation</th>\n",
       "      <th>weight</th>\n",
       "      <th>end_form_id_1</th>\n",
       "      <th>unique_feature</th>\n",
       "    </tr>\n",
       "  </thead>\n",
       "  <tbody>\n",
       "    <tr>\n",
       "      <th>118</th>\n",
       "      <td>C-1641</td>\n",
       "      <td>threaded</td>\n",
       "      <td>CP-014</td>\n",
       "      <td>A-004</td>\n",
       "      <td>NaN</td>\n",
       "      <td>NaN</td>\n",
       "      <td>False</td>\n",
       "      <td>0.149</td>\n",
       "      <td>A-001</td>\n",
       "      <td>False</td>\n",
       "    </tr>\n",
       "    <tr>\n",
       "      <th>32</th>\n",
       "      <td>C-1631</td>\n",
       "      <td>sleeve</td>\n",
       "      <td>CP-024</td>\n",
       "      <td>None</td>\n",
       "      <td>None</td>\n",
       "      <td>None</td>\n",
       "      <td>False</td>\n",
       "      <td>0.026</td>\n",
       "      <td>None</td>\n",
       "      <td>True</td>\n",
       "    </tr>\n",
       "    <tr>\n",
       "      <th>1</th>\n",
       "      <td>C-1624</td>\n",
       "      <td>nut</td>\n",
       "      <td>CP-025</td>\n",
       "      <td>None</td>\n",
       "      <td>None</td>\n",
       "      <td>None</td>\n",
       "      <td>False</td>\n",
       "      <td>0.035</td>\n",
       "      <td>None</td>\n",
       "      <td>False</td>\n",
       "    </tr>\n",
       "  </tbody>\n",
       "</table>\n",
       "</div>"
      ],
      "text/plain": [
       "    component_id component_group_id component_type_id end_form_id_2  \\\n",
       "118       C-1641           threaded            CP-014         A-004   \n",
       "32        C-1631             sleeve            CP-024          None   \n",
       "1         C-1624                nut            CP-025          None   \n",
       "\n",
       "    end_form_id_3 end_form_id_4 orientation  weight end_form_id_1  \\\n",
       "118           NaN           NaN       False   0.149         A-001   \n",
       "32           None          None       False   0.026          None   \n",
       "1            None          None       False   0.035          None   \n",
       "\n",
       "    unique_feature  \n",
       "118          False  \n",
       "32            True  \n",
       "1            False  "
      ]
     },
     "execution_count": 75,
     "metadata": {},
     "output_type": "execute_result"
    }
   ],
   "source": [
    "cids = ['C-1624', 'C-1631', 'C-1641']\n",
    "df[df.component_id.isin(cids)]"
   ]
  },
  {
   "cell_type": "code",
   "execution_count": 77,
   "metadata": {
    "collapsed": false
   },
   "outputs": [
    {
     "data": {
      "text/html": [
       "<div>\n",
       "<table border=\"1\" class=\"dataframe\">\n",
       "  <thead>\n",
       "    <tr style=\"text-align: right;\">\n",
       "      <th></th>\n",
       "      <th>component_id</th>\n",
       "      <th>component_type_id</th>\n",
       "      <th>adaptor_angle</th>\n",
       "      <th>overall_length</th>\n",
       "      <th>hex_size</th>\n",
       "      <th>end_form_id_1</th>\n",
       "      <th>connection_type_id_1</th>\n",
       "      <th>length_1</th>\n",
       "      <th>thread_size_1</th>\n",
       "      <th>thread_pitch_1</th>\n",
       "      <th>nominal_size_1</th>\n",
       "      <th>end_form_id_2</th>\n",
       "      <th>connection_type_id_2</th>\n",
       "      <th>length_2</th>\n",
       "      <th>thread_size_2</th>\n",
       "      <th>thread_pitch_2</th>\n",
       "      <th>nominal_size_2</th>\n",
       "      <th>end_form_id_3</th>\n",
       "      <th>connection_type_id_3</th>\n",
       "      <th>length_3</th>\n",
       "      <th>thread_size_3</th>\n",
       "      <th>thread_pitch_3</th>\n",
       "      <th>nominal_size_3</th>\n",
       "      <th>end_form_id_4</th>\n",
       "      <th>connection_type_id_4</th>\n",
       "      <th>length_4</th>\n",
       "      <th>thread_size_4</th>\n",
       "      <th>thread_pitch_4</th>\n",
       "      <th>nominal_size_4</th>\n",
       "      <th>unique_feature</th>\n",
       "      <th>orientation</th>\n",
       "      <th>weight</th>\n",
       "    </tr>\n",
       "  </thead>\n",
       "  <tbody>\n",
       "    <tr>\n",
       "      <th>118</th>\n",
       "      <td>C-1641</td>\n",
       "      <td>CP-014</td>\n",
       "      <td>NaN</td>\n",
       "      <td>33.7</td>\n",
       "      <td>31.75</td>\n",
       "      <td>A-001</td>\n",
       "      <td>B-002</td>\n",
       "      <td>NaN</td>\n",
       "      <td>1.187</td>\n",
       "      <td>12</td>\n",
       "      <td>NaN</td>\n",
       "      <td>A-004</td>\n",
       "      <td>NaN</td>\n",
       "      <td>NaN</td>\n",
       "      <td>NaN</td>\n",
       "      <td>NaN</td>\n",
       "      <td>19.05</td>\n",
       "      <td>NaN</td>\n",
       "      <td>NaN</td>\n",
       "      <td>NaN</td>\n",
       "      <td>NaN</td>\n",
       "      <td>NaN</td>\n",
       "      <td>NaN</td>\n",
       "      <td>NaN</td>\n",
       "      <td>NaN</td>\n",
       "      <td>NaN</td>\n",
       "      <td>NaN</td>\n",
       "      <td>NaN</td>\n",
       "      <td>NaN</td>\n",
       "      <td>No</td>\n",
       "      <td>No</td>\n",
       "      <td>0.149</td>\n",
       "    </tr>\n",
       "  </tbody>\n",
       "</table>\n",
       "</div>"
      ],
      "text/plain": [
       "    component_id component_type_id  adaptor_angle  overall_length  hex_size  \\\n",
       "118       C-1641            CP-014            NaN            33.7     31.75   \n",
       "\n",
       "    end_form_id_1 connection_type_id_1  length_1  thread_size_1  \\\n",
       "118         A-001                B-002       NaN          1.187   \n",
       "\n",
       "     thread_pitch_1  nominal_size_1 end_form_id_2 connection_type_id_2  \\\n",
       "118              12             NaN         A-004                  NaN   \n",
       "\n",
       "     length_2  thread_size_2  thread_pitch_2  nominal_size_2 end_form_id_3  \\\n",
       "118       NaN            NaN             NaN           19.05           NaN   \n",
       "\n",
       "    connection_type_id_3  length_3  thread_size_3  thread_pitch_3  \\\n",
       "118                  NaN       NaN            NaN             NaN   \n",
       "\n",
       "     nominal_size_3 end_form_id_4 connection_type_id_4  length_4  \\\n",
       "118             NaN           NaN                  NaN       NaN   \n",
       "\n",
       "     thread_size_4  thread_pitch_4  nominal_size_4 unique_feature orientation  \\\n",
       "118            NaN             NaN             NaN             No          No   \n",
       "\n",
       "     weight  \n",
       "118   0.149  "
      ]
     },
     "execution_count": 77,
     "metadata": {},
     "output_type": "execute_result"
    }
   ],
   "source": [
    "tmp = group_dfs['threaded']\n",
    "tmp[tmp.component_id == 'C-1641']"
   ]
  },
  {
   "cell_type": "code",
   "execution_count": 78,
   "metadata": {
    "collapsed": false
   },
   "outputs": [
    {
     "data": {
      "text/html": [
       "<div>\n",
       "<table border=\"1\" class=\"dataframe\">\n",
       "  <thead>\n",
       "    <tr style=\"text-align: right;\">\n",
       "      <th></th>\n",
       "      <th>component_id</th>\n",
       "      <th>component_type_id</th>\n",
       "      <th>connection_type_id</th>\n",
       "      <th>length</th>\n",
       "      <th>intended_nut_thread</th>\n",
       "      <th>intended_nut_pitch</th>\n",
       "      <th>unique_feature</th>\n",
       "      <th>plating</th>\n",
       "      <th>orientation</th>\n",
       "      <th>weight</th>\n",
       "    </tr>\n",
       "  </thead>\n",
       "  <tbody>\n",
       "    <tr>\n",
       "      <th>32</th>\n",
       "      <td>C-1631</td>\n",
       "      <td>CP-024</td>\n",
       "      <td>B-002</td>\n",
       "      <td>9999</td>\n",
       "      <td>1.187</td>\n",
       "      <td>12</td>\n",
       "      <td>Yes</td>\n",
       "      <td>No</td>\n",
       "      <td>No</td>\n",
       "      <td>0.026</td>\n",
       "    </tr>\n",
       "  </tbody>\n",
       "</table>\n",
       "</div>"
      ],
      "text/plain": [
       "   component_id component_type_id connection_type_id  length  \\\n",
       "32       C-1631            CP-024              B-002    9999   \n",
       "\n",
       "    intended_nut_thread  intended_nut_pitch unique_feature plating  \\\n",
       "32                1.187                  12            Yes      No   \n",
       "\n",
       "   orientation  weight  \n",
       "32          No   0.026  "
      ]
     },
     "execution_count": 78,
     "metadata": {},
     "output_type": "execute_result"
    }
   ],
   "source": [
    "tmp = group_dfs['sleeve']\n",
    "tmp[tmp.component_id == 'C-1631']"
   ]
  },
  {
   "cell_type": "code",
   "execution_count": null,
   "metadata": {
    "collapsed": true
   },
   "outputs": [],
   "source": []
  }
 ],
 "metadata": {
  "kernelspec": {
   "display_name": "Python 2",
   "language": "python",
   "name": "python2"
  },
  "language_info": {
   "codemirror_mode": {
    "name": "ipython",
    "version": 2
   },
   "file_extension": ".py",
   "mimetype": "text/x-python",
   "name": "python",
   "nbconvert_exporter": "python",
   "pygments_lexer": "ipython2",
   "version": "2.7.3"
  }
 },
 "nbformat": 4,
 "nbformat_minor": 0
}
