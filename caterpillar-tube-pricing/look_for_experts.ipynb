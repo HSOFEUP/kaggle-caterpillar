{
 "cells": [
  {
   "cell_type": "code",
   "execution_count": 1,
   "metadata": {
    "collapsed": false
   },
   "outputs": [
    {
     "name": "stdout",
     "output_type": "stream",
     "text": [
      "Populating the interactive namespace from numpy and matplotlib\n"
     ]
    }
   ],
   "source": [
    "%pylab inline\n",
    "\n",
    "from sklearn.metrics import mean_squared_error\n",
    "import pandas as pd\n",
    "import xgboost as xgb\n",
    "\n",
    "from soln.dataset import AllCategoricalsFeaturizer\n",
    "from soln.dataset import generate_xv_splits\n",
    "from soln.dataset import get_augmented_train_and_test_set\n",
    "from soln.utils import eval_model\n",
    "from soln.utils import train_model\n",
    "\n",
    "pd.set_option('display.max_columns', None)"
   ]
  },
  {
   "cell_type": "code",
   "execution_count": 2,
   "metadata": {
    "collapsed": false
   },
   "outputs": [
    {
     "name": "stdout",
     "output_type": "stream",
     "text": [
      "CPU times: user 13.5 s, sys: 188 ms, total: 13.7 s\n",
      "Wall time: 14.2 s\n"
     ]
    }
   ],
   "source": [
    "%time aug_train_set, aug_test_set = get_augmented_train_and_test_set()"
   ]
  },
  {
   "cell_type": "code",
   "execution_count": 75,
   "metadata": {
    "collapsed": false
   },
   "outputs": [
    {
     "name": "stdout",
     "output_type": "stream",
     "text": [
      "CPU times: user 68 ms, sys: 4 ms, total: 72 ms\n",
      "Wall time: 73.1 ms\n",
      "(27270, 53) (27270,) (2943, 53) (2943,)\n"
     ]
    }
   ],
   "source": [
    "from itertools import islice\n",
    "fold_number = 0\n",
    "%time X_train, y_train, X_test, y_test = next(islice(generate_xv_splits(aug_train_set), fold_number, None))\n",
    "print X_train.shape, y_train.shape, X_test.shape, y_test.shape"
   ]
  },
  {
   "cell_type": "code",
   "execution_count": 76,
   "metadata": {
    "collapsed": true
   },
   "outputs": [],
   "source": [
    "# Layer 1: Everything.\n",
    "\n",
    "layer1_params = {\n",
    "    'objective': 'reg:linear',\n",
    "    'silent': 1,\n",
    "    'num_rounds': 1000,\n",
    "    'gamma': 0.0,\n",
    "    'eta': 0.02,\n",
    "    'max_depth': 8,\n",
    "    'min_child_weight': 6,\n",
    "    'subsample': 0.7,\n",
    "    'colsample_bytree': 0.6,\n",
    "}\n",
    "\n",
    "def layer1_get_indices(X):\n",
    "    return np.ones(len(X), dtype=bool)"
   ]
  },
  {
   "cell_type": "code",
   "execution_count": 77,
   "metadata": {
    "collapsed": false
   },
   "outputs": [
    {
     "name": "stdout",
     "output_type": "stream",
     "text": [
      "CPU times: user 2min 39s, sys: 884 ms, total: 2min 40s\n",
      "Wall time: 1min 36s\n"
     ]
    }
   ],
   "source": [
    "layer1_featurizer = AllCategoricalsFeaturizer()\n",
    "%time layer1 = train_model(layer1_params, layer1_get_indices, layer1_featurizer, X_train, y_train)"
   ]
  },
  {
   "cell_type": "code",
   "execution_count": 78,
   "metadata": {
    "collapsed": false
   },
   "outputs": [
    {
     "name": "stdout",
     "output_type": "stream",
     "text": [
      "Train on everything, test on everything:\n",
      "(27270, 53)\n",
      "(27270, 53)\n",
      "(2943, 53)\n",
      "train RMSLE 0.124960740984\n",
      "test RMSLE 0.227403087285\n"
     ]
    }
   ],
   "source": [
    "layer1_train_results = eval_model(layer1['model'], layer1_get_indices, layer1_featurizer, X_train, y_train)\n",
    "layer1_test_results = eval_model(layer1['model'], layer1_get_indices, layer1_featurizer, X_test, y_test)\n",
    "print \"Train on everything, test on everything:\"\n",
    "print layer1['X_train'].shape\n",
    "print layer1_train_results['X_eval'].shape\n",
    "print layer1_test_results['X_eval'].shape\n",
    "print \"train RMSLE\", layer1_train_results['rmsle']\n",
    "print \"test RMSLE\", layer1_test_results['rmsle']"
   ]
  },
  {
   "cell_type": "code",
   "execution_count": 79,
   "metadata": {
    "collapsed": true
   },
   "outputs": [],
   "source": [
    "# LEFT TODO: infra for storing layer1 models for each fold, instead of retraining..."
   ]
  },
  {
   "cell_type": "code",
   "execution_count": 80,
   "metadata": {
    "collapsed": false
   },
   "outputs": [],
   "source": [
    "# New layer:\n",
    "\n",
    "new_layer_params = {\n",
    "    'objective': 'reg:linear',\n",
    "    'silent': 1,\n",
    "    'num_rounds': 1000,\n",
    "    'gamma': 0.0,\n",
    "    'eta': 0.02,\n",
    "    'max_depth': 8,\n",
    "    'min_child_weight': 6,\n",
    "    'subsample': 0.7,\n",
    "    'colsample_bytree': 0.6,\n",
    "}\n",
    "\n",
    "def new_layer_get_indices(X):\n",
    "    return (X.supplier == 'S-0041')"
   ]
  },
  {
   "cell_type": "code",
   "execution_count": 81,
   "metadata": {
    "collapsed": false
   },
   "outputs": [
    {
     "name": "stdout",
     "output_type": "stream",
     "text": [
      "CPU times: user 18.9 s, sys: 76 ms, total: 18.9 s\n",
      "Wall time: 11 s\n"
     ]
    }
   ],
   "source": [
    "new_layer_featurizer = AllCategoricalsFeaturizer()\n",
    "%time new_layer = train_model(new_layer_params, new_layer_get_indices, new_layer_featurizer, X_train, y_train)"
   ]
  },
  {
   "cell_type": "code",
   "execution_count": 82,
   "metadata": {
    "collapsed": false
   },
   "outputs": [
    {
     "name": "stdout",
     "output_type": "stream",
     "text": [
      "Train on everything, test on new layer:\n",
      "(331, 53)\n",
      "test RMSLE 0.158136060823\n"
     ]
    }
   ],
   "source": [
    "print \"Train on everything, test on new layer:\"\n",
    "tmp = eval_model(layer1['model'], new_layer_get_indices, layer1_featurizer, X_test, y_test)\n",
    "print tmp['X_eval'].shape\n",
    "print \"test RMSLE\", tmp['rmsle']"
   ]
  },
  {
   "cell_type": "code",
   "execution_count": 83,
   "metadata": {
    "collapsed": false
   },
   "outputs": [
    {
     "name": "stdout",
     "output_type": "stream",
     "text": [
      "Train on new layer, test on new layer:\n",
      "(2992, 53)\n",
      "(2992, 53)\n",
      "(331, 53)\n",
      "train RMSLE 0.0480268262385\n",
      "test RMSLE 0.134651303418\n"
     ]
    }
   ],
   "source": [
    "new_layer_train_results = eval_model(new_layer['model'], new_layer_get_indices, new_layer_featurizer, X_train, y_train)\n",
    "new_layer_test_results = eval_model(new_layer['model'], new_layer_get_indices, new_layer_featurizer, X_test, y_test)\n",
    "print \"Train on new layer, test on new layer:\"\n",
    "print new_layer['X_train'].shape\n",
    "print new_layer_train_results['X_eval'].shape\n",
    "print new_layer_test_results['X_eval'].shape\n",
    "print \"train RMSLE\", new_layer_train_results['rmsle']\n",
    "print \"test RMSLE\", new_layer_test_results['rmsle']"
   ]
  },
  {
   "cell_type": "code",
   "execution_count": 48,
   "metadata": {
    "collapsed": false
   },
   "outputs": [
    {
     "data": {
      "text/plain": [
       "S-0066    0.679577\n",
       "S-0041    0.103456\n",
       "S-0072    0.077261\n",
       "S-0054    0.031784\n",
       "S-0026    0.025930\n",
       "S-0013    0.020241\n",
       "S-0058    0.017298\n",
       "S-0064    0.014685\n",
       "S-0062    0.007673\n",
       "S-0014    0.004101\n",
       "S-0030    0.003737\n",
       "S-0104    0.002712\n",
       "S-0081    0.001654\n",
       "S-0105    0.001191\n",
       "S-0042    0.001091\n",
       "S-0059    0.000827\n",
       "S-0005    0.000661\n",
       "S-0070    0.000628\n",
       "S-0031    0.000562\n",
       "S-0008    0.000463\n",
       "S-0080    0.000397\n",
       "S-0027    0.000364\n",
       "S-0074    0.000331\n",
       "S-0088    0.000298\n",
       "S-0043    0.000232\n",
       "S-0056    0.000232\n",
       "S-0018    0.000198\n",
       "S-0073    0.000198\n",
       "S-0092    0.000198\n",
       "S-0060    0.000198\n",
       "S-0011    0.000165\n",
       "S-0033    0.000165\n",
       "S-0050    0.000132\n",
       "S-0009    0.000132\n",
       "S-0051    0.000132\n",
       "S-0015    0.000132\n",
       "S-0090    0.000099\n",
       "S-0012    0.000099\n",
       "S-0061    0.000099\n",
       "S-0007    0.000066\n",
       "S-0004    0.000066\n",
       "S-0040    0.000066\n",
       "S-0108    0.000033\n",
       "S-0077    0.000033\n",
       "S-0069    0.000033\n",
       "S-0091    0.000033\n",
       "S-0076    0.000033\n",
       "S-0078    0.000033\n",
       "S-0087    0.000033\n",
       "S-0006    0.000033\n",
       "S-0028    0.000033\n",
       "S-0023    0.000033\n",
       "S-0039    0.000033\n",
       "S-0036    0.000033\n",
       "S-0046    0.000033\n",
       "S-0068    0.000033\n",
       "dtype: float64"
      ]
     },
     "execution_count": 48,
     "metadata": {},
     "output_type": "execute_result"
    }
   ],
   "source": [
    "aug_test_set.supplier.value_counts(normalize=True)"
   ]
  },
  {
   "cell_type": "code",
   "execution_count": null,
   "metadata": {
    "collapsed": true
   },
   "outputs": [],
   "source": []
  }
 ],
 "metadata": {
  "kernelspec": {
   "display_name": "Python 2",
   "language": "python",
   "name": "python2"
  },
  "language_info": {
   "codemirror_mode": {
    "name": "ipython",
    "version": 2
   },
   "file_extension": ".py",
   "mimetype": "text/x-python",
   "name": "python",
   "nbconvert_exporter": "python",
   "pygments_lexer": "ipython2",
   "version": "2.7.3"
  }
 },
 "nbformat": 4,
 "nbformat_minor": 0
}
