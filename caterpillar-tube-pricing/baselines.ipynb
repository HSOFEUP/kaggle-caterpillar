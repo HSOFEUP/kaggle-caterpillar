{
 "cells": [
  {
   "cell_type": "code",
   "execution_count": 15,
   "metadata": {
    "collapsed": false
   },
   "outputs": [
    {
     "name": "stdout",
     "output_type": "stream",
     "text": [
      "Populating the interactive namespace from numpy and matplotlib\n"
     ]
    }
   ],
   "source": [
    "%pylab inline\n",
    "\n",
    "import pandas as pd\n",
    "from sklearn.cross_validation import KFold"
   ]
  },
  {
   "cell_type": "code",
   "execution_count": 6,
   "metadata": {
    "collapsed": true
   },
   "outputs": [],
   "source": [
    "# A dummy model that always predicts a price of zero.\n",
    "\n",
    "class AllZerosLearner(object):\n",
    "    def learn(self, train_set):\n",
    "        pass\n",
    "    \n",
    "    def predict(self, test_set):\n",
    "        return np.zeros(len(test_set))"
   ]
  },
  {
   "cell_type": "code",
   "execution_count": 7,
   "metadata": {
    "collapsed": false
   },
   "outputs": [],
   "source": [
    "# A dummy model that always predicts the average prices from the train set.\n",
    "\n",
    "class AveragePriceLearner(object):\n",
    "    def __init__(self):\n",
    "        self.avg_price = None\n",
    "        \n",
    "    def learn(self, train_set):\n",
    "        self.avg_price = train_set['cost'].mean()\n",
    "    \n",
    "    def predict(self, test_set):\n",
    "        return np.ones(len(test_set)) * self.avg_price"
   ]
  },
  {
   "cell_type": "code",
   "execution_count": 10,
   "metadata": {
    "collapsed": true
   },
   "outputs": [],
   "source": [
    "# The loss function for this problem. Lower is better; zero is perfect.\n",
    "\n",
    "def calc_loss(true_prices, predicted_prices):\n",
    "    assert len(true_prices) == len(predicted_prices)\n",
    "    square_log_errs = (np.log(predicted_prices + 1) - np.log(true_prices + 1)) ** 2\n",
    "    return np.sqrt(np.mean(square_log_errs))"
   ]
  },
  {
   "cell_type": "code",
   "execution_count": 17,
   "metadata": {
    "collapsed": true
   },
   "outputs": [],
   "source": [
    "def cross_validation_eval(learner_cls, train_set, label_col, folds=10):\n",
    "    \"\"\"\n",
    "    Evaluate the given model by cross validation.\n",
    "    \n",
    "    Returns the loss value for each fold.\n",
    "    \"\"\"\n",
    "    perm = np.random.permutation(np.arange(len(train_set)))\n",
    "    shuffled_train_set = train_set.iloc[perm]\n",
    "    losses = []\n",
    "    kf = KFold(len(train_set), n_folds=folds)\n",
    "    for train_is, test_is in kf:\n",
    "        train_subset = shuffled_train_set.iloc[train_is]\n",
    "        test_subset = shuffled_train_set.iloc[test_is]\n",
    "        true_vals = test_subset[label_col]\n",
    "        test_subset = test_subset.drop(label_col, 1)\n",
    "        model = learner_cls()\n",
    "        model.learn(train_subset)\n",
    "        pred_vals = model.predict(test_subset)\n",
    "        loss = calc_loss(true_vals, pred_vals)\n",
    "        losses.append(loss)\n",
    "    return np.array(losses)"
   ]
  },
  {
   "cell_type": "code",
   "execution_count": 21,
   "metadata": {
    "collapsed": false
   },
   "outputs": [
    {
     "name": "stdout",
     "output_type": "stream",
     "text": [
      "AllZerosLearner: loss avg 2.34938711252 std 0.014116188699\n",
      "AveragePriceLearner: loss avg 0.947495320102 std 0.0073931384397\n"
     ]
    }
   ],
   "source": [
    "# Evaluate baselines.\n",
    "\n",
    "learner_classes = (AllZerosLearner, AveragePriceLearner)\n",
    "train_set = pd.read_csv('data/competition_data/train_set.csv')\n",
    "for learner_cls in learner_classes:\n",
    "    losses = cross_validation_eval(learner_cls, train_set, 'cost')\n",
    "    print \"{}: loss avg {} std {}\".format(\n",
    "        learner_cls.__name__, np.mean(losses), np.std(losses))\n",
    "    # print \"    losses:\", losses"
   ]
  },
  {
   "cell_type": "code",
   "execution_count": null,
   "metadata": {
    "collapsed": true
   },
   "outputs": [],
   "source": []
  }
 ],
 "metadata": {
  "kernelspec": {
   "display_name": "Python 2",
   "language": "python",
   "name": "python2"
  },
  "language_info": {
   "codemirror_mode": {
    "name": "ipython",
    "version": 2
   },
   "file_extension": ".py",
   "mimetype": "text/x-python",
   "name": "python",
   "nbconvert_exporter": "python",
   "pygments_lexer": "ipython2",
   "version": "2.7.3"
  }
 },
 "nbformat": 4,
 "nbformat_minor": 0
}
