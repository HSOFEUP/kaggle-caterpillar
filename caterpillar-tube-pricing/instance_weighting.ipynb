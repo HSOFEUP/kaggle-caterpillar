{
 "cells": [
  {
   "cell_type": "code",
   "execution_count": 6,
   "metadata": {
    "collapsed": false
   },
   "outputs": [
    {
     "name": "stdout",
     "output_type": "stream",
     "text": [
      "Populating the interactive namespace from numpy and matplotlib\n"
     ]
    }
   ],
   "source": [
    "%pylab inline\n",
    "\n",
    "from sklearn.metrics import mean_squared_error\n",
    "import pandas as pd\n",
    "import xgboost as xgb\n",
    "\n",
    "from soln import expert_params\n",
    "from soln.dataset import AllCategoricalsFeaturizer\n",
    "from soln.dataset import generate_xv_splits\n",
    "from soln.dataset import get_augmented_train_and_test_set\n",
    "from soln.utils import eval_model\n",
    "from soln.utils import train_model\n",
    "\n",
    "pd.set_option('display.max_columns', None)"
   ]
  },
  {
   "cell_type": "code",
   "execution_count": 2,
   "metadata": {
    "collapsed": false
   },
   "outputs": [
    {
     "name": "stdout",
     "output_type": "stream",
     "text": [
      "CPU times: user 13.3 s, sys: 148 ms, total: 13.5 s\n",
      "Wall time: 13.6 s\n"
     ]
    }
   ],
   "source": [
    "%time aug_train_set, aug_test_set = get_augmented_train_and_test_set()"
   ]
  },
  {
   "cell_type": "code",
   "execution_count": 3,
   "metadata": {
    "collapsed": false
   },
   "outputs": [
    {
     "name": "stdout",
     "output_type": "stream",
     "text": [
      "CPU times: user 80 ms, sys: 44 ms, total: 124 ms\n",
      "Wall time: 132 ms\n",
      "(27270, 53) (27270,) (2943, 53) (2943,)\n"
     ]
    }
   ],
   "source": [
    "from itertools import islice\n",
    "fold_number = 0\n",
    "%time X_train, y_train, X_test, y_test = next(islice(generate_xv_splits(aug_train_set), fold_number, None))\n",
    "print X_train.shape, y_train.shape, X_test.shape, y_test.shape"
   ]
  },
  {
   "cell_type": "code",
   "execution_count": 36,
   "metadata": {
    "collapsed": true
   },
   "outputs": [],
   "source": [
    "expert_name = 'uncommon_suppliers_1'\n",
    "expert_get_indices = expert_params.uncommon_suppliers_1_get_indices\n",
    "expert_params = expert_params.uncommon_suppliers_1_params"
   ]
  },
  {
   "cell_type": "code",
   "execution_count": 37,
   "metadata": {
    "collapsed": false
   },
   "outputs": [
    {
     "name": "stdout",
     "output_type": "stream",
     "text": [
      "CPU times: user 20.8 s, sys: 32 ms, total: 20.9 s\n",
      "Wall time: 12.7 s\n"
     ]
    }
   ],
   "source": [
    "featurizer = AllCategoricalsFeaturizer()\n",
    "%time layer = train_model(expert_params, expert_get_indices, featurizer, X_train, y_train)"
   ]
  },
  {
   "cell_type": "code",
   "execution_count": 38,
   "metadata": {
    "collapsed": false
   },
   "outputs": [
    {
     "name": "stdout",
     "output_type": "stream",
     "text": [
      "Train on uncommon_suppliers_1, test on uncommon_suppliers_1:\n",
      "(325, 53)\n",
      "test RMSLE 0.395571643059\n"
     ]
    }
   ],
   "source": [
    "tmp = eval_model(layer['model'], expert_get_indices, featurizer, X_test, y_test)\n",
    "print \"Train on {}, test on {}:\".format(expert_name, expert_name)\n",
    "print tmp['X_eval'].shape\n",
    "print \"test RMSLE\", tmp['rmsle']"
   ]
  },
  {
   "cell_type": "code",
   "execution_count": 79,
   "metadata": {
    "collapsed": false
   },
   "outputs": [
    {
     "name": "stdout",
     "output_type": "stream",
     "text": [
      "0.05    24413\n",
      "8.00     2857\n",
      "dtype: int64\n"
     ]
    }
   ],
   "source": [
    "# Try training layer on all instances, but assigning higher weights to the layer's instances.\n",
    "\n",
    "low_weight = 0.05\n",
    "high_weight = 8.0\n",
    "high_weight_is = expert_get_indices(X_train)\n",
    "weights = pd.Series(np.ones(len(X_train)) * low_weight)\n",
    "weights[high_weight_is] = high_weight\n",
    "print weights.value_counts()\n",
    "\n",
    "featurizer2 = AllCategoricalsFeaturizer()\n",
    "featurizer2.fit(X_train)\n",
    "X_train_feats = featurizer2.transform(X_train)\n",
    "X_train_np = X_train_feats.astype(np.float).values\n",
    "y_train_np = y_train.values\n",
    "xgtrain = xgb.DMatrix(X_train_np, label=y_train_np, weight=weights.values)"
   ]
  },
  {
   "cell_type": "code",
   "execution_count": 80,
   "metadata": {
    "collapsed": false
   },
   "outputs": [
    {
     "name": "stdout",
     "output_type": "stream",
     "text": [
      "CPU times: user 2min 33s, sys: 408 ms, total: 2min 33s\n",
      "Wall time: 1min 26s\n"
     ]
    }
   ],
   "source": [
    "%time model = xgb.train(expert_params.items(), xgtrain, expert_params['num_rounds'])"
   ]
  },
  {
   "cell_type": "code",
   "execution_count": 81,
   "metadata": {
    "collapsed": false
   },
   "outputs": [
    {
     "name": "stdout",
     "output_type": "stream",
     "text": [
      "Train on weighted, test on s66:\n",
      "(325, 53)\n",
      "test RMSLE 0.391161014352\n"
     ]
    }
   ],
   "source": [
    "test_results = eval_model(model, expert_get_indices, featurizer2, X_test, y_test)\n",
    "print \"Train on weighted, test on s66:\"\n",
    "print test_results['X_eval'].shape\n",
    "print \"test RMSLE\", test_results['rmsle']"
   ]
  },
  {
   "cell_type": "code",
   "execution_count": null,
   "metadata": {
    "collapsed": true
   },
   "outputs": [],
   "source": []
  }
 ],
 "metadata": {
  "kernelspec": {
   "display_name": "Python 2",
   "language": "python",
   "name": "python2"
  },
  "language_info": {
   "codemirror_mode": {
    "name": "ipython",
    "version": 2
   },
   "file_extension": ".py",
   "mimetype": "text/x-python",
   "name": "python",
   "nbconvert_exporter": "python",
   "pygments_lexer": "ipython2",
   "version": "2.7.3"
  }
 },
 "nbformat": 4,
 "nbformat_minor": 0
}
