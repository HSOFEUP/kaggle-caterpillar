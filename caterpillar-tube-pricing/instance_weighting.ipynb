{
 "cells": [
  {
   "cell_type": "code",
   "execution_count": 1,
   "metadata": {
    "collapsed": false
   },
   "outputs": [
    {
     "name": "stdout",
     "output_type": "stream",
     "text": [
      "Populating the interactive namespace from numpy and matplotlib\n"
     ]
    }
   ],
   "source": [
    "%pylab inline\n",
    "\n",
    "from sklearn.metrics import mean_squared_error\n",
    "import pandas as pd\n",
    "import xgboost as xgb\n",
    "\n",
    "from soln.dataset import AllCategoricalsFeaturizer\n",
    "from soln.dataset import generate_xv_splits\n",
    "from soln.dataset import get_augmented_train_and_test_set\n",
    "from soln.utils import eval_model\n",
    "from soln.utils import train_model\n",
    "\n",
    "pd.set_option('display.max_columns', None)"
   ]
  },
  {
   "cell_type": "code",
   "execution_count": 2,
   "metadata": {
    "collapsed": false
   },
   "outputs": [
    {
     "name": "stdout",
     "output_type": "stream",
     "text": [
      "CPU times: user 13.5 s, sys: 196 ms, total: 13.7 s\n",
      "Wall time: 13.9 s\n"
     ]
    }
   ],
   "source": [
    "%time aug_train_set, aug_test_set = get_augmented_train_and_test_set()"
   ]
  },
  {
   "cell_type": "code",
   "execution_count": 3,
   "metadata": {
    "collapsed": false
   },
   "outputs": [
    {
     "name": "stdout",
     "output_type": "stream",
     "text": [
      "CPU times: user 88 ms, sys: 40 ms, total: 128 ms\n",
      "Wall time: 125 ms\n",
      "(27270, 53) (27270,) (2943, 53) (2943,)\n"
     ]
    }
   ],
   "source": [
    "from itertools import islice\n",
    "fold_number = 0\n",
    "%time X_train, y_train, X_test, y_test = next(islice(generate_xv_splits(aug_train_set), fold_number, None))\n",
    "print X_train.shape, y_train.shape, X_test.shape, y_test.shape"
   ]
  },
  {
   "cell_type": "code",
   "execution_count": 4,
   "metadata": {
    "collapsed": true
   },
   "outputs": [],
   "source": [
    "# Layer 2: Uncommon brackets.\n",
    "\n",
    "layer2_params = {\n",
    "    'objective': 'reg:linear',\n",
    "    'silent': 1,\n",
    "    'num_rounds': 1000,\n",
    "    'gamma': 0.0,\n",
    "    'eta': 0.02,\n",
    "    'max_depth': 8,\n",
    "    'min_child_weight': 6,\n",
    "    'subsample': 0.7,\n",
    "    'colsample_bytree': 0.6,\n",
    "}\n",
    "\n",
    "common_brackets = [\n",
    "    (1, 2, 5, 10, 25, 50, 100, 250),\n",
    "    (1, 6, 20),\n",
    "    (1, 2, 3, 5, 10, 20),\n",
    "    (1, 2, 5, 10, 25, 50, 100),\n",
    "    (5, 19, 20),\n",
    "]\n",
    "\n",
    "def layer2_get_indices(X):\n",
    "    return ~X.bracketing_pattern.isin(common_brackets)"
   ]
  },
  {
   "cell_type": "code",
   "execution_count": 5,
   "metadata": {
    "collapsed": false
   },
   "outputs": [
    {
     "name": "stdout",
     "output_type": "stream",
     "text": [
      "CPU times: user 1min, sys: 428 ms, total: 1min\n",
      "Wall time: 39.9 s\n"
     ]
    }
   ],
   "source": [
    "layer2_featurizer = AllCategoricalsFeaturizer()\n",
    "%time layer2 = train_model(layer2_params, layer2_get_indices, layer2_featurizer, X_train, y_train)"
   ]
  },
  {
   "cell_type": "code",
   "execution_count": 6,
   "metadata": {
    "collapsed": false
   },
   "outputs": [
    {
     "name": "stdout",
     "output_type": "stream",
     "text": [
      "Train on uncommon brackets, test on uncommon brackets:\n",
      "(8221, 53)\n",
      "(8221, 53)\n",
      "(987, 53)\n",
      "train RMSLE 0.163275589812\n",
      "test RMSLE 0.345135857409\n"
     ]
    }
   ],
   "source": [
    "layer2_train_results = eval_model(layer2['model'], layer2_get_indices, layer2_featurizer, X_train, y_train)\n",
    "layer2_test_results = eval_model(layer2['model'], layer2_get_indices, layer2_featurizer, X_test, y_test)\n",
    "print \"Train on uncommon brackets, test on uncommon brackets:\"\n",
    "print layer2['X_train'].shape\n",
    "print layer2_train_results['X_eval'].shape\n",
    "print layer2_test_results['X_eval'].shape\n",
    "print \"train RMSLE\", layer2_train_results['rmsle']\n",
    "print \"test RMSLE\", layer2_test_results['rmsle']"
   ]
  },
  {
   "cell_type": "code",
   "execution_count": 73,
   "metadata": {
    "collapsed": false
   },
   "outputs": [
    {
     "name": "stdout",
     "output_type": "stream",
     "text": [
      "0.1     19049\n",
      "16.0     8221\n",
      "dtype: int64\n"
     ]
    }
   ],
   "source": [
    "# Try training layer2 on all instances, but assigning higher weights to the uncommon brackets.\n",
    "\n",
    "low_weight = 0.1\n",
    "high_weight = 16.0\n",
    "high_weight_is = layer2_get_indices(X_train)\n",
    "weights = pd.Series(np.ones(len(X_train)) * low_weight)\n",
    "weights[high_weight_is] = high_weight\n",
    "print weights.value_counts()\n",
    "\n",
    "featurizer = AllCategoricalsFeaturizer()\n",
    "featurizer.fit(X_train)\n",
    "X_train_feats = featurizer.transform(X_train)\n",
    "X_train_np = X_train_feats.astype(np.float).values\n",
    "y_train_np = y_train.values\n",
    "xgtrain = xgb.DMatrix(X_train_np, label=y_train_np, weight=weights.values)"
   ]
  },
  {
   "cell_type": "code",
   "execution_count": 74,
   "metadata": {
    "collapsed": false
   },
   "outputs": [
    {
     "name": "stdout",
     "output_type": "stream",
     "text": [
      "CPU times: user 2min 37s, sys: 412 ms, total: 2min 38s\n",
      "Wall time: 1min 32s\n"
     ]
    }
   ],
   "source": [
    "%time model = xgb.train(layer2_params.items(), xgtrain, layer2_params['num_rounds'])"
   ]
  },
  {
   "cell_type": "code",
   "execution_count": 75,
   "metadata": {
    "collapsed": false
   },
   "outputs": [
    {
     "name": "stdout",
     "output_type": "stream",
     "text": [
      "Train on weigh, test on uncommon brackets:\n",
      "(987, 53)\n",
      "test RMSLE 0.349621353972\n"
     ]
    }
   ],
   "source": [
    "test_results = eval_model(model, layer2_get_indices, featurizer, X_test, y_test)\n",
    "print \"Train on weigh, test on uncommon brackets:\"\n",
    "print test_results['X_eval'].shape\n",
    "print \"test RMSLE\", test_results['rmsle']"
   ]
  },
  {
   "cell_type": "code",
   "execution_count": null,
   "metadata": {
    "collapsed": true
   },
   "outputs": [],
   "source": []
  }
 ],
 "metadata": {
  "kernelspec": {
   "display_name": "Python 2",
   "language": "python",
   "name": "python2"
  },
  "language_info": {
   "codemirror_mode": {
    "name": "ipython",
    "version": 2
   },
   "file_extension": ".py",
   "mimetype": "text/x-python",
   "name": "python",
   "nbconvert_exporter": "python",
   "pygments_lexer": "ipython2",
   "version": "2.7.3"
  }
 },
 "nbformat": 4,
 "nbformat_minor": 0
}
