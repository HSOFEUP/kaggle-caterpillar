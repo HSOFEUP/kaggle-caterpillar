{
 "cells": [
  {
   "cell_type": "code",
   "execution_count": 11,
   "metadata": {
    "collapsed": false
   },
   "outputs": [
    {
     "name": "stdout",
     "output_type": "stream",
     "text": [
      "Populating the interactive namespace from numpy and matplotlib\n"
     ]
    }
   ],
   "source": [
    "%pylab inline\n",
    "\n",
    "import pandas as pd\n",
    "\n",
    "from soln.dataset import get_dev_split\n",
    "from soln.dataset import get_extended_X\n",
    "from soln.dataset import load_raw_data\n",
    "from soln.dataset import log_transform_y\n",
    "\n",
    "raw = load_raw_data()\n",
    "X_train, y_train, X_test, y_test = get_dev_split(raw)\n",
    "X_train = get_extended_X(X_train, raw)\n",
    "X_test = get_extended_X(X_test, raw)\n",
    "y_train = log_transform_y(y_train)\n",
    "y_test = log_transform_y(y_test)"
   ]
  },
  {
   "cell_type": "code",
   "execution_count": 48,
   "metadata": {
    "collapsed": false
   },
   "outputs": [
    {
     "data": {
      "text/plain": [
       "['supplier other',\n",
       " 'supplier S-0042',\n",
       " 'supplier S-0005',\n",
       " 'supplier S-0026',\n",
       " 'supplier S-0027',\n",
       " 'supplier S-0072',\n",
       " 'supplier S-0062',\n",
       " 'supplier S-0064',\n",
       " 'supplier S-0043',\n",
       " 'supplier S-0066',\n",
       " 'supplier S-0041',\n",
       " 'supplier S-0105',\n",
       " 'supplier S-0080',\n",
       " 'supplier S-0081',\n",
       " 'supplier S-0104',\n",
       " 'supplier S-0013',\n",
       " 'supplier S-0014',\n",
       " 'supplier S-0070',\n",
       " 'supplier S-0018',\n",
       " 'supplier S-0031',\n",
       " 'supplier S-0030',\n",
       " 'supplier S-0058',\n",
       " 'supplier S-0054',\n",
       " 'supplier S-0092',\n",
       " 'material_id other',\n",
       " 'material_id nan',\n",
       " 'material_id SP-0046',\n",
       " 'material_id SP-0041',\n",
       " 'material_id SP-0033',\n",
       " 'material_id SP-0048',\n",
       " 'material_id SP-0034',\n",
       " 'material_id SP-0035',\n",
       " 'material_id SP-0036',\n",
       " 'material_id SP-0037',\n",
       " 'material_id SP-0030',\n",
       " 'material_id SP-0019',\n",
       " 'material_id SP-0008',\n",
       " 'material_id SP-0038',\n",
       " 'material_id SP-0039',\n",
       " 'material_id SP-0029',\n",
       " 'material_id SP-0028',\n",
       " 'specs other',\n",
       " 'specs SP-0065',\n",
       " 'specs SP-0002',\n",
       " 'specs SP-0050',\n",
       " 'specs SP-0051',\n",
       " 'specs SP-0057',\n",
       " 'specs SP-0058',\n",
       " 'specs SP-0079',\n",
       " 'specs SP-0024',\n",
       " 'specs SP-0070',\n",
       " 'specs SP-0017',\n",
       " 'specs SP-0072',\n",
       " 'specs SP-0016',\n",
       " 'specs SP-0012',\n",
       " 'specs SP-0013',\n",
       " 'specs SP-0076',\n",
       " 'specs SP-0022',\n",
       " 'specs SP-0021',\n",
       " 'specs SP-0063',\n",
       " 'specs SP-0071',\n",
       " 'specs SP-0088',\n",
       " 'specs SP-0047',\n",
       " 'specs SP-0080',\n",
       " 'specs SP-0082',\n",
       " 'specs SP-0062',\n",
       " 'specs SP-0010',\n",
       " 'specs SP-0075',\n",
       " 'specs SP-0026',\n",
       " 'specs SP-0069',\n",
       " 'specs SP-0068',\n",
       " 'specs SP-0005',\n",
       " 'specs SP-0004',\n",
       " 'specs SP-0007',\n",
       " 'specs SP-0009',\n",
       " 'specs SP-0061',\n",
       " 'specs SP-0067',\n",
       " 'specs SP-0029',\n",
       " 'annual_usage',\n",
       " 'min_order_quantity',\n",
       " 'quantity',\n",
       " 'diameter',\n",
       " 'length',\n",
       " 'num_bends',\n",
       " 'bend_radius',\n",
       " 'num_boss',\n",
       " 'num_bracket',\n",
       " 'wall_thickness',\n",
       " 'num_other',\n",
       " 'end_a_2x',\n",
       " 'end_x_1x',\n",
       " 'bracket_pricing',\n",
       " 'end_a_1x',\n",
       " 'end_x_2x']"
      ]
     },
     "execution_count": 48,
     "metadata": {},
     "output_type": "execute_result"
    }
   ],
   "source": [
    "from soln.featurizer import CustomFeaturizer\n",
    "featurizer = CustomFeaturizer()\n",
    "featurizer.fit(X_train)\n",
    "X_train_feats = featurizer.transform(X_train)\n",
    "X_test_feats = featurizer.transform(X_test)\n",
    "list(X_train_feats.columns)"
   ]
  },
  {
   "cell_type": "code",
   "execution_count": 49,
   "metadata": {
    "collapsed": false
   },
   "outputs": [],
   "source": [
    "X_train_np = X_train_feats.astype(np.float).values\n",
    "X_test_np = X_test_feats.astype(np.float).values\n",
    "y_train_np = y_train.values\n",
    "y_test_np = y_test.values"
   ]
  },
  {
   "cell_type": "code",
   "execution_count": 50,
   "metadata": {
    "collapsed": false
   },
   "outputs": [
    {
     "name": "stdout",
     "output_type": "stream",
     "text": [
      "CPU times: user 0 ns, sys: 0 ns, total: 0 ns\n",
      "Wall time: 358 µs\n",
      "DummyRegressor(constant=array(0.0), quantile=None, strategy='constant'):\n",
      "    train RMSLE 2.36481494682\n",
      "    test RMSLE 2.20644848894\n",
      "\n",
      "CPU times: user 0 ns, sys: 0 ns, total: 0 ns\n",
      "Wall time: 407 µs\n",
      "DummyRegressor(constant=None, quantile=None, strategy='mean'):\n",
      "    train RMSLE 0.823952519474\n",
      "    test RMSLE 0.81837011564\n",
      "\n",
      "CPU times: user 11.7 s, sys: 16 ms, total: 11.7 s\n",
      "Wall time: 11.8 s\n",
      "RandomForestRegressor(bootstrap=True, criterion='mse', max_depth=None,\n",
      "           max_features='auto', max_leaf_nodes=None, min_samples_leaf=1,\n",
      "           min_samples_split=2, min_weight_fraction_leaf=0.0,\n",
      "           n_estimators=20, n_jobs=1, oob_score=False, random_state=None,\n",
      "           verbose=0, warm_start=False):\n",
      "    train RMSLE 0.109795964546\n",
      "    test RMSLE 0.350591729874\n",
      "\n"
     ]
    }
   ],
   "source": [
    "from sklearn.dummy import DummyRegressor\n",
    "from sklearn.ensemble import RandomForestRegressor\n",
    "from sklearn.metrics import mean_squared_error\n",
    "\n",
    "regressors = [\n",
    "    DummyRegressor(strategy='constant', constant=0.0),\n",
    "    DummyRegressor(strategy='mean'),\n",
    "    RandomForestRegressor(n_estimators=20),\n",
    "    # RandomForestRegressor(n_estimators=100),\n",
    "]\n",
    "\n",
    "for reg in regressors:\n",
    "    %time reg.fit(X_train_np, y_train_np)\n",
    "    y_train_pred = reg.predict(X_train_np)\n",
    "    train_rmsle = np.sqrt(mean_squared_error(y_train_np, y_train_pred))\n",
    "    y_test_pred = reg.predict(X_test_np)\n",
    "    test_rmsle = np.sqrt(mean_squared_error(y_test_np, y_test_pred))\n",
    "    print \"{}:\".format(reg)\n",
    "    print \"    train RMSLE {}\".format(train_rmsle)\n",
    "    print \"    test RMSLE {}\".format(test_rmsle)\n",
    "    print"
   ]
  },
  {
   "cell_type": "code",
   "execution_count": 42,
   "metadata": {
    "collapsed": false
   },
   "outputs": [
    {
     "data": {
      "text/plain": [
       "False    22355\n",
       "True      4831\n",
       "dtype: int64"
      ]
     },
     "execution_count": 42,
     "metadata": {},
     "output_type": "execute_result"
    }
   ],
   "source": [
    "X_train_feats['specs SP-0080'].value_counts()"
   ]
  },
  {
   "cell_type": "code",
   "execution_count": 51,
   "metadata": {
    "collapsed": false
   },
   "outputs": [
    {
     "name": "stdout",
     "output_type": "stream",
     "text": [
      "quantity 0.469463539106\n",
      "diameter 0.137506020656\n",
      "annual_usage 0.0984722305463\n",
      "min_order_quantity 0.0681419620087\n",
      "length 0.0528168244548\n",
      "wall_thickness 0.0219557048529\n",
      "bend_radius 0.0149763605285\n",
      "num_bends 0.0138102001164\n",
      "supplier S-0041 0.0110584699468\n",
      "material_id SP-0029 0.00914507019142\n",
      "supplier S-0064 0.00815279461689\n",
      "supplier S-0026 0.00805146870822\n",
      "supplier S-0054 0.0079115047761\n",
      "supplier S-0066 0.00779712546724\n",
      "num_boss 0.00582718653476\n",
      "material_id SP-0028 0.00565149023247\n",
      "supplier S-0072 0.00468928163961\n",
      "material_id SP-0035 0.00437321884996\n",
      "specs SP-0061 0.0040876394703\n",
      "num_other 0.00360641113785\n",
      "end_a_2x 0.0029645681614\n",
      "end_x_2x 0.0024377393125\n",
      "supplier S-0058 0.00218060485395\n",
      "supplier S-0013 0.00201474787753\n",
      "specs SP-0007 0.00189362695369\n",
      "bracket_pricing 0.00184348304616\n",
      "specs SP-0080 0.00181614661454\n",
      "specs SP-0063 0.00162670619245\n",
      "specs SP-0058 0.00137305134097\n",
      "material_id SP-0038 0.00136699598792\n",
      "end_a_1x 0.00134224682791\n",
      "specs SP-0004 0.00132877747478\n",
      "specs SP-0012 0.00132084847275\n",
      "supplier S-0062 0.00130428418385\n",
      "end_x_1x 0.00129001354898\n",
      "specs SP-0069 0.00107913718768\n",
      "specs SP-0070 0.000979283973433\n",
      "supplier other 0.000967661318447\n",
      "specs SP-0082 0.000868658776282\n",
      "specs SP-0024 0.000834761609542\n",
      "specs SP-0009 0.000803838124411\n",
      "specs SP-0013 0.000633882392866\n",
      "specs SP-0026 0.000627398233652\n",
      "material_id SP-0037 0.000607441080579\n",
      "supplier S-0014 0.000588735954158\n",
      "material_id SP-0039 0.000541717404522\n",
      "material_id SP-0048 0.000535547351346\n",
      "num_bracket 0.000525199565292\n",
      "specs SP-0067 0.000513359039795\n",
      "material_id SP-0019 0.00049027073078\n",
      "supplier S-0081 0.000458441137637\n",
      "material_id SP-0041 0.000418774527321\n",
      "specs other 0.000416342730449\n",
      "specs SP-0016 0.00035666184074\n",
      "supplier S-0070 0.00030964053107\n",
      "supplier S-0030 0.000289568462755\n",
      "supplier S-0104 0.000224399399635\n",
      "specs SP-0068 0.000206711376364\n",
      "material_id SP-0046 0.000202006317463\n",
      "specs SP-0021 0.000197176180724\n",
      "material_id nan 0.000194487543858\n",
      "supplier S-0027 0.000176336732143\n",
      "material_id SP-0008 0.000168529439887\n",
      "supplier S-0005 0.00016791436374\n",
      "material_id SP-0033 0.000166090411741\n",
      "supplier S-0031 0.000155667599353\n",
      "specs SP-0065 0.000148324699682\n",
      "specs SP-0022 0.000139007121721\n",
      "specs SP-0088 0.000126962967151\n",
      "supplier S-0105 0.000115860551441\n",
      "supplier S-0092 0.000105026125164\n",
      "specs SP-0057 0.000104776035827\n",
      "material_id other 9.7259902091e-05\n",
      "specs SP-0051 9.45549897541e-05\n",
      "material_id SP-0034 9.34137432616e-05\n",
      "specs SP-0005 9.29136110365e-05\n",
      "supplier S-0018 8.28152505738e-05\n",
      "specs SP-0029 6.86728744263e-05\n",
      "specs SP-0079 6.03270650597e-05\n",
      "material_id SP-0030 5.64466233544e-05\n",
      "supplier S-0042 4.50117538709e-05\n",
      "supplier S-0080 4.11959357429e-05\n",
      "specs SP-0072 3.51765396732e-05\n",
      "specs SP-0075 3.34453071118e-05\n",
      "specs SP-0017 2.70231019449e-05\n",
      "specs SP-0047 2.36510019468e-05\n",
      "specs SP-0002 2.08995584881e-05\n",
      "specs SP-0076 2.02344022012e-05\n",
      "supplier S-0043 1.88961821054e-05\n",
      "specs SP-0010 1.76694741188e-05\n",
      "specs SP-0062 1.11525923862e-05\n",
      "specs SP-0071 9.12675609457e-06\n",
      "material_id SP-0036 5.75981763264e-06\n",
      "specs SP-0050 4.09987269787e-07\n"
     ]
    }
   ],
   "source": [
    "feat_imps = list(zip(X_train_feats.columns, reg.feature_importances_))\n",
    "feat_imps.sort(key=lambda (feat, imp): imp, reverse=True)\n",
    "for feat, imp in feat_imps:\n",
    "    print feat, imp"
   ]
  },
  {
   "cell_type": "code",
   "execution_count": null,
   "metadata": {
    "collapsed": true
   },
   "outputs": [],
   "source": []
  }
 ],
 "metadata": {
  "kernelspec": {
   "display_name": "Python 2",
   "language": "python",
   "name": "python2"
  },
  "language_info": {
   "codemirror_mode": {
    "name": "ipython",
    "version": 2
   },
   "file_extension": ".py",
   "mimetype": "text/x-python",
   "name": "python",
   "nbconvert_exporter": "python",
   "pygments_lexer": "ipython2",
   "version": "2.7.3"
  }
 },
 "nbformat": 4,
 "nbformat_minor": 0
}
