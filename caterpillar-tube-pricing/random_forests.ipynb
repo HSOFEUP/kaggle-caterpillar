{
 "cells": [
  {
   "cell_type": "code",
   "execution_count": 26,
   "metadata": {
    "collapsed": false
   },
   "outputs": [
    {
     "name": "stdout",
     "output_type": "stream",
     "text": [
      "Populating the interactive namespace from numpy and matplotlib\n"
     ]
    }
   ],
   "source": [
    "%pylab inline\n",
    "\n",
    "import pandas as pd\n",
    "\n",
    "from soln.dataset import get_dev_split\n",
    "from soln.dataset import get_extended_X\n",
    "from soln.dataset import load_raw_data\n",
    "from soln.dataset import log_transform_y\n",
    "\n",
    "raw = load_raw_data()\n",
    "X_train, y_train, X_test, y_test = get_dev_split(raw)\n",
    "X_train = get_extended_X(X_train, raw)\n",
    "X_test = get_extended_X(X_test, raw)\n",
    "y_train = log_transform_y(y_train)\n",
    "y_test = log_transform_y(y_test)"
   ]
  },
  {
   "cell_type": "code",
   "execution_count": 40,
   "metadata": {
    "collapsed": false
   },
   "outputs": [
    {
     "data": {
      "text/plain": [
       "['supplier other',\n",
       " 'supplier S-0042',\n",
       " 'supplier S-0005',\n",
       " 'supplier S-0026',\n",
       " 'supplier S-0027',\n",
       " 'supplier S-0072',\n",
       " 'supplier S-0062',\n",
       " 'supplier S-0064',\n",
       " 'supplier S-0043',\n",
       " 'supplier S-0066',\n",
       " 'supplier S-0041',\n",
       " 'supplier S-0105',\n",
       " 'supplier S-0080',\n",
       " 'supplier S-0081',\n",
       " 'supplier S-0104',\n",
       " 'supplier S-0013',\n",
       " 'supplier S-0014',\n",
       " 'supplier S-0070',\n",
       " 'supplier S-0018',\n",
       " 'supplier S-0031',\n",
       " 'supplier S-0030',\n",
       " 'supplier S-0058',\n",
       " 'supplier S-0054',\n",
       " 'supplier S-0092',\n",
       " 'material_id other',\n",
       " 'material_id nan',\n",
       " 'material_id SP-0046',\n",
       " 'material_id SP-0041',\n",
       " 'material_id SP-0033',\n",
       " 'material_id SP-0048',\n",
       " 'material_id SP-0034',\n",
       " 'material_id SP-0035',\n",
       " 'material_id SP-0036',\n",
       " 'material_id SP-0037',\n",
       " 'material_id SP-0030',\n",
       " 'material_id SP-0019',\n",
       " 'material_id SP-0008',\n",
       " 'material_id SP-0038',\n",
       " 'material_id SP-0039',\n",
       " 'material_id SP-0029',\n",
       " 'material_id SP-0028',\n",
       " 'annual_usage',\n",
       " 'min_order_quantity',\n",
       " 'quantity',\n",
       " 'diameter',\n",
       " 'length',\n",
       " 'num_bends',\n",
       " 'bend_radius',\n",
       " 'num_boss',\n",
       " 'num_bracket',\n",
       " 'wall_thickness',\n",
       " 'num_other',\n",
       " 'end_a_2x',\n",
       " 'end_x_1x',\n",
       " 'bracket_pricing',\n",
       " 'end_a_1x',\n",
       " 'end_x_2x']"
      ]
     },
     "execution_count": 40,
     "metadata": {},
     "output_type": "execute_result"
    }
   ],
   "source": [
    "from soln.featurizer import CustomFeaturizer\n",
    "featurizer = CustomFeaturizer()\n",
    "featurizer.fit(X_train)\n",
    "X_train_feats = featurizer.transform(X_train)\n",
    "X_test_feats = featurizer.transform(X_test)\n",
    "list(X_train_feats.columns)"
   ]
  },
  {
   "cell_type": "code",
   "execution_count": 43,
   "metadata": {
    "collapsed": false
   },
   "outputs": [],
   "source": [
    "X_train_np = X_train_feats.astype(np.float).values\n",
    "X_test_np = X_test_feats.astype(np.float).values\n",
    "y_train_np = y_train.values\n",
    "y_test_np = y_test.values"
   ]
  },
  {
   "cell_type": "code",
   "execution_count": 48,
   "metadata": {
    "collapsed": false
   },
   "outputs": [
    {
     "name": "stdout",
     "output_type": "stream",
     "text": [
      "DummyRegressor(constant=array(0.0), quantile=None, strategy='constant'):\n",
      "    train RMSLE 2.36481494682\n",
      "    test RMSLE 2.20644848894\n",
      "\n",
      "DummyRegressor(constant=None, quantile=None, strategy='mean'):\n",
      "    train RMSLE 0.823952519474\n",
      "    test RMSLE 0.81837011564\n",
      "\n",
      "RandomForestRegressor(bootstrap=True, criterion='mse', max_depth=None,\n",
      "           max_features='auto', max_leaf_nodes=None, min_samples_leaf=1,\n",
      "           min_samples_split=2, min_weight_fraction_leaf=0.0,\n",
      "           n_estimators=20, n_jobs=1, oob_score=False, random_state=None,\n",
      "           verbose=0, warm_start=False):\n",
      "    train RMSLE 0.112042432844\n",
      "    test RMSLE 0.359341971297\n",
      "\n"
     ]
    }
   ],
   "source": [
    "from sklearn.dummy import DummyRegressor\n",
    "from sklearn.ensemble import RandomForestRegressor\n",
    "from sklearn.metrics import mean_squared_error\n",
    "\n",
    "regressors = [\n",
    "    DummyRegressor(strategy='constant', constant=0.0),\n",
    "    DummyRegressor(strategy='mean'),\n",
    "    RandomForestRegressor(n_estimators=20),\n",
    "    # RandomForestRegressor(n_estimators=100),\n",
    "]\n",
    "\n",
    "for reg in regressors:\n",
    "    reg.fit(X_train_np, y_train_np)\n",
    "    y_train_pred = reg.predict(X_train_np)\n",
    "    train_rmsle = np.sqrt(mean_squared_error(y_train_np, y_train_pred))\n",
    "    y_test_pred = reg.predict(X_test_np)\n",
    "    test_rmsle = np.sqrt(mean_squared_error(y_test_np, y_test_pred))\n",
    "    rmsle = np.sqrt(msle)\n",
    "    print \"{}:\".format(reg)\n",
    "    print \"    train RMSLE {}\".format(train_rmsle)\n",
    "    print \"    test RMSLE {}\".format(test_rmsle)\n",
    "    print"
   ]
  },
  {
   "cell_type": "code",
   "execution_count": null,
   "metadata": {
    "collapsed": true
   },
   "outputs": [],
   "source": []
  }
 ],
 "metadata": {
  "kernelspec": {
   "display_name": "Python 2",
   "language": "python",
   "name": "python2"
  },
  "language_info": {
   "codemirror_mode": {
    "name": "ipython",
    "version": 2
   },
   "file_extension": ".py",
   "mimetype": "text/x-python",
   "name": "python",
   "nbconvert_exporter": "python",
   "pygments_lexer": "ipython2",
   "version": "2.7.3"
  }
 },
 "nbformat": 4,
 "nbformat_minor": 0
}
