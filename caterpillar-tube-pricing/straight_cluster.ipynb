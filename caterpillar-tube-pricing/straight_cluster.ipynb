{
 "cells": [
  {
   "cell_type": "code",
   "execution_count": 126,
   "metadata": {
    "collapsed": false
   },
   "outputs": [
    {
     "name": "stdout",
     "output_type": "stream",
     "text": [
      "Populating the interactive namespace from numpy and matplotlib\n"
     ]
    }
   ],
   "source": [
    "%pylab inline\n",
    "\n",
    "from collections import defaultdict\n",
    "from sklearn.preprocessing import LabelBinarizer\n",
    "import pandas as pd\n",
    "\n",
    "from soln.dataset import get_augmented_train_and_test_set\n",
    "from soln.dataset import get_component_info_df\n",
    "from soln.dataset import load_raw_components\n",
    "\n",
    "pd.set_option('display.max_columns', None)"
   ]
  },
  {
   "cell_type": "code",
   "execution_count": 127,
   "metadata": {
    "collapsed": false
   },
   "outputs": [
    {
     "ename": "ValueError",
     "evalue": "too many values to unpack",
     "output_type": "error",
     "traceback": [
      "\u001b[1;31m---------------------------------------------------------------------------\u001b[0m",
      "\u001b[1;31mValueError\u001b[0m                                Traceback (most recent call last)",
      "\u001b[1;32m<ipython-input-127-7189681bbbf5>\u001b[0m in \u001b[0;36m<module>\u001b[1;34m()\u001b[0m\n\u001b[1;32m----> 1\u001b[1;33m \u001b[0mcomp_types\u001b[0m\u001b[1;33m,\u001b[0m \u001b[0mgroup_dfs\u001b[0m \u001b[1;33m=\u001b[0m \u001b[0mload_raw_components\u001b[0m\u001b[1;33m(\u001b[0m\u001b[1;33m)\u001b[0m\u001b[1;33m\u001b[0m\u001b[0m\n\u001b[0m\u001b[0;32m      2\u001b[0m \u001b[0mstraight\u001b[0m \u001b[1;33m=\u001b[0m \u001b[0mgroup_dfs\u001b[0m\u001b[1;33m[\u001b[0m\u001b[1;34m'straight'\u001b[0m\u001b[1;33m]\u001b[0m\u001b[1;33m\u001b[0m\u001b[0m\n\u001b[0;32m      3\u001b[0m \u001b[1;32mfor\u001b[0m \u001b[0mfeat\u001b[0m \u001b[1;32min\u001b[0m \u001b[1;33m(\u001b[0m\u001b[1;34m'groove'\u001b[0m\u001b[1;33m,\u001b[0m \u001b[1;34m'unique_feature'\u001b[0m\u001b[1;33m,\u001b[0m \u001b[1;34m'orientation'\u001b[0m\u001b[1;33m)\u001b[0m\u001b[1;33m:\u001b[0m\u001b[1;33m\u001b[0m\u001b[0m\n\u001b[0;32m      4\u001b[0m     \u001b[0mstraight\u001b[0m\u001b[1;33m[\u001b[0m\u001b[0mfeat\u001b[0m\u001b[1;33m]\u001b[0m \u001b[1;33m=\u001b[0m \u001b[1;33m(\u001b[0m\u001b[0mstraight\u001b[0m\u001b[1;33m[\u001b[0m\u001b[0mfeat\u001b[0m\u001b[1;33m]\u001b[0m \u001b[1;33m==\u001b[0m \u001b[1;34m'Yes'\u001b[0m\u001b[1;33m)\u001b[0m\u001b[1;33m\u001b[0m\u001b[0m\n\u001b[0;32m      5\u001b[0m \u001b[0mstraight\u001b[0m\u001b[1;33m.\u001b[0m\u001b[0minfo\u001b[0m\u001b[1;33m(\u001b[0m\u001b[1;33m)\u001b[0m\u001b[1;33m\u001b[0m\u001b[0m\n",
      "\u001b[1;31mValueError\u001b[0m: too many values to unpack"
     ]
    }
   ],
   "source": [
    "comp_types, group_dfs = load_raw_components()\n",
    "straight = group_dfs['straight']\n",
    "for feat in ('groove', 'unique_feature', 'orientation'):\n",
    "    straight[feat] = (straight[feat] == 'Yes')\n",
    "straight.info()"
   ]
  },
  {
   "cell_type": "code",
   "execution_count": 62,
   "metadata": {
    "collapsed": false
   },
   "outputs": [
    {
     "name": "stdout",
     "output_type": "stream",
     "text": [
      "MJ-other    241\n",
      "MJ-003       71\n",
      "MJ-001       46\n",
      "MJ-002        2\n",
      "MJ-007        1\n",
      "dtype: int64\n",
      "['MJ-001' 'MJ-002' 'MJ-003' 'MJ-007' 'MJ-other']\n",
      "<class 'pandas.core.frame.DataFrame'>\n",
      "Int64Index: 361 entries, 0 to 360\n",
      "Data columns (total 16 columns):\n",
      "component_id         361 non-null object\n",
      "component_type_id    361 non-null object\n",
      "bolt_pattern_long    291 non-null float64\n",
      "bolt_pattern_wide    204 non-null float64\n",
      "head_diameter        70 non-null float64\n",
      "overall_length       41 non-null float64\n",
      "thickness            361 non-null float64\n",
      "groove               361 non-null bool\n",
      "unique_feature       361 non-null bool\n",
      "orientation          361 non-null bool\n",
      "weight               354 non-null float64\n",
      "MJ-001               361 non-null int64\n",
      "MJ-002               361 non-null int64\n",
      "MJ-003               361 non-null int64\n",
      "MJ-007               361 non-null int64\n",
      "MJ-other             361 non-null int64\n",
      "dtypes: bool(3), float64(6), int64(5), object(2)\n",
      "memory usage: 40.5+ KB\n"
     ]
    }
   ],
   "source": [
    "# Convert mj_class_code to binary features.\n",
    "straight.mj_class_code.fillna('MJ-other', inplace=True)\n",
    "print straight.mj_class_code.value_counts()\n",
    "lb = LabelBinarizer()\n",
    "bin_feats = lb.fit_transform(straight.mj_class_code.values)\n",
    "print lb.classes_\n",
    "tmp_df = pd.DataFrame(bin_feats, columns=lb.classes_)\n",
    "straight = straight.join(tmp_df)\n",
    "straight.pop('mj_class_code')\n",
    "straight.info()"
   ]
  },
  {
   "cell_type": "code",
   "execution_count": 63,
   "metadata": {
    "collapsed": false
   },
   "outputs": [
    {
     "name": "stdout",
     "output_type": "stream",
     "text": [
      "CP-002    93\n",
      "CP-004    85\n",
      "CP-003    83\n",
      "CP-006    45\n",
      "CP-001    28\n",
      "CP-007    25\n",
      "CP-005     2\n",
      "dtype: int64\n",
      "['CP-001' 'CP-002' 'CP-003' 'CP-004' 'CP-005' 'CP-006' 'CP-007']\n",
      "<class 'pandas.core.frame.DataFrame'>\n",
      "Int64Index: 361 entries, 0 to 360\n",
      "Data columns (total 22 columns):\n",
      "component_id         361 non-null object\n",
      "bolt_pattern_long    291 non-null float64\n",
      "bolt_pattern_wide    204 non-null float64\n",
      "head_diameter        70 non-null float64\n",
      "overall_length       41 non-null float64\n",
      "thickness            361 non-null float64\n",
      "groove               361 non-null bool\n",
      "unique_feature       361 non-null bool\n",
      "orientation          361 non-null bool\n",
      "weight               354 non-null float64\n",
      "MJ-001               361 non-null int64\n",
      "MJ-002               361 non-null int64\n",
      "MJ-003               361 non-null int64\n",
      "MJ-007               361 non-null int64\n",
      "MJ-other             361 non-null int64\n",
      "CP-001               361 non-null int64\n",
      "CP-002               361 non-null int64\n",
      "CP-003               361 non-null int64\n",
      "CP-004               361 non-null int64\n",
      "CP-005               361 non-null int64\n",
      "CP-006               361 non-null int64\n",
      "CP-007               361 non-null int64\n",
      "dtypes: bool(3), float64(6), int64(12), object(1)\n",
      "memory usage: 57.5+ KB\n"
     ]
    }
   ],
   "source": [
    "# Convert component_type_id to binary features.\n",
    "print straight.component_type_id.value_counts()\n",
    "lb = LabelBinarizer()\n",
    "bin_feats = lb.fit_transform(straight.component_type_id.values)\n",
    "print lb.classes_\n",
    "tmp_df = pd.DataFrame(bin_feats, columns=lb.classes_)\n",
    "straight = straight.join(tmp_df)\n",
    "straight.pop('component_type_id')\n",
    "straight.info()"
   ]
  },
  {
   "cell_type": "code",
   "execution_count": 64,
   "metadata": {
    "collapsed": false
   },
   "outputs": [
    {
     "name": "stdout",
     "output_type": "stream",
     "text": [
      "<class 'pandas.core.frame.DataFrame'>\n",
      "Int64Index: 361 entries, 0 to 360\n",
      "Data columns (total 27 columns):\n",
      "component_id                 361 non-null object\n",
      "bolt_pattern_long            361 non-null float64\n",
      "bolt_pattern_wide            361 non-null float64\n",
      "head_diameter                361 non-null float64\n",
      "overall_length               361 non-null float64\n",
      "thickness                    361 non-null float64\n",
      "groove                       361 non-null bool\n",
      "unique_feature               361 non-null bool\n",
      "orientation                  361 non-null bool\n",
      "weight                       361 non-null float64\n",
      "MJ-001                       361 non-null int64\n",
      "MJ-002                       361 non-null int64\n",
      "MJ-003                       361 non-null int64\n",
      "MJ-007                       361 non-null int64\n",
      "MJ-other                     361 non-null int64\n",
      "CP-001                       361 non-null int64\n",
      "CP-002                       361 non-null int64\n",
      "CP-003                       361 non-null int64\n",
      "CP-004                       361 non-null int64\n",
      "CP-005                       361 non-null int64\n",
      "CP-006                       361 non-null int64\n",
      "CP-007                       361 non-null int64\n",
      "bolt_pattern_long_missing    361 non-null bool\n",
      "bolt_pattern_wide_missing    361 non-null bool\n",
      "head_diameter_missing        361 non-null bool\n",
      "overall_length_missing       361 non-null bool\n",
      "weight_missing               361 non-null bool\n",
      "dtypes: bool(8), float64(6), int64(12), object(1)\n",
      "memory usage: 59.2+ KB\n"
     ]
    }
   ],
   "source": [
    "# Add features to capture whether a value is missing, and fill missing values with average.\n",
    "for feat in ('bolt_pattern_long', 'bolt_pattern_wide', 'head_diameter', 'overall_length', 'weight'):\n",
    "    straight[feat + '_missing'] = straight[feat].isnull()\n",
    "    straight[feat].fillna(straight[feat].mean(), inplace=True)\n",
    "straight.info()"
   ]
  },
  {
   "cell_type": "code",
   "execution_count": 65,
   "metadata": {
    "collapsed": false
   },
   "outputs": [
    {
     "data": {
      "text/plain": [
       "(361, 26)"
      ]
     },
     "execution_count": 65,
     "metadata": {},
     "output_type": "execute_result"
    }
   ],
   "source": [
    "# Get list of vectors to work with.\n",
    "straight.set_index('component_id', drop=True, inplace=True)\n",
    "straight_np = straight.astype(np.float).values\n",
    "straight_np.shape"
   ]
  },
  {
   "cell_type": "code",
   "execution_count": 68,
   "metadata": {
    "collapsed": false
   },
   "outputs": [
    {
     "name": "stdout",
     "output_type": "stream",
     "text": [
      "CPU times: user 36 ms, sys: 4 ms, total: 40 ms\n",
      "Wall time: 41.3 ms\n"
     ]
    }
   ],
   "source": [
    "# Approach 1: Cluster agglomeratively, then extract flat clusters.\n",
    "\n",
    "from scipy.cluster.hierarchy import linkage\n",
    "from scipy.cluster.vq import whiten\n",
    "y = whiten(straight_np)\n",
    "%time Z = linkage(y, method='ward')"
   ]
  },
  {
   "cell_type": "code",
   "execution_count": 79,
   "metadata": {
    "collapsed": false
   },
   "outputs": [
    {
     "name": "stdout",
     "output_type": "stream",
     "text": [
      "CPU times: user 1.28 s, sys: 24 ms, total: 1.3 s\n",
      "Wall time: 1.32 s\n"
     ]
    },
    {
     "data": {
      "image/png": "[encoded data removed]",
      "text/plain": [
       "<matplotlib.figure.Figure at 0xb216b90>"
      ]
     },
     "metadata": {},
     "output_type": "display_data"
    }
   ],
   "source": [
    "from scipy.cluster.hierarchy import dendrogram\n",
    "figsize(14, 8)\n",
    "%time out = dendrogram(Z)"
   ]
  },
  {
   "cell_type": "code",
   "execution_count": 128,
   "metadata": {
    "collapsed": false
   },
   "outputs": [
    {
     "name": "stdout",
     "output_type": "stream",
     "text": [
      "(361,) 1 13\n"
     ]
    }
   ],
   "source": [
    "from scipy.cluster import hierarchy\n",
    "fcluster = hierarchy.fcluster(Z, 20.0, criterion='distance')\n",
    "print fcluster.shape, np.min(fcluster), np.max(fcluster)"
   ]
  },
  {
   "cell_type": "code",
   "execution_count": 143,
   "metadata": {
    "collapsed": false
   },
   "outputs": [
    {
     "name": "stdout",
     "output_type": "stream",
     "text": [
      "20 1.69455514026\n"
     ]
    }
   ],
   "source": [
    "# Approach 2: Use K-means\n",
    "\n",
    "from scipy.cluster import vq\n",
    "\n",
    "y = vq.whiten(straight_np)\n",
    "codebook, distortion = vq.kmeans(y, 20)\n",
    "print len(codebook), distortion\n",
    "fcluster, _ = vq.vq(y, codebook)"
   ]
  },
  {
   "cell_type": "code",
   "execution_count": 144,
   "metadata": {
    "collapsed": false
   },
   "outputs": [
    {
     "data": {
      "text/plain": [
       "0     42\n",
       "18    39\n",
       "19    30\n",
       "12    29\n",
       "14    27\n",
       "15    27\n",
       "10    25\n",
       "9     21\n",
       "4     15\n",
       "16    15\n",
       "8     15\n",
       "1     13\n",
       "13    12\n",
       "17    10\n",
       "6      9\n",
       "3      9\n",
       "11     7\n",
       "7      7\n",
       "5      7\n",
       "2      2\n",
       "dtype: int64"
      ]
     },
     "execution_count": 144,
     "metadata": {},
     "output_type": "execute_result"
    }
   ],
   "source": [
    "cid_to_clu = pd.Series(fcluster, index=straight.index, name='cluster')\n",
    "cid_to_clu.sort()\n",
    "cid_to_clu = cid_to_clu.reset_index()\n",
    "cid_to_clu.cluster.value_counts()"
   ]
  },
  {
   "cell_type": "code",
   "execution_count": 145,
   "metadata": {
    "collapsed": false
   },
   "outputs": [],
   "source": [
    "fcluster_str = [\"straight_clu_{}\".format(clu) for clu in fcluster]\n",
    "cid_to_clu_str = pd.Series(fcluster_str, index=straight.index, name='cluster')\n",
    "cid_to_clu_str = cid_to_clu_str.reset_index()\n",
    "cid_to_clu_str.to_csv(\"clu_straight.csv\", index=False)"
   ]
  },
  {
   "cell_type": "code",
   "execution_count": null,
   "metadata": {
    "collapsed": true
   },
   "outputs": [],
   "source": []
  },
  {
   "cell_type": "code",
   "execution_count": 112,
   "metadata": {
    "collapsed": false
   },
   "outputs": [
    {
     "name": "stdout",
     "output_type": "stream",
     "text": [
      "CPU times: user 4 ms, sys: 0 ns, total: 4 ms\n",
      "Wall time: 3.1 ms\n"
     ]
    },
    {
     "data": {
      "text/plain": [
       "PCA(copy=True, n_components=2, whiten=True)"
      ]
     },
     "execution_count": 112,
     "metadata": {},
     "output_type": "execute_result"
    }
   ],
   "source": [
    "from sklearn.decomposition import PCA\n",
    "pca = PCA(n_components=2, whiten=True)\n",
    "%time pca.fit(straight_np)"
   ]
  },
  {
   "cell_type": "code",
   "execution_count": 113,
   "metadata": {
    "collapsed": false
   },
   "outputs": [
    {
     "data": {
      "text/plain": [
       "array([ 0.67927172,  0.17201545])"
      ]
     },
     "execution_count": 113,
     "metadata": {},
     "output_type": "execute_result"
    }
   ],
   "source": [
    "pca.explained_variance_ratio_"
   ]
  },
  {
   "cell_type": "code",
   "execution_count": 116,
   "metadata": {
    "collapsed": false,
    "scrolled": false
   },
   "outputs": [
    {
     "name": "stdout",
     "output_type": "stream",
     "text": [
      "(361, 2)\n"
     ]
    },
    {
     "data": {
      "text/plain": [
       "<matplotlib.collections.PathCollection at 0x9ee0f90>"
      ]
     },
     "execution_count": 116,
     "metadata": {},
     "output_type": "execute_result"
    },
    {
     "data": {
      "image/png": "[encoded data removed]",
      "text/plain": [
       "<matplotlib.figure.Figure at 0x9ab7a50>"
      ]
     },
     "metadata": {},
     "output_type": "display_data"
    }
   ],
   "source": [
    "pts = pca.transform(straight_np)\n",
    "print pts.shape\n",
    "scatter(pts[:, 0], pts[:, 1])"
   ]
  },
  {
   "cell_type": "code",
   "execution_count": null,
   "metadata": {
    "collapsed": true
   },
   "outputs": [],
   "source": []
  }
 ],
 "metadata": {
  "kernelspec": {
   "display_name": "Python 2",
   "language": "python",
   "name": "python2"
  },
  "language_info": {
   "codemirror_mode": {
    "name": "ipython",
    "version": 2
   },
   "file_extension": ".py",
   "mimetype": "text/x-python",
   "name": "python",
   "nbconvert_exporter": "python",
   "pygments_lexer": "ipython2",
   "version": "2.7.3"
  }
 },
 "nbformat": 4,
 "nbformat_minor": 0
}
