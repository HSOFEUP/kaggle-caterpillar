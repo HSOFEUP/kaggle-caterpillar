{
 "cells": [
  {
   "cell_type": "code",
   "execution_count": 1,
   "metadata": {
    "collapsed": false
   },
   "outputs": [
    {
     "name": "stdout",
     "output_type": "stream",
     "text": [
      "Populating the interactive namespace from numpy and matplotlib\n"
     ]
    }
   ],
   "source": [
    "%pylab inline\n",
    "\n",
    "import pandas as pd"
   ]
  },
  {
   "cell_type": "code",
   "execution_count": 2,
   "metadata": {
    "collapsed": false
   },
   "outputs": [
    {
     "data": {
      "text/html": [
       "<div>\n",
       "<table border=\"1\" class=\"dataframe\">\n",
       "  <thead>\n",
       "    <tr style=\"text-align: right;\">\n",
       "      <th></th>\n",
       "      <th>tube_assembly_id</th>\n",
       "      <th>supplier</th>\n",
       "      <th>quote_date</th>\n",
       "      <th>annual_usage</th>\n",
       "      <th>min_order_quantity</th>\n",
       "      <th>bracket_pricing</th>\n",
       "      <th>quantity</th>\n",
       "      <th>cost</th>\n",
       "    </tr>\n",
       "  </thead>\n",
       "  <tbody>\n",
       "    <tr>\n",
       "      <th>0</th>\n",
       "      <td>TA-00002</td>\n",
       "      <td>S-0066</td>\n",
       "      <td>2013-07-07</td>\n",
       "      <td>0</td>\n",
       "      <td>0</td>\n",
       "      <td>Yes</td>\n",
       "      <td>1</td>\n",
       "      <td>21.905933</td>\n",
       "    </tr>\n",
       "    <tr>\n",
       "      <th>1</th>\n",
       "      <td>TA-00002</td>\n",
       "      <td>S-0066</td>\n",
       "      <td>2013-07-07</td>\n",
       "      <td>0</td>\n",
       "      <td>0</td>\n",
       "      <td>Yes</td>\n",
       "      <td>2</td>\n",
       "      <td>12.341214</td>\n",
       "    </tr>\n",
       "    <tr>\n",
       "      <th>2</th>\n",
       "      <td>TA-00002</td>\n",
       "      <td>S-0066</td>\n",
       "      <td>2013-07-07</td>\n",
       "      <td>0</td>\n",
       "      <td>0</td>\n",
       "      <td>Yes</td>\n",
       "      <td>5</td>\n",
       "      <td>6.601826</td>\n",
       "    </tr>\n",
       "    <tr>\n",
       "      <th>3</th>\n",
       "      <td>TA-00002</td>\n",
       "      <td>S-0066</td>\n",
       "      <td>2013-07-07</td>\n",
       "      <td>0</td>\n",
       "      <td>0</td>\n",
       "      <td>Yes</td>\n",
       "      <td>10</td>\n",
       "      <td>4.687770</td>\n",
       "    </tr>\n",
       "    <tr>\n",
       "      <th>4</th>\n",
       "      <td>TA-00002</td>\n",
       "      <td>S-0066</td>\n",
       "      <td>2013-07-07</td>\n",
       "      <td>0</td>\n",
       "      <td>0</td>\n",
       "      <td>Yes</td>\n",
       "      <td>25</td>\n",
       "      <td>3.541561</td>\n",
       "    </tr>\n",
       "  </tbody>\n",
       "</table>\n",
       "</div>"
      ],
      "text/plain": [
       "  tube_assembly_id supplier quote_date  annual_usage  min_order_quantity  \\\n",
       "0         TA-00002   S-0066 2013-07-07             0                   0   \n",
       "1         TA-00002   S-0066 2013-07-07             0                   0   \n",
       "2         TA-00002   S-0066 2013-07-07             0                   0   \n",
       "3         TA-00002   S-0066 2013-07-07             0                   0   \n",
       "4         TA-00002   S-0066 2013-07-07             0                   0   \n",
       "\n",
       "  bracket_pricing  quantity       cost  \n",
       "0             Yes         1  21.905933  \n",
       "1             Yes         2  12.341214  \n",
       "2             Yes         5   6.601826  \n",
       "3             Yes        10   4.687770  \n",
       "4             Yes        25   3.541561  "
      ]
     },
     "execution_count": 2,
     "metadata": {},
     "output_type": "execute_result"
    }
   ],
   "source": [
    "train_set = pd.read_csv('data/competition_data/train_set.csv')\n",
    "train_set['quote_date'] = pd.to_datetime(train_set['quote_date'])\n",
    "train_set[:5]"
   ]
  },
  {
   "cell_type": "code",
   "execution_count": 40,
   "metadata": {
    "collapsed": true
   },
   "outputs": [],
   "source": [
    "class SupplierFeaturizer(object):\n",
    "    \"\"\"\n",
    "    Make binary features for the most common suppliers.\n",
    "    \"\"\"\n",
    "    def __init__(self, min_count=10):\n",
    "        self.min_count = min_count\n",
    "        self.feature_names = None\n",
    "        self.supplier_to_feature_index = None\n",
    "        \n",
    "    def build(self, train_set):\n",
    "        # Make a feature for every supplier that occurs more than min_count times in the train_set.\n",
    "        counts = train_set['supplier'].value_counts()\n",
    "        counts = counts[counts >= self.min_count]\n",
    "        self.feature_names = []\n",
    "        self.supplier_to_feature_index = {}\n",
    "        for supplier in list(counts.index):\n",
    "            self.supplier_to_feature_index[supplier] = len(self.feature_names)\n",
    "            self.feature_names.append('supplier-{}'.format(supplier))\n",
    "    \n",
    "    def get_features(self, data_set):\n",
    "        feats = np.zeros((len(data_set), len(self.feature_names)), dtype=bool)\n",
    "        for i, supplier in enumerate(data_set['supplier']):\n",
    "            if supplier in self.supplier_to_feature_index:\n",
    "                feats[i][self.supplier_to_feature_index[supplier]] = True\n",
    "        return pd.DataFrame(feats, index=data_set.index, columns=self.feature_names)"
   ]
  },
  {
   "cell_type": "code",
   "execution_count": 41,
   "metadata": {
    "collapsed": false
   },
   "outputs": [
    {
     "data": {
      "text/html": [
       "<div>\n",
       "<table border=\"1\" class=\"dataframe\">\n",
       "  <thead>\n",
       "    <tr style=\"text-align: right;\">\n",
       "      <th></th>\n",
       "      <th>supplier-S-0066</th>\n",
       "      <th>supplier-S-0041</th>\n",
       "      <th>supplier-S-0072</th>\n",
       "      <th>supplier-S-0054</th>\n",
       "      <th>supplier-S-0026</th>\n",
       "      <th>supplier-S-0013</th>\n",
       "      <th>supplier-S-0058</th>\n",
       "      <th>supplier-S-0064</th>\n",
       "      <th>supplier-S-0062</th>\n",
       "      <th>supplier-S-0014</th>\n",
       "      <th>...</th>\n",
       "      <th>supplier-S-0105</th>\n",
       "      <th>supplier-S-0005</th>\n",
       "      <th>supplier-S-0031</th>\n",
       "      <th>supplier-S-0027</th>\n",
       "      <th>supplier-S-0042</th>\n",
       "      <th>supplier-S-0070</th>\n",
       "      <th>supplier-S-0043</th>\n",
       "      <th>supplier-S-0018</th>\n",
       "      <th>supplier-S-0080</th>\n",
       "      <th>supplier-S-0092</th>\n",
       "    </tr>\n",
       "  </thead>\n",
       "  <tbody>\n",
       "    <tr>\n",
       "      <th>0</th>\n",
       "      <td>True</td>\n",
       "      <td>False</td>\n",
       "      <td>False</td>\n",
       "      <td>False</td>\n",
       "      <td>False</td>\n",
       "      <td>False</td>\n",
       "      <td>False</td>\n",
       "      <td>False</td>\n",
       "      <td>False</td>\n",
       "      <td>False</td>\n",
       "      <td>...</td>\n",
       "      <td>False</td>\n",
       "      <td>False</td>\n",
       "      <td>False</td>\n",
       "      <td>False</td>\n",
       "      <td>False</td>\n",
       "      <td>False</td>\n",
       "      <td>False</td>\n",
       "      <td>False</td>\n",
       "      <td>False</td>\n",
       "      <td>False</td>\n",
       "    </tr>\n",
       "    <tr>\n",
       "      <th>1</th>\n",
       "      <td>True</td>\n",
       "      <td>False</td>\n",
       "      <td>False</td>\n",
       "      <td>False</td>\n",
       "      <td>False</td>\n",
       "      <td>False</td>\n",
       "      <td>False</td>\n",
       "      <td>False</td>\n",
       "      <td>False</td>\n",
       "      <td>False</td>\n",
       "      <td>...</td>\n",
       "      <td>False</td>\n",
       "      <td>False</td>\n",
       "      <td>False</td>\n",
       "      <td>False</td>\n",
       "      <td>False</td>\n",
       "      <td>False</td>\n",
       "      <td>False</td>\n",
       "      <td>False</td>\n",
       "      <td>False</td>\n",
       "      <td>False</td>\n",
       "    </tr>\n",
       "    <tr>\n",
       "      <th>2</th>\n",
       "      <td>True</td>\n",
       "      <td>False</td>\n",
       "      <td>False</td>\n",
       "      <td>False</td>\n",
       "      <td>False</td>\n",
       "      <td>False</td>\n",
       "      <td>False</td>\n",
       "      <td>False</td>\n",
       "      <td>False</td>\n",
       "      <td>False</td>\n",
       "      <td>...</td>\n",
       "      <td>False</td>\n",
       "      <td>False</td>\n",
       "      <td>False</td>\n",
       "      <td>False</td>\n",
       "      <td>False</td>\n",
       "      <td>False</td>\n",
       "      <td>False</td>\n",
       "      <td>False</td>\n",
       "      <td>False</td>\n",
       "      <td>False</td>\n",
       "    </tr>\n",
       "    <tr>\n",
       "      <th>3</th>\n",
       "      <td>True</td>\n",
       "      <td>False</td>\n",
       "      <td>False</td>\n",
       "      <td>False</td>\n",
       "      <td>False</td>\n",
       "      <td>False</td>\n",
       "      <td>False</td>\n",
       "      <td>False</td>\n",
       "      <td>False</td>\n",
       "      <td>False</td>\n",
       "      <td>...</td>\n",
       "      <td>False</td>\n",
       "      <td>False</td>\n",
       "      <td>False</td>\n",
       "      <td>False</td>\n",
       "      <td>False</td>\n",
       "      <td>False</td>\n",
       "      <td>False</td>\n",
       "      <td>False</td>\n",
       "      <td>False</td>\n",
       "      <td>False</td>\n",
       "    </tr>\n",
       "    <tr>\n",
       "      <th>4</th>\n",
       "      <td>True</td>\n",
       "      <td>False</td>\n",
       "      <td>False</td>\n",
       "      <td>False</td>\n",
       "      <td>False</td>\n",
       "      <td>False</td>\n",
       "      <td>False</td>\n",
       "      <td>False</td>\n",
       "      <td>False</td>\n",
       "      <td>False</td>\n",
       "      <td>...</td>\n",
       "      <td>False</td>\n",
       "      <td>False</td>\n",
       "      <td>False</td>\n",
       "      <td>False</td>\n",
       "      <td>False</td>\n",
       "      <td>False</td>\n",
       "      <td>False</td>\n",
       "      <td>False</td>\n",
       "      <td>False</td>\n",
       "      <td>False</td>\n",
       "    </tr>\n",
       "  </tbody>\n",
       "</table>\n",
       "<p>5 rows × 23 columns</p>\n",
       "</div>"
      ],
      "text/plain": [
       "  supplier-S-0066 supplier-S-0041 supplier-S-0072 supplier-S-0054  \\\n",
       "0            True           False           False           False   \n",
       "1            True           False           False           False   \n",
       "2            True           False           False           False   \n",
       "3            True           False           False           False   \n",
       "4            True           False           False           False   \n",
       "\n",
       "  supplier-S-0026 supplier-S-0013 supplier-S-0058 supplier-S-0064  \\\n",
       "0           False           False           False           False   \n",
       "1           False           False           False           False   \n",
       "2           False           False           False           False   \n",
       "3           False           False           False           False   \n",
       "4           False           False           False           False   \n",
       "\n",
       "  supplier-S-0062 supplier-S-0014       ...       supplier-S-0105  \\\n",
       "0           False           False       ...                 False   \n",
       "1           False           False       ...                 False   \n",
       "2           False           False       ...                 False   \n",
       "3           False           False       ...                 False   \n",
       "4           False           False       ...                 False   \n",
       "\n",
       "  supplier-S-0005 supplier-S-0031 supplier-S-0027 supplier-S-0042  \\\n",
       "0           False           False           False           False   \n",
       "1           False           False           False           False   \n",
       "2           False           False           False           False   \n",
       "3           False           False           False           False   \n",
       "4           False           False           False           False   \n",
       "\n",
       "  supplier-S-0070 supplier-S-0043 supplier-S-0018 supplier-S-0080  \\\n",
       "0           False           False           False           False   \n",
       "1           False           False           False           False   \n",
       "2           False           False           False           False   \n",
       "3           False           False           False           False   \n",
       "4           False           False           False           False   \n",
       "\n",
       "  supplier-S-0092  \n",
       "0           False  \n",
       "1           False  \n",
       "2           False  \n",
       "3           False  \n",
       "4           False  \n",
       "\n",
       "[5 rows x 23 columns]"
      ]
     },
     "execution_count": 41,
     "metadata": {},
     "output_type": "execute_result"
    }
   ],
   "source": [
    "featurizer = SupplierFeaturizer()\n",
    "featurizer.build(train_set)\n",
    "feats = featurizer.get_features(train_set)\n",
    "feats[:5]"
   ]
  },
  {
   "cell_type": "code",
   "execution_count": 60,
   "metadata": {
    "collapsed": true
   },
   "outputs": [],
   "source": [
    "# A model doing ridge regression with an arbitrary featurizer.\n",
    "\n",
    "from sklearn import linear_model\n",
    "\n",
    "class RidgeRegressionLearner(object):\n",
    "    def __init__(self, featurizer, alpha, label_col):\n",
    "        self.featurizer = featurizer\n",
    "        self.alpha = alpha\n",
    "        self.label_col = label_col\n",
    "        self.reset()\n",
    "    \n",
    "    def reset(self):\n",
    "        self.model = None\n",
    "        \n",
    "    def learn(self, train_set):\n",
    "        self.featurizer.build(train_set)\n",
    "        train_feats = self.featurizer.get_features(train_set)\n",
    "        X = train_feats.values\n",
    "        # No-transform version:\n",
    "        # y = train_set[self.label_col].values\n",
    "        # Log-transform version:\n",
    "        y = np.log(train_set[self.label_col].values + 1)\n",
    "        self.model = linear_model.Ridge(alpha=self.alpha)\n",
    "        self.model.fit(X, y)\n",
    "    \n",
    "    def predict(self, test_set):\n",
    "        test_feats = self.featurizer.get_features(test_set)\n",
    "        X = test_feats.values\n",
    "        # No-transform version:\n",
    "        # y = self.model.predict(X)\n",
    "        # Log-transform version:\n",
    "        y = np.exp(self.model.predict(X)) - 1\n",
    "        return y"
   ]
  },
  {
   "cell_type": "code",
   "execution_count": 61,
   "metadata": {
    "collapsed": false
   },
   "outputs": [],
   "source": [
    "featurizer = SupplierFeaturizer()\n",
    "learner = RidgeRegressionLearner(featurizer, alpha=0.5, label_col='cost')\n",
    "learner.learn(train_set)"
   ]
  },
  {
   "cell_type": "code",
   "execution_count": 62,
   "metadata": {
    "collapsed": false
   },
   "outputs": [
    {
     "data": {
      "text/plain": [
       "(array([-0.42208769, -0.39341496, -0.50098472, -0.2977123 ,  0.76855134,\n",
       "        -0.62176915, -0.19976114,  0.43048992, -0.31998538,  0.03002705,\n",
       "        -0.75837908, -0.09586676, -0.53797469,  0.44813174, -0.64952044,\n",
       "        -0.39518215, -1.21689243, -0.76774562, -0.33987412, -0.09064254,\n",
       "        -1.3581313 ,  0.57120965,  0.37612342]), 2.57636247706944)"
      ]
     },
     "execution_count": 62,
     "metadata": {},
     "output_type": "execute_result"
    }
   ],
   "source": [
    "learner.model.coef_, learner.model.intercept_"
   ]
  },
  {
   "cell_type": "code",
   "execution_count": 63,
   "metadata": {
    "collapsed": false
   },
   "outputs": [
    {
     "data": {
      "text/plain": [
       "array([  7.62163542,   7.62163542,   7.62163542, ...,   7.87241938,\n",
       "         8.54843343,  27.35813155])"
      ]
     },
     "execution_count": 63,
     "metadata": {},
     "output_type": "execute_result"
    }
   ],
   "source": [
    "learner.predict(train_set)"
   ]
  },
  {
   "cell_type": "code",
   "execution_count": 64,
   "metadata": {
    "collapsed": false
   },
   "outputs": [
    {
     "name": "stdout",
     "output_type": "stream",
     "text": [
      "<__main__.RidgeRegressionLearner object at 0x51f8590>: loss avg 0.793266622048 std 0.0106469131208\n"
     ]
    }
   ],
   "source": [
    "from common import calc_loss\n",
    "from common import cross_validation_eval\n",
    "\n",
    "learner = RidgeRegressionLearner(featurizer, alpha=0.5, label_col='cost')\n",
    "losses = cross_validation_eval(learner, train_set, 'cost')\n",
    "print \"{}: loss avg {} std {}\".format(\n",
    "    learner, np.mean(losses), np.std(losses))"
   ]
  },
  {
   "cell_type": "code",
   "execution_count": null,
   "metadata": {
    "collapsed": true
   },
   "outputs": [],
   "source": []
  }
 ],
 "metadata": {
  "kernelspec": {
   "display_name": "Python 2",
   "language": "python",
   "name": "python2"
  },
  "language_info": {
   "codemirror_mode": {
    "name": "ipython",
    "version": 2
   },
   "file_extension": ".py",
   "mimetype": "text/x-python",
   "name": "python",
   "nbconvert_exporter": "python",
   "pygments_lexer": "ipython2",
   "version": "2.7.3"
  }
 },
 "nbformat": 4,
 "nbformat_minor": 0
}
