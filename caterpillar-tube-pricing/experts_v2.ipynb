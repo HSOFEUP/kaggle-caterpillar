{
 "cells": [
  {
   "cell_type": "code",
   "execution_count": 16,
   "metadata": {
    "collapsed": false
   },
   "outputs": [
    {
     "name": "stdout",
     "output_type": "stream",
     "text": [
      "Populating the interactive namespace from numpy and matplotlib\n"
     ]
    }
   ],
   "source": [
    "%pylab inline\n",
    "\n",
    "from sklearn.metrics import mean_squared_error\n",
    "import pandas as pd\n",
    "import xgboost as xgb\n",
    "\n",
    "from soln import expert_params\n",
    "from soln.dataset import AllCategoricalsFeaturizer\n",
    "from soln.dataset import generate_xv_splits\n",
    "from soln.dataset import get_augmented_train_and_test_set\n",
    "from soln.experts import get_predictions\n",
    "from soln.experts import train_and_save_expert\n",
    "from soln.experts import xv_eval_experts\n",
    "from soln.utils import eval_model\n",
    "from soln.utils import train_model\n",
    "\n",
    "pd.set_option('display.max_columns', None)"
   ]
  },
  {
   "cell_type": "code",
   "execution_count": 17,
   "metadata": {
    "collapsed": false
   },
   "outputs": [
    {
     "name": "stdout",
     "output_type": "stream",
     "text": [
      "CPU times: user 13.4 s, sys: 8 ms, total: 13.4 s\n",
      "Wall time: 13.5 s\n"
     ]
    }
   ],
   "source": [
    "%time aug_train_set, aug_test_set = get_augmented_train_and_test_set()"
   ]
  },
  {
   "cell_type": "code",
   "execution_count": 18,
   "metadata": {
    "collapsed": false
   },
   "outputs": [
    {
     "name": "stdout",
     "output_type": "stream",
     "text": [
      "Training base...\n",
      "fold 0...\n",
      "  -> saving to experts/base/0\n",
      "fold 1...\n",
      "  -> saving to experts/base/1\n",
      "fold 2...\n",
      "  -> saving to experts/base/2\n",
      "fold 3...\n",
      "  -> saving to experts/base/3\n",
      "fold 4...\n",
      "  -> saving to experts/base/4\n",
      "fold 5...\n",
      "  -> saving to experts/base/5\n",
      "fold 6...\n",
      "  -> saving to experts/base/6\n",
      "fold 7...\n",
      "  -> saving to experts/base/7\n",
      "fold 8...\n",
      "  -> saving to experts/base/8\n",
      "fold 9...\n",
      "  -> saving to experts/base/9\n",
      "CPU times: user 25min 55s, sys: 8.58 s, total: 26min 4s\n",
      "Wall time: 14min 50s\n"
     ]
    }
   ],
   "source": [
    "%time train_and_save_expert('base', aug_train_set)"
   ]
  },
  {
   "cell_type": "code",
   "execution_count": 19,
   "metadata": {
    "collapsed": false
   },
   "outputs": [
    {
     "name": "stdout",
     "output_type": "stream",
     "text": [
      "CPU times: user 10.6 s, sys: 88 ms, total: 10.6 s\n",
      "Wall time: 7.75 s\n",
      "base on base_get_indices:\n",
      "test RMSLE avg 0.223523998772 std 0.0161170838101\n"
     ]
    }
   ],
   "source": [
    "%time tmp = xv_eval_experts(['base'], expert_params.base_get_indices, aug_train_set)\n",
    "print \"base on base_get_indices:\"\n",
    "print \"test RMSLE avg {} std {}\".format(tmp['rmsle_avg'], tmp['rmsle_std'])"
   ]
  },
  {
   "cell_type": "code",
   "execution_count": 24,
   "metadata": {
    "collapsed": false
   },
   "outputs": [
    {
     "name": "stdout",
     "output_type": "stream",
     "text": [
      "Training supplier66...\n",
      "fold 0...\n",
      "  -> skipping because experts/supplier66/0 exists\n",
      "fold 1...\n",
      "  -> skipping because experts/supplier66/1 exists\n",
      "fold 2...\n",
      "  -> skipping because experts/supplier66/2 exists\n",
      "fold 3...\n",
      "  -> skipping because experts/supplier66/3 exists\n",
      "fold 4...\n",
      "  -> skipping because experts/supplier66/4 exists\n",
      "fold 5...\n",
      "  -> skipping because experts/supplier66/5 exists\n",
      "fold 6...\n",
      "  -> skipping because experts/supplier66/6 exists\n",
      "fold 7...\n",
      "  -> skipping because experts/supplier66/7 exists\n",
      "fold 8...\n",
      "  -> skipping because experts/supplier66/8 exists\n",
      "fold 9...\n",
      "  -> skipping because experts/supplier66/9 exists\n",
      "CPU times: user 732 ms, sys: 12 ms, total: 744 ms\n",
      "Wall time: 809 ms\n"
     ]
    }
   ],
   "source": [
    "%time train_and_save_expert('supplier66', aug_train_set)"
   ]
  },
  {
   "cell_type": "code",
   "execution_count": 21,
   "metadata": {
    "collapsed": false
   },
   "outputs": [
    {
     "name": "stdout",
     "output_type": "stream",
     "text": [
      "base on supplier66_get_indices:\n",
      "RMSLE avg 0.178588691492 std 0.0194095090042\n",
      "supplier66 on supplier66_get_indices:\n",
      "RMSLE avg 0.174437162019 std 0.0186045491317\n"
     ]
    }
   ],
   "source": [
    "tmp = xv_eval_experts(['base'], expert_params.supplier66_get_indices, aug_train_set)\n",
    "print \"base on supplier66_get_indices:\"\n",
    "print \"RMSLE avg {} std {}\".format(tmp['rmsle_avg'], tmp['rmsle_std'])\n",
    "\n",
    "tmp = xv_eval_experts(['supplier66'], expert_params.supplier66_get_indices, aug_train_set)\n",
    "print \"supplier66 on supplier66_get_indices:\"\n",
    "print \"RMSLE avg {} std {}\".format(tmp['rmsle_avg'], tmp['rmsle_std'])"
   ]
  },
  {
   "cell_type": "code",
   "execution_count": 22,
   "metadata": {
    "collapsed": false
   },
   "outputs": [
    {
     "name": "stdout",
     "output_type": "stream",
     "text": [
      "base on base_get_indices:\n",
      "RMSLE avg 0.223523998772 std 0.0161170838101\n",
      "base + supplier66 on base_get_indices:\n",
      "RMSLE avg 0.22134058227 std 0.0147758417817\n"
     ]
    }
   ],
   "source": [
    "tmp = xv_eval_experts(['base'], expert_params.base_get_indices, aug_train_set)\n",
    "print \"base on base_get_indices:\"\n",
    "print \"RMSLE avg {} std {}\".format(tmp['rmsle_avg'], tmp['rmsle_std'])\n",
    "\n",
    "tmp = xv_eval_experts(['base', 'supplier66'], expert_params.base_get_indices, aug_train_set)\n",
    "print \"base + supplier66 on base_get_indices:\"\n",
    "print \"RMSLE avg {} std {}\".format(tmp['rmsle_avg'], tmp['rmsle_std'])"
   ]
  },
  {
   "cell_type": "code",
   "execution_count": 25,
   "metadata": {
    "collapsed": false
   },
   "outputs": [
    {
     "name": "stdout",
     "output_type": "stream",
     "text": [
      "Training supplier41...\n",
      "fold 0...\n",
      "  -> skipping because experts/supplier41/0 exists\n",
      "fold 1...\n",
      "  -> skipping because experts/supplier41/1 exists\n",
      "fold 2...\n",
      "  -> skipping because experts/supplier41/2 exists\n",
      "fold 3...\n",
      "  -> skipping because experts/supplier41/3 exists\n",
      "fold 4...\n",
      "  -> skipping because experts/supplier41/4 exists\n",
      "fold 5...\n",
      "  -> skipping because experts/supplier41/5 exists\n",
      "fold 6...\n",
      "  -> skipping because experts/supplier41/6 exists\n",
      "fold 7...\n",
      "  -> skipping because experts/supplier41/7 exists\n",
      "fold 8...\n",
      "  -> skipping because experts/supplier41/8 exists\n",
      "fold 9...\n",
      "  -> skipping because experts/supplier41/9 exists\n",
      "CPU times: user 732 ms, sys: 0 ns, total: 732 ms\n",
      "Wall time: 754 ms\n"
     ]
    }
   ],
   "source": [
    "%time train_and_save_expert('supplier41', aug_train_set)"
   ]
  },
  {
   "cell_type": "code",
   "execution_count": 26,
   "metadata": {
    "collapsed": false
   },
   "outputs": [
    {
     "name": "stdout",
     "output_type": "stream",
     "text": [
      "base on supplier41_get_indices:\n",
      "RMSLE avg 0.163396060187 std 0.0134416351528\n",
      "supplier41 on supplier41_get_indices:\n",
      "RMSLE avg 0.143444397918 std 0.0149992580948\n"
     ]
    }
   ],
   "source": [
    "tmp = xv_eval_experts(['base'], expert_params.supplier41_get_indices, aug_train_set)\n",
    "print \"base on supplier41_get_indices:\"\n",
    "print \"RMSLE avg {} std {}\".format(tmp['rmsle_avg'], tmp['rmsle_std'])\n",
    "\n",
    "tmp = xv_eval_experts(['supplier41'], expert_params.supplier41_get_indices, aug_train_set)\n",
    "print \"supplier41 on supplier41_get_indices:\"\n",
    "print \"RMSLE avg {} std {}\".format(tmp['rmsle_avg'], tmp['rmsle_std'])"
   ]
  },
  {
   "cell_type": "code",
   "execution_count": 27,
   "metadata": {
    "collapsed": false
   },
   "outputs": [
    {
     "name": "stdout",
     "output_type": "stream",
     "text": [
      "base on base_get_indices:\n",
      "RMSLE avg 0.223523998772 std 0.0161170838101\n",
      "base + supplier41 on base_get_indices:\n",
      "RMSLE avg 0.222003568033 std 0.0161722028712\n"
     ]
    }
   ],
   "source": [
    "tmp = xv_eval_experts(['base'], expert_params.base_get_indices, aug_train_set)\n",
    "print \"base on base_get_indices:\"\n",
    "print \"RMSLE avg {} std {}\".format(tmp['rmsle_avg'], tmp['rmsle_std'])\n",
    "\n",
    "tmp = xv_eval_experts(['base', 'supplier41'], expert_params.base_get_indices, aug_train_set)\n",
    "print \"base + supplier41 on base_get_indices:\"\n",
    "print \"RMSLE avg {} std {}\".format(tmp['rmsle_avg'], tmp['rmsle_std'])"
   ]
  },
  {
   "cell_type": "code",
   "execution_count": 28,
   "metadata": {
    "collapsed": false
   },
   "outputs": [
    {
     "name": "stdout",
     "output_type": "stream",
     "text": [
      "Training supplier72...\n",
      "fold 0...\n",
      "  -> saving to experts/supplier72/0\n",
      "fold 1...\n",
      "  -> saving to experts/supplier72/1\n",
      "fold 2...\n",
      "  -> saving to experts/supplier72/2\n",
      "fold 3...\n",
      "  -> saving to experts/supplier72/3\n",
      "fold 4...\n",
      "  -> saving to experts/supplier72/4\n",
      "fold 5...\n",
      "  -> saving to experts/supplier72/5\n",
      "fold 6...\n",
      "  -> saving to experts/supplier72/6\n",
      "fold 7...\n",
      "  -> saving to experts/supplier72/7\n",
      "fold 8...\n",
      "  -> saving to experts/supplier72/8\n",
      "fold 9...\n",
      "  -> saving to experts/supplier72/9\n",
      "CPU times: user 2min 33s, sys: 700 ms, total: 2min 34s\n",
      "Wall time: 1min 34s\n"
     ]
    }
   ],
   "source": [
    "%time train_and_save_expert('supplier72', aug_train_set)"
   ]
  },
  {
   "cell_type": "code",
   "execution_count": 29,
   "metadata": {
    "collapsed": false
   },
   "outputs": [
    {
     "name": "stdout",
     "output_type": "stream",
     "text": [
      "base on supplier72_get_indices:\n",
      "RMSLE avg 0.281759076081 std 0.0171937181317\n",
      "supplier72 on supplier72_get_indices:\n",
      "RMSLE avg 0.267424776038 std 0.0184438028293\n"
     ]
    }
   ],
   "source": [
    "tmp = xv_eval_experts(['base'], expert_params.supplier72_get_indices, aug_train_set)\n",
    "print \"base on supplier72_get_indices:\"\n",
    "print \"RMSLE avg {} std {}\".format(tmp['rmsle_avg'], tmp['rmsle_std'])\n",
    "\n",
    "tmp = xv_eval_experts(['supplier72'], expert_params.supplier72_get_indices, aug_train_set)\n",
    "print \"supplier72 on supplier72_get_indices:\"\n",
    "print \"RMSLE avg {} std {}\".format(tmp['rmsle_avg'], tmp['rmsle_std'])"
   ]
  },
  {
   "cell_type": "code",
   "execution_count": 30,
   "metadata": {
    "collapsed": false
   },
   "outputs": [
    {
     "name": "stdout",
     "output_type": "stream",
     "text": [
      "base on base_get_indices:\n",
      "RMSLE avg 0.223523998772 std 0.0161170838101\n",
      "base + supplier72 on base_get_indices:\n",
      "RMSLE avg 0.22220707573 std 0.0156347836814\n"
     ]
    }
   ],
   "source": [
    "tmp = xv_eval_experts(['base'], expert_params.base_get_indices, aug_train_set)\n",
    "print \"base on base_get_indices:\"\n",
    "print \"RMSLE avg {} std {}\".format(tmp['rmsle_avg'], tmp['rmsle_std'])\n",
    "\n",
    "tmp = xv_eval_experts(['base', 'supplier72'], expert_params.base_get_indices, aug_train_set)\n",
    "print \"base + supplier72 on base_get_indices:\"\n",
    "print \"RMSLE avg {} std {}\".format(tmp['rmsle_avg'], tmp['rmsle_std'])"
   ]
  },
  {
   "cell_type": "code",
   "execution_count": 31,
   "metadata": {
    "collapsed": false
   },
   "outputs": [
    {
     "name": "stdout",
     "output_type": "stream",
     "text": [
      "Training supplier54...\n",
      "fold 0...\n",
      "  -> saving to experts/supplier54/0\n",
      "fold 1...\n",
      "  -> saving to experts/supplier54/1\n",
      "fold 2...\n",
      "  -> saving to experts/supplier54/2\n",
      "fold 3...\n",
      "  -> saving to experts/supplier54/3\n",
      "fold 4...\n",
      "  -> saving to experts/supplier54/4\n",
      "fold 5...\n",
      "  -> saving to experts/supplier54/5\n",
      "fold 6...\n",
      "  -> saving to experts/supplier54/6\n",
      "fold 7...\n",
      "  -> saving to experts/supplier54/7\n",
      "fold 8...\n",
      "  -> saving to experts/supplier54/8\n",
      "fold 9...\n",
      "  -> saving to experts/supplier54/9\n",
      "CPU times: user 54.1 s, sys: 328 ms, total: 54.4 s\n",
      "Wall time: 33.9 s\n"
     ]
    }
   ],
   "source": [
    "%time train_and_save_expert('supplier54', aug_train_set)"
   ]
  },
  {
   "cell_type": "code",
   "execution_count": 32,
   "metadata": {
    "collapsed": false
   },
   "outputs": [
    {
     "name": "stdout",
     "output_type": "stream",
     "text": [
      "base on supplier54_get_indices:\n",
      "RMSLE avg 0.196001976694 std 0.0288157042557\n",
      "supplier54 on supplier54_get_indices:\n",
      "RMSLE avg 0.174941158883 std 0.043814579223\n"
     ]
    }
   ],
   "source": [
    "tmp = xv_eval_experts(['base'], expert_params.supplier54_get_indices, aug_train_set)\n",
    "print \"base on supplier54_get_indices:\"\n",
    "print \"RMSLE avg {} std {}\".format(tmp['rmsle_avg'], tmp['rmsle_std'])\n",
    "\n",
    "tmp = xv_eval_experts(['supplier54'], expert_params.supplier54_get_indices, aug_train_set)\n",
    "print \"supplier54 on supplier54_get_indices:\"\n",
    "print \"RMSLE avg {} std {}\".format(tmp['rmsle_avg'], tmp['rmsle_std'])"
   ]
  },
  {
   "cell_type": "code",
   "execution_count": 33,
   "metadata": {
    "collapsed": false
   },
   "outputs": [
    {
     "name": "stdout",
     "output_type": "stream",
     "text": [
      "base on base_get_indices:\n",
      "RMSLE avg 0.223523998772 std 0.0161170838101\n",
      "base + supplier54 on base_get_indices:\n",
      "RMSLE avg 0.223053005283 std 0.0166112166009\n"
     ]
    }
   ],
   "source": [
    "tmp = xv_eval_experts(['base'], expert_params.base_get_indices, aug_train_set)\n",
    "print \"base on base_get_indices:\"\n",
    "print \"RMSLE avg {} std {}\".format(tmp['rmsle_avg'], tmp['rmsle_std'])\n",
    "\n",
    "tmp = xv_eval_experts(['base', 'supplier54'], expert_params.base_get_indices, aug_train_set)\n",
    "print \"base + supplier54 on base_get_indices:\"\n",
    "print \"RMSLE avg {} std {}\".format(tmp['rmsle_avg'], tmp['rmsle_std'])"
   ]
  },
  {
   "cell_type": "code",
   "execution_count": 34,
   "metadata": {
    "collapsed": false
   },
   "outputs": [
    {
     "name": "stdout",
     "output_type": "stream",
     "text": [
      "Training supplier26...\n",
      "fold 0...\n",
      "  -> saving to experts/supplier26/0\n",
      "fold 1...\n",
      "  -> saving to experts/supplier26/1\n",
      "fold 2...\n",
      "  -> saving to experts/supplier26/2\n",
      "fold 3...\n",
      "  -> saving to experts/supplier26/3\n",
      "fold 4...\n",
      "  -> saving to experts/supplier26/4\n",
      "fold 5...\n",
      "  -> saving to experts/supplier26/5\n",
      "fold 6...\n",
      "  -> saving to experts/supplier26/6\n",
      "fold 7...\n",
      "  -> saving to experts/supplier26/7\n",
      "fold 8...\n",
      "  -> saving to experts/supplier26/8\n",
      "fold 9...\n",
      "  -> saving to experts/supplier26/9\n",
      "CPU times: user 51.8 s, sys: 404 ms, total: 52.2 s\n",
      "Wall time: 31.3 s\n"
     ]
    }
   ],
   "source": [
    "%time train_and_save_expert('supplier26', aug_train_set)"
   ]
  },
  {
   "cell_type": "code",
   "execution_count": 35,
   "metadata": {
    "collapsed": false
   },
   "outputs": [
    {
     "name": "stdout",
     "output_type": "stream",
     "text": [
      "base on supplier26_get_indices:\n",
      "RMSLE avg 0.452715240586 std 0.0607581643206\n",
      "supplier26 on supplier26_get_indices:\n",
      "RMSLE avg 0.472837940468 std 0.0922499875918\n"
     ]
    }
   ],
   "source": [
    "tmp = xv_eval_experts(['base'], expert_params.supplier26_get_indices, aug_train_set)\n",
    "print \"base on supplier26_get_indices:\"\n",
    "print \"RMSLE avg {} std {}\".format(tmp['rmsle_avg'], tmp['rmsle_std'])\n",
    "\n",
    "tmp = xv_eval_experts(['supplier26'], expert_params.supplier26_get_indices, aug_train_set)\n",
    "print \"supplier26 on supplier26_get_indices:\"\n",
    "print \"RMSLE avg {} std {}\".format(tmp['rmsle_avg'], tmp['rmsle_std'])"
   ]
  },
  {
   "cell_type": "code",
   "execution_count": 36,
   "metadata": {
    "collapsed": false
   },
   "outputs": [
    {
     "name": "stdout",
     "output_type": "stream",
     "text": [
      "base on base_get_indices:\n",
      "RMSLE avg 0.223523998772 std 0.0161170838101\n",
      "base + supplier26 on base_get_indices:\n",
      "RMSLE avg 0.22489079128 std 0.0173128430875\n"
     ]
    }
   ],
   "source": [
    "tmp = xv_eval_experts(['base'], expert_params.base_get_indices, aug_train_set)\n",
    "print \"base on base_get_indices:\"\n",
    "print \"RMSLE avg {} std {}\".format(tmp['rmsle_avg'], tmp['rmsle_std'])\n",
    "\n",
    "tmp = xv_eval_experts(['base', 'supplier26'], expert_params.base_get_indices, aug_train_set)\n",
    "print \"base + supplier26 on base_get_indices:\"\n",
    "print \"RMSLE avg {} std {}\".format(tmp['rmsle_avg'], tmp['rmsle_std'])"
   ]
  },
  {
   "cell_type": "code",
   "execution_count": 37,
   "metadata": {
    "collapsed": false
   },
   "outputs": [
    {
     "name": "stdout",
     "output_type": "stream",
     "text": [
      "Training supplier13...\n",
      "fold 0...\n",
      "  -> saving to experts/supplier13/0\n",
      "fold 1...\n",
      "  -> saving to experts/supplier13/1\n",
      "fold 2...\n",
      "  -> saving to experts/supplier13/2\n",
      "fold 3...\n",
      "  -> saving to experts/supplier13/3\n",
      "fold 4...\n",
      "  -> saving to experts/supplier13/4\n",
      "fold 5...\n",
      "  -> saving to experts/supplier13/5\n",
      "fold 6...\n",
      "  -> saving to experts/supplier13/6\n",
      "fold 7...\n",
      "  -> saving to experts/supplier13/7\n",
      "fold 8...\n",
      "  -> saving to experts/supplier13/8\n",
      "fold 9...\n",
      "  -> saving to experts/supplier13/9\n",
      "CPU times: user 42.4 s, sys: 356 ms, total: 42.7 s\n",
      "Wall time: 26 s\n"
     ]
    }
   ],
   "source": [
    "%time train_and_save_expert('supplier13', aug_train_set)"
   ]
  },
  {
   "cell_type": "code",
   "execution_count": 38,
   "metadata": {
    "collapsed": false
   },
   "outputs": [
    {
     "name": "stdout",
     "output_type": "stream",
     "text": [
      "base on supplier13_get_indices:\n",
      "RMSLE avg 0.316476428517 std 0.0607323134667\n",
      "supplier13 on supplier13_get_indices:\n",
      "RMSLE avg 0.299190107795 std 0.0657662232869\n"
     ]
    }
   ],
   "source": [
    "tmp = xv_eval_experts(['base'], expert_params.supplier13_get_indices, aug_train_set)\n",
    "print \"base on supplier13_get_indices:\"\n",
    "print \"RMSLE avg {} std {}\".format(tmp['rmsle_avg'], tmp['rmsle_std'])\n",
    "\n",
    "tmp = xv_eval_experts(['supplier13'], expert_params.supplier13_get_indices, aug_train_set)\n",
    "print \"supplier13 on supplier13_get_indices:\"\n",
    "print \"RMSLE avg {} std {}\".format(tmp['rmsle_avg'], tmp['rmsle_std'])"
   ]
  },
  {
   "cell_type": "code",
   "execution_count": 39,
   "metadata": {
    "collapsed": false
   },
   "outputs": [
    {
     "name": "stdout",
     "output_type": "stream",
     "text": [
      "base on base_get_indices:\n",
      "RMSLE avg 0.223523998772 std 0.0161170838101\n",
      "base + supplier13 on base_get_indices:\n",
      "RMSLE avg 0.223086949093 std 0.0165452595306\n"
     ]
    }
   ],
   "source": [
    "tmp = xv_eval_experts(['base'], expert_params.base_get_indices, aug_train_set)\n",
    "print \"base on base_get_indices:\"\n",
    "print \"RMSLE avg {} std {}\".format(tmp['rmsle_avg'], tmp['rmsle_std'])\n",
    "\n",
    "tmp = xv_eval_experts(['base', 'supplier13'], expert_params.base_get_indices, aug_train_set)\n",
    "print \"base + supplier13 on base_get_indices:\"\n",
    "print \"RMSLE avg {} std {}\".format(tmp['rmsle_avg'], tmp['rmsle_std'])"
   ]
  },
  {
   "cell_type": "code",
   "execution_count": 40,
   "metadata": {
    "collapsed": false
   },
   "outputs": [
    {
     "name": "stdout",
     "output_type": "stream",
     "text": [
      "Training supplier58...\n",
      "fold 0...\n",
      "  -> saving to experts/supplier58/0\n",
      "fold 1...\n",
      "  -> saving to experts/supplier58/1\n",
      "fold 2...\n",
      "  -> saving to experts/supplier58/2\n",
      "fold 3...\n",
      "  -> saving to experts/supplier58/3\n",
      "fold 4...\n",
      "  -> saving to experts/supplier58/4\n",
      "fold 5...\n",
      "  -> saving to experts/supplier58/5\n",
      "fold 6...\n",
      "  -> saving to experts/supplier58/6\n",
      "fold 7...\n",
      "  -> saving to experts/supplier58/7\n",
      "fold 8...\n",
      "  -> saving to experts/supplier58/8\n",
      "fold 9...\n",
      "  -> saving to experts/supplier58/9\n",
      "CPU times: user 42 s, sys: 352 ms, total: 42.4 s\n",
      "Wall time: 26.4 s\n"
     ]
    }
   ],
   "source": [
    "%time train_and_save_expert('supplier58', aug_train_set)"
   ]
  },
  {
   "cell_type": "code",
   "execution_count": 41,
   "metadata": {
    "collapsed": false
   },
   "outputs": [
    {
     "name": "stdout",
     "output_type": "stream",
     "text": [
      "base on supplier58_get_indices:\n",
      "RMSLE avg 0.322744111228 std 0.101481522894\n",
      "supplier58 on supplier58_get_indices:\n",
      "RMSLE avg 0.316461749096 std 0.131210662746\n"
     ]
    }
   ],
   "source": [
    "tmp = xv_eval_experts(['base'], expert_params.supplier58_get_indices, aug_train_set)\n",
    "print \"base on supplier58_get_indices:\"\n",
    "print \"RMSLE avg {} std {}\".format(tmp['rmsle_avg'], tmp['rmsle_std'])\n",
    "\n",
    "tmp = xv_eval_experts(['supplier58'], expert_params.supplier58_get_indices, aug_train_set)\n",
    "print \"supplier58 on supplier58_get_indices:\"\n",
    "print \"RMSLE avg {} std {}\".format(tmp['rmsle_avg'], tmp['rmsle_std'])"
   ]
  },
  {
   "cell_type": "code",
   "execution_count": 42,
   "metadata": {
    "collapsed": false
   },
   "outputs": [
    {
     "name": "stdout",
     "output_type": "stream",
     "text": [
      "base on base_get_indices:\n",
      "RMSLE avg 0.223523998772 std 0.0161170838101\n",
      "base + supplier58 on base_get_indices:\n",
      "RMSLE avg 0.223558939634 std 0.0171433485861\n"
     ]
    }
   ],
   "source": [
    "tmp = xv_eval_experts(['base'], expert_params.base_get_indices, aug_train_set)\n",
    "print \"base on base_get_indices:\"\n",
    "print \"RMSLE avg {} std {}\".format(tmp['rmsle_avg'], tmp['rmsle_std'])\n",
    "\n",
    "tmp = xv_eval_experts(['base', 'supplier58'], expert_params.base_get_indices, aug_train_set)\n",
    "print \"base + supplier58 on base_get_indices:\"\n",
    "print \"RMSLE avg {} std {}\".format(tmp['rmsle_avg'], tmp['rmsle_std'])"
   ]
  },
  {
   "cell_type": "code",
   "execution_count": 43,
   "metadata": {
    "collapsed": false
   },
   "outputs": [
    {
     "name": "stdout",
     "output_type": "stream",
     "text": [
      "Training supplier64...\n",
      "fold 0...\n",
      "  -> saving to experts/supplier64/0\n",
      "fold 1...\n",
      "  -> saving to experts/supplier64/1\n",
      "fold 2...\n",
      "  -> saving to experts/supplier64/2\n",
      "fold 3...\n",
      "  -> saving to experts/supplier64/3\n",
      "fold 4...\n",
      "  -> saving to experts/supplier64/4\n",
      "fold 5...\n",
      "  -> saving to experts/supplier64/5\n",
      "fold 6...\n",
      "  -> saving to experts/supplier64/6\n",
      "fold 7...\n",
      "  -> saving to experts/supplier64/7\n",
      "fold 8...\n",
      "  -> saving to experts/supplier64/8\n",
      "fold 9...\n",
      "  -> saving to experts/supplier64/9\n",
      "CPU times: user 36.1 s, sys: 296 ms, total: 36.4 s\n",
      "Wall time: 22.5 s\n"
     ]
    }
   ],
   "source": [
    "%time train_and_save_expert('supplier64', aug_train_set)"
   ]
  },
  {
   "cell_type": "code",
   "execution_count": 44,
   "metadata": {
    "collapsed": false
   },
   "outputs": [
    {
     "name": "stdout",
     "output_type": "stream",
     "text": [
      "base on supplier64_get_indices:\n",
      "RMSLE avg 0.376089336046 std 0.142983989166\n",
      "supplier64 on supplier64_get_indices:\n",
      "RMSLE avg 0.396000073661 std 0.133008152011\n"
     ]
    }
   ],
   "source": [
    "tmp = xv_eval_experts(['base'], expert_params.supplier64_get_indices, aug_train_set)\n",
    "print \"base on supplier64_get_indices:\"\n",
    "print \"RMSLE avg {} std {}\".format(tmp['rmsle_avg'], tmp['rmsle_std'])\n",
    "\n",
    "tmp = xv_eval_experts(['supplier64'], expert_params.supplier64_get_indices, aug_train_set)\n",
    "print \"supplier64 on supplier64_get_indices:\"\n",
    "print \"RMSLE avg {} std {}\".format(tmp['rmsle_avg'], tmp['rmsle_std'])"
   ]
  },
  {
   "cell_type": "code",
   "execution_count": 45,
   "metadata": {
    "collapsed": false
   },
   "outputs": [
    {
     "name": "stdout",
     "output_type": "stream",
     "text": [
      "base on base_get_indices:\n",
      "RMSLE avg 0.223523998772 std 0.0161170838101\n",
      "base + supplier64 on base_get_indices:\n",
      "RMSLE avg 0.223941029907 std 0.0162087745856\n"
     ]
    }
   ],
   "source": [
    "tmp = xv_eval_experts(['base'], expert_params.base_get_indices, aug_train_set)\n",
    "print \"base on base_get_indices:\"\n",
    "print \"RMSLE avg {} std {}\".format(tmp['rmsle_avg'], tmp['rmsle_std'])\n",
    "\n",
    "tmp = xv_eval_experts(['base', 'supplier64'], expert_params.base_get_indices, aug_train_set)\n",
    "print \"base + supplier64 on base_get_indices:\"\n",
    "print \"RMSLE avg {} std {}\".format(tmp['rmsle_avg'], tmp['rmsle_std'])"
   ]
  },
  {
   "cell_type": "code",
   "execution_count": 47,
   "metadata": {
    "collapsed": false
   },
   "outputs": [
    {
     "name": "stdout",
     "output_type": "stream",
     "text": [
      "Training supplier62...\n",
      "fold 0...\n",
      "  -> saving to experts/supplier62/0\n",
      "fold 1...\n",
      "  -> saving to experts/supplier62/1\n",
      "fold 2...\n",
      "  -> saving to experts/supplier62/2\n",
      "fold 3...\n",
      "  -> saving to experts/supplier62/3\n",
      "fold 4...\n",
      "  -> saving to experts/supplier62/4\n",
      "fold 5...\n",
      "  -> saving to experts/supplier62/5\n",
      "fold 6...\n",
      "  -> saving to experts/supplier62/6\n",
      "fold 7...\n",
      "  -> saving to experts/supplier62/7\n",
      "fold 8...\n",
      "  -> saving to experts/supplier62/8\n",
      "fold 9...\n",
      "  -> saving to experts/supplier62/9\n",
      "CPU times: user 22.5 s, sys: 336 ms, total: 22.8 s\n",
      "Wall time: 14.4 s\n"
     ]
    }
   ],
   "source": [
    "%time train_and_save_expert('supplier62', aug_train_set)"
   ]
  },
  {
   "cell_type": "code",
   "execution_count": 48,
   "metadata": {
    "collapsed": false
   },
   "outputs": [
    {
     "name": "stdout",
     "output_type": "stream",
     "text": [
      "base on supplier62_get_indices:\n",
      "RMSLE avg 0.475676609874 std 0.0754847461796\n",
      "supplier62 on supplier62_get_indices:\n",
      "RMSLE avg 0.561581751886 std 0.120933813703\n"
     ]
    }
   ],
   "source": [
    "tmp = xv_eval_experts(['base'], expert_params.supplier62_get_indices, aug_train_set)\n",
    "print \"base on supplier62_get_indices:\"\n",
    "print \"RMSLE avg {} std {}\".format(tmp['rmsle_avg'], tmp['rmsle_std'])\n",
    "\n",
    "tmp = xv_eval_experts(['supplier62'], expert_params.supplier62_get_indices, aug_train_set)\n",
    "print \"supplier62 on supplier62_get_indices:\"\n",
    "print \"RMSLE avg {} std {}\".format(tmp['rmsle_avg'], tmp['rmsle_std'])"
   ]
  },
  {
   "cell_type": "code",
   "execution_count": 49,
   "metadata": {
    "collapsed": false
   },
   "outputs": [
    {
     "name": "stdout",
     "output_type": "stream",
     "text": [
      "base on base_get_indices:\n",
      "RMSLE avg 0.223523998772 std 0.0161170838101\n",
      "base + supplier62 on base_get_indices:\n",
      "RMSLE avg 0.22545096456 std 0.0170530155014\n"
     ]
    }
   ],
   "source": [
    "tmp = xv_eval_experts(['base'], expert_params.base_get_indices, aug_train_set)\n",
    "print \"base on base_get_indices:\"\n",
    "print \"RMSLE avg {} std {}\".format(tmp['rmsle_avg'], tmp['rmsle_std'])\n",
    "\n",
    "tmp = xv_eval_experts(['base', 'supplier62'], expert_params.base_get_indices, aug_train_set)\n",
    "print \"base + supplier62 on base_get_indices:\"\n",
    "print \"RMSLE avg {} std {}\".format(tmp['rmsle_avg'], tmp['rmsle_std'])"
   ]
  },
  {
   "cell_type": "code",
   "execution_count": 50,
   "metadata": {
    "collapsed": false
   },
   "outputs": [
    {
     "name": "stdout",
     "output_type": "stream",
     "text": [
      "Training uncommon_suppliers_1...\n",
      "fold 0...\n",
      "  -> saving to experts/uncommon_suppliers_1/0\n",
      "fold 1...\n",
      "  -> saving to experts/uncommon_suppliers_1/1\n",
      "fold 2...\n",
      "  -> saving to experts/uncommon_suppliers_1/2\n",
      "fold 3...\n",
      "  -> saving to experts/uncommon_suppliers_1/3\n",
      "fold 4...\n",
      "  -> saving to experts/uncommon_suppliers_1/4\n",
      "fold 5...\n",
      "  -> saving to experts/uncommon_suppliers_1/5\n",
      "fold 6...\n",
      "  -> saving to experts/uncommon_suppliers_1/6\n",
      "fold 7...\n",
      "  -> saving to experts/uncommon_suppliers_1/7\n",
      "fold 8...\n",
      "  -> saving to experts/uncommon_suppliers_1/8\n",
      "fold 9...\n",
      "  -> saving to experts/uncommon_suppliers_1/9\n",
      "CPU times: user 3min 27s, sys: 844 ms, total: 3min 28s\n",
      "Wall time: 2min 5s\n"
     ]
    }
   ],
   "source": [
    "%time train_and_save_expert('uncommon_suppliers_1', aug_train_set)"
   ]
  },
  {
   "cell_type": "code",
   "execution_count": 51,
   "metadata": {
    "collapsed": false
   },
   "outputs": [
    {
     "name": "stdout",
     "output_type": "stream",
     "text": [
      "base on uncommon_suppliers_1_get_indices:\n",
      "RMSLE avg 0.413210373315 std 0.0374128227102\n",
      "uncommon_suppliers_1 on uncommon_suppliers_1_get_indices:\n",
      "RMSLE avg 0.414015992514 std 0.0366362355741\n"
     ]
    }
   ],
   "source": [
    "tmp = xv_eval_experts(['base'], expert_params.uncommon_suppliers_1_get_indices, aug_train_set)\n",
    "print \"base on uncommon_suppliers_1_get_indices:\"\n",
    "print \"RMSLE avg {} std {}\".format(tmp['rmsle_avg'], tmp['rmsle_std'])\n",
    "\n",
    "tmp = xv_eval_experts(['uncommon_suppliers_1'], expert_params.uncommon_suppliers_1_get_indices, aug_train_set)\n",
    "print \"uncommon_suppliers_1 on uncommon_suppliers_1_get_indices:\"\n",
    "print \"RMSLE avg {} std {}\".format(tmp['rmsle_avg'], tmp['rmsle_std'])"
   ]
  },
  {
   "cell_type": "code",
   "execution_count": 52,
   "metadata": {
    "collapsed": false
   },
   "outputs": [
    {
     "name": "stdout",
     "output_type": "stream",
     "text": [
      "base on base_get_indices:\n",
      "RMSLE avg 0.223523998772 std 0.0161170838101\n",
      "base + uncommon_suppliers_1 on base_get_indices:\n",
      "RMSLE avg 0.223712620133 std 0.0158303194415\n"
     ]
    }
   ],
   "source": [
    "tmp = xv_eval_experts(['base'], expert_params.base_get_indices, aug_train_set)\n",
    "print \"base on base_get_indices:\"\n",
    "print \"RMSLE avg {} std {}\".format(tmp['rmsle_avg'], tmp['rmsle_std'])\n",
    "\n",
    "tmp = xv_eval_experts(['base', 'uncommon_suppliers_1'], expert_params.base_get_indices, aug_train_set)\n",
    "print \"base + uncommon_suppliers_1 on base_get_indices:\"\n",
    "print \"RMSLE avg {} std {}\".format(tmp['rmsle_avg'], tmp['rmsle_std'])"
   ]
  },
  {
   "cell_type": "code",
   "execution_count": 54,
   "metadata": {
    "collapsed": false
   },
   "outputs": [
    {
     "data": {
      "text/plain": [
       "0.10792128328096577"
      ]
     },
     "execution_count": 54,
     "metadata": {},
     "output_type": "execute_result"
    }
   ],
   "source": [
    "expert_params.uncommon_suppliers_1_get_indices(aug_test_set).mean()"
   ]
  },
  {
   "cell_type": "code",
   "execution_count": 55,
   "metadata": {
    "collapsed": false
   },
   "outputs": [
    {
     "data": {
      "text/plain": [
       "0.044451794278154454"
      ]
     },
     "execution_count": 55,
     "metadata": {},
     "output_type": "execute_result"
    }
   ],
   "source": [
    "expert_params.uncommon_suppliers_2_get_indices(aug_test_set).mean()"
   ]
  },
  {
   "cell_type": "code",
   "execution_count": 56,
   "metadata": {
    "collapsed": false
   },
   "outputs": [
    {
     "name": "stdout",
     "output_type": "stream",
     "text": [
      "Training uncommon_suppliers_2...\n",
      "fold 0...\n",
      "  -> saving to experts/uncommon_suppliers_2/0\n",
      "fold 1...\n",
      "  -> saving to experts/uncommon_suppliers_2/1\n",
      "fold 2...\n",
      "  -> saving to experts/uncommon_suppliers_2/2\n",
      "fold 3...\n",
      "  -> saving to experts/uncommon_suppliers_2/3\n",
      "fold 4...\n",
      "  -> saving to experts/uncommon_suppliers_2/4\n",
      "fold 5...\n",
      "  -> saving to experts/uncommon_suppliers_2/5\n",
      "fold 6...\n",
      "  -> saving to experts/uncommon_suppliers_2/6\n",
      "fold 7...\n",
      "  -> saving to experts/uncommon_suppliers_2/7\n",
      "fold 8...\n",
      "  -> saving to experts/uncommon_suppliers_2/8\n",
      "fold 9...\n",
      "  -> saving to experts/uncommon_suppliers_2/9\n",
      "CPU times: user 1min 32s, sys: 468 ms, total: 1min 32s\n",
      "Wall time: 54.5 s\n"
     ]
    }
   ],
   "source": [
    "%time train_and_save_expert('uncommon_suppliers_2', aug_train_set)"
   ]
  },
  {
   "cell_type": "code",
   "execution_count": 57,
   "metadata": {
    "collapsed": false
   },
   "outputs": [
    {
     "name": "stdout",
     "output_type": "stream",
     "text": [
      "base on uncommon_suppliers_2_get_indices:\n",
      "RMSLE avg 0.446594856972 std 0.0583481619269\n",
      "uncommon_suppliers_2 on uncommon_suppliers_2_get_indices:\n",
      "RMSLE avg 0.468371800266 std 0.0639988972849\n"
     ]
    }
   ],
   "source": [
    "tmp = xv_eval_experts(['base'], expert_params.uncommon_suppliers_2_get_indices, aug_train_set)\n",
    "print \"base on uncommon_suppliers_2_get_indices:\"\n",
    "print \"RMSLE avg {} std {}\".format(tmp['rmsle_avg'], tmp['rmsle_std'])\n",
    "\n",
    "tmp = xv_eval_experts(['uncommon_suppliers_2'], expert_params.uncommon_suppliers_2_get_indices, aug_train_set)\n",
    "print \"uncommon_suppliers_2 on uncommon_suppliers_2_get_indices:\"\n",
    "print \"RMSLE avg {} std {}\".format(tmp['rmsle_avg'], tmp['rmsle_std'])"
   ]
  },
  {
   "cell_type": "code",
   "execution_count": 58,
   "metadata": {
    "collapsed": false
   },
   "outputs": [
    {
     "name": "stdout",
     "output_type": "stream",
     "text": [
      "base on base_get_indices:\n",
      "RMSLE avg 0.223523998772 std 0.0161170838101\n",
      "base + uncommon_suppliers_2 on base_get_indices:\n",
      "RMSLE avg 0.225722687125 std 0.0155113430071\n"
     ]
    }
   ],
   "source": [
    "tmp = xv_eval_experts(['base'], expert_params.base_get_indices, aug_train_set)\n",
    "print \"base on base_get_indices:\"\n",
    "print \"RMSLE avg {} std {}\".format(tmp['rmsle_avg'], tmp['rmsle_std'])\n",
    "\n",
    "tmp = xv_eval_experts(['base', 'uncommon_suppliers_2'], expert_params.base_get_indices, aug_train_set)\n",
    "print \"base + uncommon_suppliers_2 on base_get_indices:\"\n",
    "print \"RMSLE avg {} std {}\".format(tmp['rmsle_avg'], tmp['rmsle_std'])"
   ]
  },
  {
   "cell_type": "code",
   "execution_count": null,
   "metadata": {
    "collapsed": true
   },
   "outputs": [],
   "source": []
  }
 ],
 "metadata": {
  "kernelspec": {
   "display_name": "Python 2",
   "language": "python",
   "name": "python2"
  },
  "language_info": {
   "codemirror_mode": {
    "name": "ipython",
    "version": 2
   },
   "file_extension": ".py",
   "mimetype": "text/x-python",
   "name": "python",
   "nbconvert_exporter": "python",
   "pygments_lexer": "ipython2",
   "version": "2.7.3"
  }
 },
 "nbformat": 4,
 "nbformat_minor": 0
}
