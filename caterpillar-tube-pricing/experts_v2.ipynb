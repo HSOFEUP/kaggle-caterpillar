{
 "cells": [
  {
   "cell_type": "code",
   "execution_count": 8,
   "metadata": {
    "collapsed": false
   },
   "outputs": [
    {
     "name": "stdout",
     "output_type": "stream",
     "text": [
      "Populating the interactive namespace from numpy and matplotlib\n"
     ]
    }
   ],
   "source": [
    "%pylab inline\n",
    "\n",
    "from sklearn.metrics import mean_squared_error\n",
    "import pandas as pd\n",
    "import xgboost as xgb\n",
    "\n",
    "from soln import expert_params\n",
    "from soln.dataset import AllCategoricalsFeaturizer\n",
    "from soln.dataset import generate_xv_splits\n",
    "from soln.dataset import get_augmented_train_and_test_set\n",
    "from soln.experts import get_predictions\n",
    "from soln.experts import train_and_save_expert\n",
    "from soln.experts import xv_eval_experts\n",
    "from soln.utils import eval_model\n",
    "from soln.utils import train_model\n",
    "\n",
    "pd.set_option('display.max_columns', None)"
   ]
  },
  {
   "cell_type": "code",
   "execution_count": 2,
   "metadata": {
    "collapsed": false
   },
   "outputs": [
    {
     "name": "stdout",
     "output_type": "stream",
     "text": [
      "CPU times: user 13.3 s, sys: 200 ms, total: 13.5 s\n",
      "Wall time: 13.7 s\n"
     ]
    }
   ],
   "source": [
    "%time aug_train_set, aug_test_set = get_augmented_train_and_test_set()"
   ]
  },
  {
   "cell_type": "code",
   "execution_count": 7,
   "metadata": {
    "collapsed": false
   },
   "outputs": [
    {
     "name": "stdout",
     "output_type": "stream",
     "text": [
      "Training base...\n",
      "fold 0...\n",
      "  -> saving to experts/base/0\n",
      "fold 1...\n",
      "  -> skipping because experts/base/1 exists\n",
      "fold 2...\n",
      "  -> skipping because experts/base/2 exists\n",
      "fold 3...\n",
      "  -> skipping because experts/base/3 exists\n",
      "fold 4...\n",
      "  -> skipping because experts/base/4 exists\n",
      "fold 5...\n",
      "  -> skipping because experts/base/5 exists\n",
      "fold 6...\n",
      "  -> skipping because experts/base/6 exists\n",
      "fold 7...\n",
      "  -> skipping because experts/base/7 exists\n",
      "fold 8...\n",
      "  -> skipping because experts/base/8 exists\n",
      "fold 9...\n",
      "  -> skipping because experts/base/9 exists\n",
      "CPU times: user 22.5 s, sys: 376 ms, total: 22.8 s\n",
      "Wall time: 16.3 s\n"
     ]
    }
   ],
   "source": [
    "%time train_and_save_expert('base', aug_train_set)"
   ]
  },
  {
   "cell_type": "code",
   "execution_count": 11,
   "metadata": {
    "collapsed": false
   },
   "outputs": [
    {
     "name": "stdout",
     "output_type": "stream",
     "text": [
      "CPU times: user 3.96 s, sys: 464 ms, total: 4.42 s\n",
      "Wall time: 4.2 s\n",
      "base on base_get_indices:\n",
      "test RMSLE avg 0.388778402464 std 0.0189760521355\n"
     ]
    }
   ],
   "source": [
    "%time tmp = xv_eval_experts(['base'], expert_params.base_get_indices, aug_train_set)\n",
    "print \"base on base_get_indices:\"\n",
    "print \"test RMSLE avg {} std {}\".format(tmp['rmsle_avg'], tmp['rmsle_std'])"
   ]
  },
  {
   "cell_type": "code",
   "execution_count": 13,
   "metadata": {
    "collapsed": false
   },
   "outputs": [
    {
     "name": "stdout",
     "output_type": "stream",
     "text": [
      "Training supplier66...\n",
      "fold 0...\n",
      "  -> saving to experts/supplier66/0\n",
      "fold 1...\n",
      "  -> saving to experts/supplier66/1\n",
      "fold 2...\n",
      "  -> saving to experts/supplier66/2\n",
      "fold 3...\n",
      "  -> saving to experts/supplier66/3\n",
      "fold 4...\n",
      "  -> saving to experts/supplier66/4\n",
      "fold 5...\n",
      "  -> saving to experts/supplier66/5\n",
      "fold 6...\n",
      "  -> saving to experts/supplier66/6\n",
      "fold 7...\n",
      "  -> saving to experts/supplier66/7\n",
      "fold 8...\n",
      "  -> saving to experts/supplier66/8\n",
      "fold 9...\n",
      "  -> saving to experts/supplier66/9\n",
      "CPU times: user 2min 12s, sys: 2.1 s, total: 2min 14s\n",
      "Wall time: 1min 29s\n"
     ]
    }
   ],
   "source": [
    "%time train_and_save_expert('supplier66', aug_train_set)"
   ]
  },
  {
   "cell_type": "code",
   "execution_count": 14,
   "metadata": {
    "collapsed": false
   },
   "outputs": [
    {
     "name": "stdout",
     "output_type": "stream",
     "text": [
      "base on supplier66_get_indices:\n",
      "RMSLE avg 0.343279546011 std 0.0277813353788\n",
      "supplier66 on supplier66_get_indices:\n",
      "RMSLE avg 0.327794360728 std 0.0255631617627\n"
     ]
    }
   ],
   "source": [
    "tmp = xv_eval_experts(['base'], expert_params.supplier66_get_indices, aug_train_set)\n",
    "print \"base on supplier66_get_indices:\"\n",
    "print \"RMSLE avg {} std {}\".format(tmp['rmsle_avg'], tmp['rmsle_std'])\n",
    "\n",
    "tmp = xv_eval_experts(['supplier66'], expert_params.supplier66_get_indices, aug_train_set)\n",
    "print \"supplier66 on supplier66_get_indices:\"\n",
    "print \"RMSLE avg {} std {}\".format(tmp['rmsle_avg'], tmp['rmsle_std'])"
   ]
  },
  {
   "cell_type": "code",
   "execution_count": 15,
   "metadata": {
    "collapsed": false
   },
   "outputs": [
    {
     "name": "stdout",
     "output_type": "stream",
     "text": [
      "base on base_get_indices:\n",
      "RMSLE avg 0.388778402464 std 0.0189760521355\n",
      "base + supplier66 on base_get_indices:\n",
      "RMSLE avg 0.379577590139 std 0.0174003768842\n"
     ]
    }
   ],
   "source": [
    "tmp = xv_eval_experts(['base'], expert_params.base_get_indices, aug_train_set)\n",
    "print \"base on base_get_indices:\"\n",
    "print \"RMSLE avg {} std {}\".format(tmp['rmsle_avg'], tmp['rmsle_std'])\n",
    "\n",
    "tmp = xv_eval_experts(['base', 'supplier66'], expert_params.base_get_indices, aug_train_set)\n",
    "print \"base + supplier66 on base_get_indices:\"\n",
    "print \"RMSLE avg {} std {}\".format(tmp['rmsle_avg'], tmp['rmsle_std'])"
   ]
  },
  {
   "cell_type": "code",
   "execution_count": null,
   "metadata": {
    "collapsed": true
   },
   "outputs": [],
   "source": []
  }
 ],
 "metadata": {
  "kernelspec": {
   "display_name": "Python 2",
   "language": "python",
   "name": "python2"
  },
  "language_info": {
   "codemirror_mode": {
    "name": "ipython",
    "version": 2
   },
   "file_extension": ".py",
   "mimetype": "text/x-python",
   "name": "python",
   "nbconvert_exporter": "python",
   "pygments_lexer": "ipython2",
   "version": "2.7.3"
  }
 },
 "nbformat": 4,
 "nbformat_minor": 0
}
