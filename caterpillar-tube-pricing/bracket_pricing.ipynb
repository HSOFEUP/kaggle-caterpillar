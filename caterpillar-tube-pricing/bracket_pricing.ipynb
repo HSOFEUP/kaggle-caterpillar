{
 "cells": [
  {
   "cell_type": "code",
   "execution_count": 23,
   "metadata": {
    "collapsed": false
   },
   "outputs": [
    {
     "name": "stdout",
     "output_type": "stream",
     "text": [
      "Populating the interactive namespace from numpy and matplotlib\n"
     ]
    }
   ],
   "source": [
    "%pylab inline\n",
    "\n",
    "from collections import Counter\n",
    "from collections import defaultdict\n",
    "import pandas as pd\n",
    "\n",
    "from soln.dataset import get_dev_split\n",
    "from soln.dataset import get_extended_X\n",
    "from soln.dataset import load_raw_data\n",
    "\n",
    "raw = load_raw_data()\n",
    "X_train, y_train, X_test, y_test = get_dev_split(raw)"
   ]
  },
  {
   "cell_type": "code",
   "execution_count": 24,
   "metadata": {
    "collapsed": false
   },
   "outputs": [
    {
     "data": {
      "text/plain": [
       "S-0066    20553\n",
       "S-0041     3323\n",
       "S-0072     2317\n",
       "S-0054      838\n",
       "S-0026      727\n",
       "S-0013      554\n",
       "S-0058      516\n",
       "S-0064      446\n",
       "S-0062      264\n",
       "S-0014      139\n",
       "dtype: int64"
      ]
     },
     "execution_count": 24,
     "metadata": {},
     "output_type": "execute_result"
    }
   ],
   "source": [
    "raw['train_set'].supplier.value_counts()[:10]"
   ]
  },
  {
   "cell_type": "code",
   "execution_count": 25,
   "metadata": {
    "collapsed": false
   },
   "outputs": [
    {
     "data": {
      "text/plain": [
       "S-0066    20547\n",
       "S-0041     3128\n",
       "S-0072     2336\n",
       "S-0054      961\n",
       "S-0026      784\n",
       "S-0013      612\n",
       "S-0058      523\n",
       "S-0064      444\n",
       "S-0062      232\n",
       "S-0014      124\n",
       "dtype: int64"
      ]
     },
     "execution_count": 25,
     "metadata": {},
     "output_type": "execute_result"
    }
   ],
   "source": [
    "raw['test_set'].supplier.value_counts()[:10]"
   ]
  },
  {
   "cell_type": "code",
   "execution_count": 26,
   "metadata": {
    "collapsed": false
   },
   "outputs": [
    {
     "data": {
      "text/plain": [
       "S-0066    17503\n",
       "S-0041     3188\n",
       "S-0072     2024\n",
       "S-0054      766\n",
       "S-0026      663\n",
       "S-0013      544\n",
       "S-0058      515\n",
       "S-0064      323\n",
       "S-0062      190\n",
       "S-0030       94\n",
       "dtype: int64"
      ]
     },
     "execution_count": 26,
     "metadata": {},
     "output_type": "execute_result"
    }
   ],
   "source": [
    "X_train.supplier.value_counts()[:10]"
   ]
  },
  {
   "cell_type": "code",
   "execution_count": 27,
   "metadata": {
    "collapsed": false
   },
   "outputs": [
    {
     "data": {
      "text/plain": [
       "S-0066    3050\n",
       "S-0072     293\n",
       "S-0041     135\n",
       "S-0064     123\n",
       "S-0062      74\n",
       "S-0054      72\n",
       "S-0026      64\n",
       "S-0014      46\n",
       "S-0030      17\n",
       "S-0013      10\n",
       "dtype: int64"
      ]
     },
     "execution_count": 27,
     "metadata": {},
     "output_type": "execute_result"
    }
   ],
   "source": [
    "X_test.supplier.value_counts()[:10]"
   ]
  },
  {
   "cell_type": "code",
   "execution_count": 32,
   "metadata": {
    "collapsed": false
   },
   "outputs": [
    {
     "name": "stdout",
     "output_type": "stream",
     "text": [
      "((1,), 2945)\n",
      "((1, 2, 5, 10, 25, 50, 100, 250), 2194)\n",
      "((1, 6, 20), 662)\n",
      "((1, 1), 286)\n",
      "((5,), 173)\n",
      "((20,), 171)\n",
      "((10,), 144)\n",
      "((5, 19, 20), 109)\n",
      "((25,), 100)\n",
      "((1, 2, 3, 5, 10, 20), 84)\n",
      "((1, 2, 5, 10, 25, 50, 100), 67)\n",
      "((50,), 63)\n",
      "((2,), 62)\n",
      "((15,), 51)\n",
      "((40,), 49)\n",
      "((3,), 47)\n",
      "((35,), 43)\n",
      "((30,), 41)\n",
      "((5, 10, 15), 36)\n",
      "((1, 2, 3, 4, 5), 36)\n"
     ]
    }
   ],
   "source": [
    "train = raw['train_set']\n",
    "train = train.set_index('tube_assembly_id')\n",
    "\n",
    "taid_to_quantities = defaultdict(list)\n",
    "for taid, quantity in train['quantity'].iteritems():\n",
    "    taid_to_quantities[taid].append(quantity)\n",
    "\n",
    "quantities_ctr = Counter()\n",
    "for taid in taid_to_quantities:\n",
    "    taid_to_quantities[taid].sort()\n",
    "    quantities_ctr[tuple(taid_to_quantities[taid])] += 1\n",
    "\n",
    "for item in quantities_ctr.most_common(20):\n",
    "    print item"
   ]
  },
  {
   "cell_type": "code",
   "execution_count": 9,
   "metadata": {
    "collapsed": false
   },
   "outputs": [
    {
     "data": {
      "text/plain": [
       "S-0041    110\n",
       "S-0054      2\n",
       "S-0013      1\n",
       "dtype: int64"
      ]
     },
     "execution_count": 9,
     "metadata": {},
     "output_type": "execute_result"
    }
   ],
   "source": [
    "train[train.quantity == 19].supplier.value_counts()"
   ]
  },
  {
   "cell_type": "code",
   "execution_count": 33,
   "metadata": {
    "collapsed": false
   },
   "outputs": [
    {
     "name": "stdout",
     "output_type": "stream",
     "text": [
      "((1,), 2995)\n",
      "((1, 2, 5, 10, 25, 50, 100, 250), 2185)\n",
      "((1, 6, 20), 623)\n",
      "((1, 1), 272)\n",
      "((20,), 195)\n",
      "((5,), 151)\n",
      "((10,), 148)\n",
      "((5, 19, 20), 92)\n",
      "((25,), 91)\n",
      "((1, 2, 3, 5, 10, 20), 76)\n",
      "((2,), 72)\n",
      "((50,), 72)\n",
      "((1, 2, 5, 10, 25, 50, 100), 62)\n",
      "((15,), 48)\n",
      "((40,), 45)\n",
      "((1, 3, 5, 7, 9), 41)\n",
      "((1, 2, 3, 4, 5), 41)\n",
      "((30,), 41)\n",
      "((35,), 38)\n",
      "((5, 20), 36)\n"
     ]
    }
   ],
   "source": [
    "test = raw['test_set']\n",
    "test = test.set_index('tube_assembly_id')\n",
    "\n",
    "taid_to_quantities = defaultdict(list)\n",
    "for taid, quantity in test['quantity'].iteritems():\n",
    "    taid_to_quantities[taid].append(quantity)\n",
    "\n",
    "quantities_ctr = Counter()\n",
    "for taid in taid_to_quantities:\n",
    "    taid_to_quantities[taid].sort()\n",
    "    quantities_ctr[tuple(taid_to_quantities[taid])] += 1\n",
    "\n",
    "for item in quantities_ctr.most_common(20):\n",
    "    print item"
   ]
  },
  {
   "cell_type": "code",
   "execution_count": 31,
   "metadata": {
    "collapsed": false
   },
   "outputs": [
    {
     "name": "stdout",
     "output_type": "stream",
     "text": [
      "((1,), 2672)\n",
      "((1, 2, 5, 10, 25, 50, 100, 250), 1860)\n",
      "((1, 6, 20), 637)\n",
      "((1, 1), 261)\n",
      "((5,), 169)\n",
      "((20,), 169)\n",
      "((10,), 139)\n",
      "((5, 19, 20), 106)\n",
      "((25,), 89)\n",
      "((1, 2, 3, 5, 10, 20), 79)\n",
      "((1, 2, 5, 10, 25, 50, 100), 62)\n",
      "((2,), 61)\n",
      "((50,), 56)\n",
      "((15,), 51)\n",
      "((40,), 47)\n",
      "((3,), 42)\n",
      "((35,), 41)\n",
      "((30,), 36)\n",
      "((5, 10, 15), 35)\n",
      "((1, 3, 5, 7, 9), 33)\n"
     ]
    }
   ],
   "source": [
    "df = X_train\n",
    "df = df.set_index('tube_assembly_id')\n",
    "\n",
    "taid_to_quantities = defaultdict(list)\n",
    "for taid, quantity in df['quantity'].iteritems():\n",
    "    taid_to_quantities[taid].append(quantity)\n",
    "\n",
    "quantities_ctr = Counter()\n",
    "for taid in taid_to_quantities:\n",
    "    taid_to_quantities[taid].sort()\n",
    "    quantities_ctr[tuple(taid_to_quantities[taid])] += 1\n",
    "\n",
    "for item in quantities_ctr.most_common(20):\n",
    "    print item"
   ]
  },
  {
   "cell_type": "code",
   "execution_count": 32,
   "metadata": {
    "collapsed": false
   },
   "outputs": [
    {
     "name": "stdout",
     "output_type": "stream",
     "text": [
      "((1, 2, 5, 10, 25, 50, 100, 250), 334)\n",
      "((1,), 273)\n",
      "((1, 1), 25)\n",
      "((1, 6, 20), 25)\n",
      "((25,), 11)\n",
      "((5, 10, 15, 20), 9)\n",
      "((2, 4, 6, 8), 9)\n",
      "((1, 2, 3, 4), 8)\n",
      "((50,), 7)\n",
      "((3, 6, 9, 12), 7)\n",
      "((1, 2, 5, 10, 25, 50), 6)\n",
      "((1, 2, 3, 4, 5), 6)\n",
      "((2, 3, 4, 5), 6)\n",
      "((10,), 5)\n",
      "((1, 2, 3, 5, 10, 20), 5)\n",
      "((1, 2, 5, 10, 25, 50, 100), 5)\n",
      "((3,), 5)\n",
      "((30,), 5)\n",
      "((1, 1, 1), 5)\n",
      "((75,), 4)\n"
     ]
    }
   ],
   "source": [
    "df = X_test\n",
    "df = df.set_index('tube_assembly_id')\n",
    "\n",
    "taid_to_quantities = defaultdict(list)\n",
    "for taid, quantity in df['quantity'].iteritems():\n",
    "    taid_to_quantities[taid].append(quantity)\n",
    "\n",
    "quantities_ctr = Counter()\n",
    "for taid in taid_to_quantities:\n",
    "    taid_to_quantities[taid].sort()\n",
    "    quantities_ctr[tuple(taid_to_quantities[taid])] += 1\n",
    "\n",
    "for item in quantities_ctr.most_common(20):\n",
    "    print item"
   ]
  },
  {
   "cell_type": "code",
   "execution_count": 35,
   "metadata": {
    "collapsed": false
   },
   "outputs": [
    {
     "name": "stdout",
     "output_type": "stream",
     "text": [
      "261\n"
     ]
    },
    {
     "data": {
      "text/plain": [
       "['TA-01916',\n",
       " 'TA-02127',\n",
       " 'TA-02225',\n",
       " 'TA-02226',\n",
       " 'TA-02249',\n",
       " 'TA-02306',\n",
       " 'TA-02307',\n",
       " 'TA-02364',\n",
       " 'TA-02396',\n",
       " 'TA-02421',\n",
       " 'TA-02549',\n",
       " 'TA-02553',\n",
       " 'TA-02554',\n",
       " 'TA-02564',\n",
       " 'TA-02565',\n",
       " 'TA-02566',\n",
       " 'TA-02601',\n",
       " 'TA-02622',\n",
       " 'TA-02623',\n",
       " 'TA-02649',\n",
       " 'TA-02664',\n",
       " 'TA-02668',\n",
       " 'TA-03079',\n",
       " 'TA-03484',\n",
       " 'TA-03528',\n",
       " 'TA-03600',\n",
       " 'TA-03658',\n",
       " 'TA-03683',\n",
       " 'TA-04015',\n",
       " 'TA-04023',\n",
       " 'TA-04054',\n",
       " 'TA-04091',\n",
       " 'TA-04107',\n",
       " 'TA-04288',\n",
       " 'TA-04386',\n",
       " 'TA-04506',\n",
       " 'TA-04730',\n",
       " 'TA-04791',\n",
       " 'TA-04845',\n",
       " 'TA-04915',\n",
       " 'TA-05028',\n",
       " 'TA-05061',\n",
       " 'TA-05065',\n",
       " 'TA-05123',\n",
       " 'TA-05129',\n",
       " 'TA-05202',\n",
       " 'TA-05224',\n",
       " 'TA-05397',\n",
       " 'TA-05400',\n",
       " 'TA-05639',\n",
       " 'TA-05724',\n",
       " 'TA-05784',\n",
       " 'TA-05984',\n",
       " 'TA-05985',\n",
       " 'TA-05987',\n",
       " 'TA-05988',\n",
       " 'TA-05994',\n",
       " 'TA-06042',\n",
       " 'TA-06044',\n",
       " 'TA-06045',\n",
       " 'TA-06270',\n",
       " 'TA-06595',\n",
       " 'TA-06596',\n",
       " 'TA-06619',\n",
       " 'TA-06813',\n",
       " 'TA-06815',\n",
       " 'TA-06816',\n",
       " 'TA-06878',\n",
       " 'TA-06879',\n",
       " 'TA-06964',\n",
       " 'TA-06965',\n",
       " 'TA-07070',\n",
       " 'TA-07082',\n",
       " 'TA-07083',\n",
       " 'TA-07121',\n",
       " 'TA-07178',\n",
       " 'TA-07237',\n",
       " 'TA-07329',\n",
       " 'TA-07330',\n",
       " 'TA-07332',\n",
       " 'TA-07352',\n",
       " 'TA-07353',\n",
       " 'TA-07363',\n",
       " 'TA-07369',\n",
       " 'TA-07467',\n",
       " 'TA-07501',\n",
       " 'TA-07522',\n",
       " 'TA-07725',\n",
       " 'TA-07852',\n",
       " 'TA-07922',\n",
       " 'TA-07923',\n",
       " 'TA-07924',\n",
       " 'TA-07932',\n",
       " 'TA-07958',\n",
       " 'TA-07969',\n",
       " 'TA-07978',\n",
       " 'TA-08123',\n",
       " 'TA-08157',\n",
       " 'TA-08341',\n",
       " 'TA-08361',\n",
       " 'TA-08443',\n",
       " 'TA-08473',\n",
       " 'TA-08505',\n",
       " 'TA-08524',\n",
       " 'TA-08625',\n",
       " 'TA-08656',\n",
       " 'TA-08701',\n",
       " 'TA-08708',\n",
       " 'TA-08802',\n",
       " 'TA-08865',\n",
       " 'TA-08882',\n",
       " 'TA-08886',\n",
       " 'TA-08896',\n",
       " 'TA-08897',\n",
       " 'TA-08938',\n",
       " 'TA-09112',\n",
       " 'TA-09266',\n",
       " 'TA-09269',\n",
       " 'TA-09468',\n",
       " 'TA-09542',\n",
       " 'TA-09610',\n",
       " 'TA-09652',\n",
       " 'TA-09669',\n",
       " 'TA-10060',\n",
       " 'TA-10187',\n",
       " 'TA-10256',\n",
       " 'TA-10258',\n",
       " 'TA-10347',\n",
       " 'TA-10374',\n",
       " 'TA-10375',\n",
       " 'TA-10377',\n",
       " 'TA-10387',\n",
       " 'TA-10541',\n",
       " 'TA-10732',\n",
       " 'TA-10754',\n",
       " 'TA-11000',\n",
       " 'TA-11001',\n",
       " 'TA-11003',\n",
       " 'TA-11058',\n",
       " 'TA-11121',\n",
       " 'TA-11266',\n",
       " 'TA-11284',\n",
       " 'TA-11285',\n",
       " 'TA-11335',\n",
       " 'TA-11379',\n",
       " 'TA-11607',\n",
       " 'TA-11611',\n",
       " 'TA-11613',\n",
       " 'TA-11616',\n",
       " 'TA-11808',\n",
       " 'TA-12077',\n",
       " 'TA-12282',\n",
       " 'TA-12284',\n",
       " 'TA-12295',\n",
       " 'TA-12343',\n",
       " 'TA-12378',\n",
       " 'TA-12408',\n",
       " 'TA-12523',\n",
       " 'TA-12719',\n",
       " 'TA-12731',\n",
       " 'TA-13008',\n",
       " 'TA-13017',\n",
       " 'TA-13040',\n",
       " 'TA-13459',\n",
       " 'TA-13503',\n",
       " 'TA-13506',\n",
       " 'TA-13514',\n",
       " 'TA-14071',\n",
       " 'TA-14107',\n",
       " 'TA-14110',\n",
       " 'TA-14160',\n",
       " 'TA-14410',\n",
       " 'TA-14653',\n",
       " 'TA-14790',\n",
       " 'TA-14899',\n",
       " 'TA-14901',\n",
       " 'TA-15355',\n",
       " 'TA-15584',\n",
       " 'TA-15749',\n",
       " 'TA-15751',\n",
       " 'TA-15754',\n",
       " 'TA-15833',\n",
       " 'TA-15837',\n",
       " 'TA-15922',\n",
       " 'TA-16121',\n",
       " 'TA-16344',\n",
       " 'TA-16623',\n",
       " 'TA-16636',\n",
       " 'TA-16637',\n",
       " 'TA-17084',\n",
       " 'TA-17107',\n",
       " 'TA-17141',\n",
       " 'TA-17144',\n",
       " 'TA-17145',\n",
       " 'TA-17199',\n",
       " 'TA-17220',\n",
       " 'TA-17235',\n",
       " 'TA-17236',\n",
       " 'TA-17324',\n",
       " 'TA-17346',\n",
       " 'TA-17698',\n",
       " 'TA-17786',\n",
       " 'TA-17867',\n",
       " 'TA-17868',\n",
       " 'TA-17869',\n",
       " 'TA-17899',\n",
       " 'TA-17907',\n",
       " 'TA-17909',\n",
       " 'TA-17910',\n",
       " 'TA-17912',\n",
       " 'TA-17914',\n",
       " 'TA-17916',\n",
       " 'TA-17917',\n",
       " 'TA-17929',\n",
       " 'TA-17931',\n",
       " 'TA-18063',\n",
       " 'TA-18172',\n",
       " 'TA-18251',\n",
       " 'TA-18277',\n",
       " 'TA-18278',\n",
       " 'TA-18281',\n",
       " 'TA-18325',\n",
       " 'TA-18368',\n",
       " 'TA-18426',\n",
       " 'TA-18485',\n",
       " 'TA-18730',\n",
       " 'TA-18744',\n",
       " 'TA-18749',\n",
       " 'TA-18781',\n",
       " 'TA-18794',\n",
       " 'TA-18806',\n",
       " 'TA-18839',\n",
       " 'TA-18845',\n",
       " 'TA-18865',\n",
       " 'TA-19013',\n",
       " 'TA-19014',\n",
       " 'TA-19027',\n",
       " 'TA-19323',\n",
       " 'TA-19347',\n",
       " 'TA-19474',\n",
       " 'TA-19496',\n",
       " 'TA-19526',\n",
       " 'TA-19527',\n",
       " 'TA-19528',\n",
       " 'TA-19556',\n",
       " 'TA-19594',\n",
       " 'TA-19595',\n",
       " 'TA-19605',\n",
       " 'TA-19606',\n",
       " 'TA-19607',\n",
       " 'TA-19623',\n",
       " 'TA-19680',\n",
       " 'TA-19731',\n",
       " 'TA-19734',\n",
       " 'TA-20091',\n",
       " 'TA-20128',\n",
       " 'TA-20138',\n",
       " 'TA-21119',\n",
       " 'TA-21125',\n",
       " 'TA-21142',\n",
       " 'TA-21185']"
      ]
     },
     "execution_count": 35,
     "metadata": {},
     "output_type": "execute_result"
    }
   ],
   "source": [
    "df = X_train\n",
    "df = df.set_index('tube_assembly_id')\n",
    "\n",
    "taid_to_quantities = defaultdict(list)\n",
    "for taid, quantity in df['quantity'].iteritems():\n",
    "    taid_to_quantities[taid].append(quantity)\n",
    "\n",
    "taids = []\n",
    "for taid, quantities in taid_to_quantities.iteritems():\n",
    "    if quantities == [1, 1]:\n",
    "        taids.append(taid)\n",
    "\n",
    "taids.sort()\n",
    "print len(taids)\n",
    "taids"
   ]
  },
  {
   "cell_type": "code",
   "execution_count": null,
   "metadata": {
    "collapsed": true
   },
   "outputs": [],
   "source": []
  }
 ],
 "metadata": {
  "kernelspec": {
   "display_name": "Python 2",
   "language": "python",
   "name": "python2"
  },
  "language_info": {
   "codemirror_mode": {
    "name": "ipython",
    "version": 2
   },
   "file_extension": ".py",
   "mimetype": "text/x-python",
   "name": "python",
   "nbconvert_exporter": "python",
   "pygments_lexer": "ipython2",
   "version": "2.7.3"
  }
 },
 "nbformat": 4,
 "nbformat_minor": 0
}
