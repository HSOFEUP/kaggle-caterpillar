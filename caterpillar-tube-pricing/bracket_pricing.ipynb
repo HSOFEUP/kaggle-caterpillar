{
 "cells": [
  {
   "cell_type": "code",
   "execution_count": 23,
   "metadata": {
    "collapsed": false
   },
   "outputs": [
    {
     "name": "stdout",
     "output_type": "stream",
     "text": [
      "Populating the interactive namespace from numpy and matplotlib\n"
     ]
    }
   ],
   "source": [
    "%pylab inline\n",
    "\n",
    "from collections import Counter\n",
    "from collections import defaultdict\n",
    "import pandas as pd\n",
    "\n",
    "from soln.dataset import get_dev_split\n",
    "from soln.dataset import get_extended_X\n",
    "from soln.dataset import load_raw_data\n",
    "\n",
    "raw = load_raw_data()\n",
    "X_train, y_train, X_test, y_test = get_dev_split(raw)"
   ]
  },
  {
   "cell_type": "code",
   "execution_count": 24,
   "metadata": {
    "collapsed": false
   },
   "outputs": [
    {
     "data": {
      "text/plain": [
       "S-0066    20553\n",
       "S-0041     3323\n",
       "S-0072     2317\n",
       "S-0054      838\n",
       "S-0026      727\n",
       "S-0013      554\n",
       "S-0058      516\n",
       "S-0064      446\n",
       "S-0062      264\n",
       "S-0014      139\n",
       "dtype: int64"
      ]
     },
     "execution_count": 24,
     "metadata": {},
     "output_type": "execute_result"
    }
   ],
   "source": [
    "raw['train_set'].supplier.value_counts()[:10]"
   ]
  },
  {
   "cell_type": "code",
   "execution_count": 25,
   "metadata": {
    "collapsed": false
   },
   "outputs": [
    {
     "data": {
      "text/plain": [
       "S-0066    20547\n",
       "S-0041     3128\n",
       "S-0072     2336\n",
       "S-0054      961\n",
       "S-0026      784\n",
       "S-0013      612\n",
       "S-0058      523\n",
       "S-0064      444\n",
       "S-0062      232\n",
       "S-0014      124\n",
       "dtype: int64"
      ]
     },
     "execution_count": 25,
     "metadata": {},
     "output_type": "execute_result"
    }
   ],
   "source": [
    "raw['test_set'].supplier.value_counts()[:10]"
   ]
  },
  {
   "cell_type": "code",
   "execution_count": 26,
   "metadata": {
    "collapsed": false
   },
   "outputs": [
    {
     "data": {
      "text/plain": [
       "S-0066    17503\n",
       "S-0041     3188\n",
       "S-0072     2024\n",
       "S-0054      766\n",
       "S-0026      663\n",
       "S-0013      544\n",
       "S-0058      515\n",
       "S-0064      323\n",
       "S-0062      190\n",
       "S-0030       94\n",
       "dtype: int64"
      ]
     },
     "execution_count": 26,
     "metadata": {},
     "output_type": "execute_result"
    }
   ],
   "source": [
    "X_train.supplier.value_counts()[:10]"
   ]
  },
  {
   "cell_type": "code",
   "execution_count": 27,
   "metadata": {
    "collapsed": false
   },
   "outputs": [
    {
     "data": {
      "text/plain": [
       "S-0066    3050\n",
       "S-0072     293\n",
       "S-0041     135\n",
       "S-0064     123\n",
       "S-0062      74\n",
       "S-0054      72\n",
       "S-0026      64\n",
       "S-0014      46\n",
       "S-0030      17\n",
       "S-0013      10\n",
       "dtype: int64"
      ]
     },
     "execution_count": 27,
     "metadata": {},
     "output_type": "execute_result"
    }
   ],
   "source": [
    "X_test.supplier.value_counts()[:10]"
   ]
  },
  {
   "cell_type": "code",
   "execution_count": 32,
   "metadata": {
    "collapsed": false
   },
   "outputs": [
    {
     "name": "stdout",
     "output_type": "stream",
     "text": [
      "((1,), 2945)\n",
      "((1, 2, 5, 10, 25, 50, 100, 250), 2194)\n",
      "((1, 6, 20), 662)\n",
      "((1, 1), 286)\n",
      "((5,), 173)\n",
      "((20,), 171)\n",
      "((10,), 144)\n",
      "((5, 19, 20), 109)\n",
      "((25,), 100)\n",
      "((1, 2, 3, 5, 10, 20), 84)\n",
      "((1, 2, 5, 10, 25, 50, 100), 67)\n",
      "((50,), 63)\n",
      "((2,), 62)\n",
      "((15,), 51)\n",
      "((40,), 49)\n",
      "((3,), 47)\n",
      "((35,), 43)\n",
      "((30,), 41)\n",
      "((5, 10, 15), 36)\n",
      "((1, 2, 3, 4, 5), 36)\n"
     ]
    }
   ],
   "source": [
    "train = raw['train_set']\n",
    "train = train.set_index('tube_assembly_id')\n",
    "\n",
    "taid_to_quantities = defaultdict(list)\n",
    "for taid, quantity in train['quantity'].iteritems():\n",
    "    taid_to_quantities[taid].append(quantity)\n",
    "\n",
    "quantities_ctr = Counter()\n",
    "for taid in taid_to_quantities:\n",
    "    taid_to_quantities[taid].sort()\n",
    "    quantities_ctr[tuple(taid_to_quantities[taid])] += 1\n",
    "\n",
    "for item in quantities_ctr.most_common(20):\n",
    "    print item"
   ]
  },
  {
   "cell_type": "code",
   "execution_count": 9,
   "metadata": {
    "collapsed": false
   },
   "outputs": [
    {
     "data": {
      "text/plain": [
       "S-0041    110\n",
       "S-0054      2\n",
       "S-0013      1\n",
       "dtype: int64"
      ]
     },
     "execution_count": 9,
     "metadata": {},
     "output_type": "execute_result"
    }
   ],
   "source": [
    "train[train.quantity == 19].supplier.value_counts()"
   ]
  },
  {
   "cell_type": "code",
   "execution_count": 33,
   "metadata": {
    "collapsed": false
   },
   "outputs": [
    {
     "name": "stdout",
     "output_type": "stream",
     "text": [
      "((1,), 2995)\n",
      "((1, 2, 5, 10, 25, 50, 100, 250), 2185)\n",
      "((1, 6, 20), 623)\n",
      "((1, 1), 272)\n",
      "((20,), 195)\n",
      "((5,), 151)\n",
      "((10,), 148)\n",
      "((5, 19, 20), 92)\n",
      "((25,), 91)\n",
      "((1, 2, 3, 5, 10, 20), 76)\n",
      "((2,), 72)\n",
      "((50,), 72)\n",
      "((1, 2, 5, 10, 25, 50, 100), 62)\n",
      "((15,), 48)\n",
      "((40,), 45)\n",
      "((1, 3, 5, 7, 9), 41)\n",
      "((1, 2, 3, 4, 5), 41)\n",
      "((30,), 41)\n",
      "((35,), 38)\n",
      "((5, 20), 36)\n"
     ]
    }
   ],
   "source": [
    "test = raw['test_set']\n",
    "test = test.set_index('tube_assembly_id')\n",
    "\n",
    "taid_to_quantities = defaultdict(list)\n",
    "for taid, quantity in test['quantity'].iteritems():\n",
    "    taid_to_quantities[taid].append(quantity)\n",
    "\n",
    "quantities_ctr = Counter()\n",
    "for taid in taid_to_quantities:\n",
    "    taid_to_quantities[taid].sort()\n",
    "    quantities_ctr[tuple(taid_to_quantities[taid])] += 1\n",
    "\n",
    "for item in quantities_ctr.most_common(20):\n",
    "    print item"
   ]
  },
  {
   "cell_type": "code",
   "execution_count": 31,
   "metadata": {
    "collapsed": false
   },
   "outputs": [
    {
     "name": "stdout",
     "output_type": "stream",
     "text": [
      "((1,), 2672)\n",
      "((1, 2, 5, 10, 25, 50, 100, 250), 1860)\n",
      "((1, 6, 20), 637)\n",
      "((1, 1), 261)\n",
      "((5,), 169)\n",
      "((20,), 169)\n",
      "((10,), 139)\n",
      "((5, 19, 20), 106)\n",
      "((25,), 89)\n",
      "((1, 2, 3, 5, 10, 20), 79)\n",
      "((1, 2, 5, 10, 25, 50, 100), 62)\n",
      "((2,), 61)\n",
      "((50,), 56)\n",
      "((15,), 51)\n",
      "((40,), 47)\n",
      "((3,), 42)\n",
      "((35,), 41)\n",
      "((30,), 36)\n",
      "((5, 10, 15), 35)\n",
      "((1, 3, 5, 7, 9), 33)\n"
     ]
    }
   ],
   "source": [
    "df = X_train\n",
    "df = df.set_index('tube_assembly_id')\n",
    "\n",
    "taid_to_quantities = defaultdict(list)\n",
    "for taid, quantity in df['quantity'].iteritems():\n",
    "    taid_to_quantities[taid].append(quantity)\n",
    "\n",
    "quantities_ctr = Counter()\n",
    "for taid in taid_to_quantities:\n",
    "    taid_to_quantities[taid].sort()\n",
    "    quantities_ctr[tuple(taid_to_quantities[taid])] += 1\n",
    "\n",
    "for item in quantities_ctr.most_common(20):\n",
    "    print item"
   ]
  },
  {
   "cell_type": "code",
   "execution_count": 32,
   "metadata": {
    "collapsed": false
   },
   "outputs": [
    {
     "name": "stdout",
     "output_type": "stream",
     "text": [
      "((1, 2, 5, 10, 25, 50, 100, 250), 334)\n",
      "((1,), 273)\n",
      "((1, 1), 25)\n",
      "((1, 6, 20), 25)\n",
      "((25,), 11)\n",
      "((5, 10, 15, 20), 9)\n",
      "((2, 4, 6, 8), 9)\n",
      "((1, 2, 3, 4), 8)\n",
      "((50,), 7)\n",
      "((3, 6, 9, 12), 7)\n",
      "((1, 2, 5, 10, 25, 50), 6)\n",
      "((1, 2, 3, 4, 5), 6)\n",
      "((2, 3, 4, 5), 6)\n",
      "((10,), 5)\n",
      "((1, 2, 3, 5, 10, 20), 5)\n",
      "((1, 2, 5, 10, 25, 50, 100), 5)\n",
      "((3,), 5)\n",
      "((30,), 5)\n",
      "((1, 1, 1), 5)\n",
      "((75,), 4)\n"
     ]
    }
   ],
   "source": [
    "df = X_test\n",
    "df = df.set_index('tube_assembly_id')\n",
    "\n",
    "taid_to_quantities = defaultdict(list)\n",
    "for taid, quantity in df['quantity'].iteritems():\n",
    "    taid_to_quantities[taid].append(quantity)\n",
    "\n",
    "quantities_ctr = Counter()\n",
    "for taid in taid_to_quantities:\n",
    "    taid_to_quantities[taid].sort()\n",
    "    quantities_ctr[tuple(taid_to_quantities[taid])] += 1\n",
    "\n",
    "for item in quantities_ctr.most_common(20):\n",
    "    print item"
   ]
  },
  {
   "cell_type": "code",
   "execution_count": null,
   "metadata": {
    "collapsed": true
   },
   "outputs": [],
   "source": []
  }
 ],
 "metadata": {
  "kernelspec": {
   "display_name": "Python 2",
   "language": "python",
   "name": "python2"
  },
  "language_info": {
   "codemirror_mode": {
    "name": "ipython",
    "version": 2
   },
   "file_extension": ".py",
   "mimetype": "text/x-python",
   "name": "python",
   "nbconvert_exporter": "python",
   "pygments_lexer": "ipython2",
   "version": "2.7.3"
  }
 },
 "nbformat": 4,
 "nbformat_minor": 0
}
