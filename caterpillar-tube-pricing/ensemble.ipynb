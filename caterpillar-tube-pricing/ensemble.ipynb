{
 "cells": [
  {
   "cell_type": "code",
   "execution_count": 9,
   "metadata": {
    "collapsed": false
   },
   "outputs": [
    {
     "name": "stdout",
     "output_type": "stream",
     "text": [
      "Populating the interactive namespace from numpy and matplotlib\n"
     ]
    }
   ],
   "source": [
    "%pylab inline\n",
    "\n",
    "from sklearn.metrics import mean_squared_error\n",
    "import pandas as pd\n",
    "import xgboost as xgb\n",
    "\n",
    "from soln.dataset import AllCategoricalsFeaturizer\n",
    "from soln.dataset import generate_xv_splits\n",
    "from soln.dataset import get_augmented_train_and_test_set\n",
    "from soln.utils import eval_model\n",
    "from soln.utils import train_model\n",
    "\n",
    "pd.set_option('display.max_columns', None)"
   ]
  },
  {
   "cell_type": "code",
   "execution_count": 25,
   "metadata": {
    "collapsed": false
   },
   "outputs": [
    {
     "name": "stdout",
     "output_type": "stream",
     "text": [
      "CPU times: user 13.7 s, sys: 92 ms, total: 13.8 s\n",
      "Wall time: 14.5 s\n"
     ]
    }
   ],
   "source": [
    "%time aug_train_set, aug_test_set = get_augmented_train_and_test_set()"
   ]
  },
  {
   "cell_type": "code",
   "execution_count": 162,
   "metadata": {
    "collapsed": false
   },
   "outputs": [
    {
     "name": "stdout",
     "output_type": "stream",
     "text": [
      "CPU times: user 72 ms, sys: 0 ns, total: 72 ms\n",
      "Wall time: 76.7 ms\n",
      "(27270, 53) (27270,) (2943, 53) (2943,)\n"
     ]
    }
   ],
   "source": [
    "from itertools import islice\n",
    "fold_number = 0\n",
    "%time X_train, y_train, X_test, y_test = next(islice(generate_xv_splits(aug_train_set), fold_number, None))\n",
    "print X_train.shape, y_train.shape, X_test.shape, y_test.shape"
   ]
  },
  {
   "cell_type": "code",
   "execution_count": 163,
   "metadata": {
    "collapsed": true
   },
   "outputs": [],
   "source": [
    "# Layer 1: Everything.\n",
    "\n",
    "layer1_params = {\n",
    "    'objective': 'reg:linear',\n",
    "    'silent': 1,\n",
    "    'num_rounds': 1000,\n",
    "    'gamma': 0.0,\n",
    "    'eta': 0.02,\n",
    "    'max_depth': 8,\n",
    "    'min_child_weight': 6,\n",
    "    'subsample': 0.7,\n",
    "    'colsample_bytree': 0.6,\n",
    "}\n",
    "\n",
    "def layer1_get_indices(X):\n",
    "    return np.ones(len(X), dtype=bool)"
   ]
  },
  {
   "cell_type": "code",
   "execution_count": 164,
   "metadata": {
    "collapsed": false
   },
   "outputs": [
    {
     "name": "stdout",
     "output_type": "stream",
     "text": [
      "CPU times: user 2min 49s, sys: 1.08 s, total: 2min 50s\n",
      "Wall time: 1min 55s\n"
     ]
    }
   ],
   "source": [
    "layer1_featurizer = AllCategoricalsFeaturizer()\n",
    "%time layer1 = train_model(layer1_params, layer1_get_indices, layer1_featurizer, X_train, y_train)"
   ]
  },
  {
   "cell_type": "code",
   "execution_count": 165,
   "metadata": {
    "collapsed": false
   },
   "outputs": [
    {
     "name": "stdout",
     "output_type": "stream",
     "text": [
      "Train on everything, test on everything:\n",
      "(27270, 53)\n",
      "(27270, 53)\n",
      "(2943, 53)\n",
      "train RMSLE 0.124960740984\n",
      "test RMSLE 0.227403087285\n"
     ]
    }
   ],
   "source": [
    "layer1_train_results = eval_model(layer1['model'], layer1_get_indices, layer1_featurizer, X_train, y_train)\n",
    "layer1_test_results = eval_model(layer1['model'], layer1_get_indices, layer1_featurizer, X_test, y_test)\n",
    "print \"Train on everything, test on everything:\"\n",
    "print layer1['X_train'].shape\n",
    "print layer1_train_results['X_eval'].shape\n",
    "print layer1_test_results['X_eval'].shape\n",
    "print \"train RMSLE\", layer1_train_results['rmsle']\n",
    "print \"test RMSLE\", layer1_test_results['rmsle']"
   ]
  },
  {
   "cell_type": "code",
   "execution_count": 166,
   "metadata": {
    "collapsed": true
   },
   "outputs": [],
   "source": [
    "# Layer 2: Uncommon brackets.\n",
    "\n",
    "layer2_params = {\n",
    "    'objective': 'reg:linear',\n",
    "    'silent': 1,\n",
    "    'num_rounds': 1000,\n",
    "    'gamma': 0.0,\n",
    "    'eta': 0.02,\n",
    "    'max_depth': 8,\n",
    "    'min_child_weight': 6,\n",
    "    'subsample': 0.7,\n",
    "    'colsample_bytree': 0.6,\n",
    "}\n",
    "\n",
    "common_brackets = [\n",
    "    (1, 2, 5, 10, 25, 50, 100, 250),\n",
    "    (1, 6, 20),\n",
    "    (1, 2, 3, 5, 10, 20),\n",
    "    (1, 2, 5, 10, 25, 50, 100),\n",
    "    (5, 19, 20),\n",
    "]\n",
    "\n",
    "def layer2_get_indices(X):\n",
    "    return ~X.bracketing_pattern.isin(common_brackets)"
   ]
  },
  {
   "cell_type": "code",
   "execution_count": 167,
   "metadata": {
    "collapsed": false
   },
   "outputs": [
    {
     "name": "stdout",
     "output_type": "stream",
     "text": [
      "CPU times: user 1min 3s, sys: 204 ms, total: 1min 3s\n",
      "Wall time: 45.9 s\n"
     ]
    }
   ],
   "source": [
    "layer2_featurizer = AllCategoricalsFeaturizer()\n",
    "%time layer2 = train_model(layer2_params, layer2_get_indices, layer2_featurizer, X_train, y_train)"
   ]
  },
  {
   "cell_type": "code",
   "execution_count": 168,
   "metadata": {
    "collapsed": false
   },
   "outputs": [
    {
     "name": "stdout",
     "output_type": "stream",
     "text": [
      "Train on everything, test on uncommon brackets:\n",
      "(987, 53)\n",
      "test RMSLE 0.369369099906\n"
     ]
    }
   ],
   "source": [
    "print \"Train on everything, test on uncommon brackets:\"\n",
    "tmp = eval_model(layer1['model'], layer2_get_indices, layer1_featurizer, X_test, y_test)\n",
    "print tmp['X_eval'].shape\n",
    "print \"test RMSLE\", tmp['rmsle']"
   ]
  },
  {
   "cell_type": "code",
   "execution_count": 169,
   "metadata": {
    "collapsed": false
   },
   "outputs": [
    {
     "name": "stdout",
     "output_type": "stream",
     "text": [
      "Train on uncommon brackets, test on uncommon brackets:\n",
      "(8221, 53)\n",
      "(8221, 53)\n",
      "(987, 53)\n",
      "train RMSLE 0.163275589812\n",
      "test RMSLE 0.345135857409\n"
     ]
    }
   ],
   "source": [
    "layer2_train_results = eval_model(layer2['model'], layer2_get_indices, layer2_featurizer, X_train, y_train)\n",
    "layer2_test_results = eval_model(layer2['model'], layer2_get_indices, layer2_featurizer, X_test, y_test)\n",
    "print \"Train on uncommon brackets, test on uncommon brackets:\"\n",
    "print layer2['X_train'].shape\n",
    "print layer2_train_results['X_eval'].shape\n",
    "print layer2_test_results['X_eval'].shape\n",
    "print \"train RMSLE\", layer2_train_results['rmsle']\n",
    "print \"test RMSLE\", layer2_test_results['rmsle']"
   ]
  },
  {
   "cell_type": "code",
   "execution_count": 170,
   "metadata": {
    "collapsed": false
   },
   "outputs": [
    {
     "name": "stdout",
     "output_type": "stream",
     "text": [
      "Layer 1 and layer 2 together:\n",
      "(2943,)\n",
      "test RMSLE 0.214255159159\n"
     ]
    }
   ],
   "source": [
    "y_test_pred = pd.Series(layer1_test_results['y_eval_pred'], copy=True)\n",
    "y_test_pred[layer2_test_results['eval_is']] = layer2_test_results['y_eval_pred']\n",
    "rmsle = np.sqrt(mean_squared_error(y_test.values, y_test_pred.values))\n",
    "print \"Layer 1 and layer 2 together:\"\n",
    "print y_test_pred.shape\n",
    "print \"test RMSLE\", rmsle"
   ]
  },
  {
   "cell_type": "code",
   "execution_count": 171,
   "metadata": {
    "collapsed": true
   },
   "outputs": [],
   "source": [
    "# Layer 3: Empty bracket.\n",
    "\n",
    "layer3_params = {\n",
    "    'objective': 'reg:linear',\n",
    "    'silent': 1,\n",
    "    'num_rounds': 1000,\n",
    "    'gamma': 0.0,\n",
    "    'eta': 0.02,\n",
    "    'max_depth': 8,\n",
    "    'min_child_weight': 6,\n",
    "    'subsample': 0.7,\n",
    "    'colsample_bytree': 0.6,\n",
    "}\n",
    "\n",
    "def layer3_get_indices(X):\n",
    "    return (X.bracketing_pattern == ())"
   ]
  },
  {
   "cell_type": "code",
   "execution_count": 172,
   "metadata": {
    "collapsed": false
   },
   "outputs": [
    {
     "name": "stdout",
     "output_type": "stream",
     "text": [
      "CPU times: user 33.8 s, sys: 172 ms, total: 33.9 s\n",
      "Wall time: 23.7 s\n"
     ]
    }
   ],
   "source": [
    "layer3_featurizer = AllCategoricalsFeaturizer()\n",
    "%time layer3 = train_model(layer3_params, layer3_get_indices, layer3_featurizer, X_train, y_train)"
   ]
  },
  {
   "cell_type": "code",
   "execution_count": 173,
   "metadata": {
    "collapsed": false
   },
   "outputs": [
    {
     "name": "stdout",
     "output_type": "stream",
     "text": [
      "Train on everything, test on empty bracket:\n",
      "(493, 53)\n",
      "test RMSLE 0.402430706857\n"
     ]
    }
   ],
   "source": [
    "print \"Train on everything, test on empty bracket:\"\n",
    "tmp = eval_model(layer1['model'], layer3_get_indices, layer1_featurizer, X_test, y_test)\n",
    "print tmp['X_eval'].shape\n",
    "print \"test RMSLE\", tmp['rmsle']"
   ]
  },
  {
   "cell_type": "code",
   "execution_count": 174,
   "metadata": {
    "collapsed": false
   },
   "outputs": [
    {
     "name": "stdout",
     "output_type": "stream",
     "text": [
      "Train on uncommon brackets, test on empty bracket:\n",
      "(493, 53)\n",
      "test RMSLE 0.378887498903\n"
     ]
    }
   ],
   "source": [
    "print \"Train on uncommon brackets, test on empty bracket:\"\n",
    "tmp = eval_model(layer2['model'], layer3_get_indices, layer2_featurizer, X_test, y_test)\n",
    "print tmp['X_eval'].shape\n",
    "print \"test RMSLE\", tmp['rmsle']"
   ]
  },
  {
   "cell_type": "code",
   "execution_count": 175,
   "metadata": {
    "collapsed": false
   },
   "outputs": [
    {
     "name": "stdout",
     "output_type": "stream",
     "text": [
      "Train on empty bracket, test on empty bracket:\n",
      "(4249, 53)\n",
      "(4249, 53)\n",
      "(493, 53)\n",
      "train RMSLE 0.146880176789\n",
      "test RMSLE 0.377893012301\n"
     ]
    }
   ],
   "source": [
    "layer3_train_results = eval_model(layer3['model'], layer3_get_indices, layer3_featurizer, X_train, y_train)\n",
    "layer3_test_results = eval_model(layer3['model'], layer3_get_indices, layer3_featurizer, X_test, y_test)\n",
    "print \"Train on empty bracket, test on empty bracket:\"\n",
    "print layer3['X_train'].shape\n",
    "print layer3_train_results['X_eval'].shape\n",
    "print layer3_test_results['X_eval'].shape\n",
    "print \"train RMSLE\", layer3_train_results['rmsle']\n",
    "print \"test RMSLE\", layer3_test_results['rmsle']"
   ]
  },
  {
   "cell_type": "code",
   "execution_count": 176,
   "metadata": {
    "collapsed": false
   },
   "outputs": [
    {
     "name": "stdout",
     "output_type": "stream",
     "text": [
      "Layer 1 and layer 2 and layer 3 together:\n",
      "(2943,)\n",
      "test RMSLE 0.213960742254\n"
     ]
    }
   ],
   "source": [
    "y_test_pred = pd.Series(layer1_test_results['y_eval_pred'], copy=True)\n",
    "y_test_pred[layer2_test_results['eval_is']] = layer2_test_results['y_eval_pred']\n",
    "y_test_pred[layer3_test_results['eval_is']] = layer3_test_results['y_eval_pred']\n",
    "rmsle = np.sqrt(mean_squared_error(y_test.values, y_test_pred.values))\n",
    "print \"Layer 1 and layer 2 and layer 3 together:\"\n",
    "print y_test_pred.shape\n",
    "print \"test RMSLE\", rmsle"
   ]
  },
  {
   "cell_type": "code",
   "execution_count": null,
   "metadata": {
    "collapsed": true
   },
   "outputs": [],
   "source": []
  },
  {
   "cell_type": "code",
   "execution_count": null,
   "metadata": {
    "collapsed": true
   },
   "outputs": [],
   "source": []
  }
 ],
 "metadata": {
  "kernelspec": {
   "display_name": "Python 2",
   "language": "python",
   "name": "python2"
  },
  "language_info": {
   "codemirror_mode": {
    "name": "ipython",
    "version": 2
   },
   "file_extension": ".py",
   "mimetype": "text/x-python",
   "name": "python",
   "nbconvert_exporter": "python",
   "pygments_lexer": "ipython2",
   "version": "2.7.3"
  }
 },
 "nbformat": 4,
 "nbformat_minor": 0
}
