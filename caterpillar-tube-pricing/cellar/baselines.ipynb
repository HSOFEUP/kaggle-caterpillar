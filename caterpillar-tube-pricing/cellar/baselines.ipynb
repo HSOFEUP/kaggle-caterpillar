{
 "cells": [
  {
   "cell_type": "code",
   "execution_count": 28,
   "metadata": {
    "collapsed": false
   },
   "outputs": [
    {
     "name": "stdout",
     "output_type": "stream",
     "text": [
      "Populating the interactive namespace from numpy and matplotlib\n"
     ]
    }
   ],
   "source": [
    "%pylab inline\n",
    "\n",
    "from common import calc_loss\n",
    "from common import cross_validation_eval\n",
    "\n",
    "import pandas as pd"
   ]
  },
  {
   "cell_type": "code",
   "execution_count": 29,
   "metadata": {
    "collapsed": true
   },
   "outputs": [],
   "source": [
    "# A dummy model that always predicts a price of zero.\n",
    "\n",
    "class AllZerosLearner(object):\n",
    "    def reset(self):\n",
    "        pass\n",
    "    \n",
    "    def learn(self, train_set):\n",
    "        pass\n",
    "    \n",
    "    def predict(self, test_set):\n",
    "        return np.zeros(len(test_set))"
   ]
  },
  {
   "cell_type": "code",
   "execution_count": 30,
   "metadata": {
    "collapsed": false
   },
   "outputs": [],
   "source": [
    "# A dummy model that always predicts the average prices from the train set.\n",
    "\n",
    "class AveragePriceLearner(object):\n",
    "    def __init__(self):\n",
    "        self.reset()\n",
    "        \n",
    "    def reset(self):\n",
    "        self.avg_price = None\n",
    "        \n",
    "    def learn(self, train_set):\n",
    "        self.avg_price = train_set['cost'].mean()\n",
    "    \n",
    "    def predict(self, test_set):\n",
    "        return np.ones(len(test_set)) * self.avg_price"
   ]
  },
  {
   "cell_type": "code",
   "execution_count": 33,
   "metadata": {
    "collapsed": true
   },
   "outputs": [],
   "source": [
    "# Like AveragePriceLearner, but using log transform on the cost column.\n",
    "\n",
    "class LogAveragePriceLearner(object):\n",
    "    def __init__(self):\n",
    "        self.reset()\n",
    "        \n",
    "    def reset(self):\n",
    "        self.predicted_price = None\n",
    "        \n",
    "    def learn(self, train_set):\n",
    "        avg_log_price = np.log(train_set['cost'] + 1).mean()\n",
    "        self.predicted_price = np.exp(avg_log_price) - 1\n",
    "    \n",
    "    def predict(self, test_set):\n",
    "        return np.ones(len(test_set)) * self.predicted_price"
   ]
  },
  {
   "cell_type": "code",
   "execution_count": 34,
   "metadata": {
    "collapsed": false
   },
   "outputs": [
    {
     "name": "stdout",
     "output_type": "stream",
     "text": [
      "<__main__.AllZerosLearner object at 0x4ad9510>: loss avg 2.34932425859 std 0.0220523255703\n",
      "<__main__.AveragePriceLearner object at 0x4ad9890>: loss avg 0.94750525723 std 0.00673683498461\n",
      "<__main__.LogAveragePriceLearner object at 0x4ad98d0>: loss avg 0.823169110554 std 0.0131809062251\n"
     ]
    }
   ],
   "source": [
    "# Evaluate baselines.\n",
    "\n",
    "learners = (AllZerosLearner(), AveragePriceLearner(), LogAveragePriceLearner())\n",
    "train_set = pd.read_csv('data/competition_data/train_set.csv')\n",
    "for learner in learners:\n",
    "    losses = cross_validation_eval(learner, train_set, 'cost')\n",
    "    print \"{}: loss avg {} std {}\".format(\n",
    "        learner, np.mean(losses), np.std(losses))\n",
    "    # print \"    losses:\", losses"
   ]
  },
  {
   "cell_type": "code",
   "execution_count": null,
   "metadata": {
    "collapsed": true
   },
   "outputs": [],
   "source": []
  }
 ],
 "metadata": {
  "kernelspec": {
   "display_name": "Python 2",
   "language": "python",
   "name": "python2"
  },
  "language_info": {
   "codemirror_mode": {
    "name": "ipython",
    "version": 2
   },
   "file_extension": ".py",
   "mimetype": "text/x-python",
   "name": "python",
   "nbconvert_exporter": "python",
   "pygments_lexer": "ipython2",
   "version": "2.7.3"
  }
 },
 "nbformat": 4,
 "nbformat_minor": 0
}
