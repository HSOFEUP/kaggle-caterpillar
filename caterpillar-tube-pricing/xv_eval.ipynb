{
 "cells": [
  {
   "cell_type": "code",
   "execution_count": 14,
   "metadata": {
    "collapsed": false
   },
   "outputs": [
    {
     "name": "stdout",
     "output_type": "stream",
     "text": [
      "Populating the interactive namespace from numpy and matplotlib\n"
     ]
    }
   ],
   "source": [
    "%pylab inline\n",
    "\n",
    "from sklearn.dummy import DummyRegressor\n",
    "from sklearn.ensemble import RandomForestRegressor\n",
    "from sklearn.metrics import mean_squared_error\n",
    "\n",
    "from soln.dataset import AllCategoricalsFeaturizer\n",
    "from soln.dataset import generate_xv_splits\n",
    "from soln.dataset import get_augmented_train_and_test_set\n",
    "from soln.utils import eval_regressor"
   ]
  },
  {
   "cell_type": "code",
   "execution_count": 21,
   "metadata": {
    "collapsed": true
   },
   "outputs": [],
   "source": [
    "regressors = [\n",
    "    DummyRegressor(strategy='constant', constant=0.0),\n",
    "    DummyRegressor(strategy='mean'),\n",
    "    RandomForestRegressor(n_estimators=20),\n",
    "    # RandomForestRegressor(n_estimators=100),\n",
    "]"
   ]
  },
  {
   "cell_type": "code",
   "execution_count": 10,
   "metadata": {
    "collapsed": false
   },
   "outputs": [
    {
     "name": "stdout",
     "output_type": "stream",
     "text": [
      "CPU times: user 6.53 s, sys: 12 ms, total: 6.54 s\n",
      "Wall time: 6.58 s\n"
     ]
    }
   ],
   "source": [
    "%time aug_train_set, aug_test_set = get_augmented_train_and_test_set()"
   ]
  },
  {
   "cell_type": "code",
   "execution_count": 22,
   "metadata": {
    "collapsed": false
   },
   "outputs": [
    {
     "name": "stdout",
     "output_type": "stream",
     "text": [
      "---------------------- split 0\n",
      "CPU times: user 1.45 s, sys: 360 ms, total: 1.81 s\n",
      "Wall time: 1.83 s\n",
      "CPU times: user 36 ms, sys: 0 ns, total: 36 ms\n",
      "Wall time: 38.3 ms\n",
      "reg_id 0: train_rmsle 2.35046007432; test_rmsle 2.34246970634\n",
      "CPU times: user 36 ms, sys: 0 ns, total: 36 ms\n",
      "Wall time: 36.2 ms\n",
      "reg_id 1: train_rmsle 0.822919215283; test_rmsle 0.825379493313\n",
      "CPU times: user 40.3 s, sys: 20 ms, total: 40.3 s\n",
      "Wall time: 40.6 s\n",
      "reg_id 2: train_rmsle 0.0903853458814; test_rmsle 0.298694446024\n",
      "---------------------- split 1\n",
      "CPU times: user 1.43 s, sys: 404 ms, total: 1.84 s\n",
      "Wall time: 1.85 s\n",
      "CPU times: user 40 ms, sys: 0 ns, total: 40 ms\n",
      "Wall time: 39.8 ms\n",
      "reg_id 0: train_rmsle 2.35408179187; test_rmsle 2.31702226148\n",
      "CPU times: user 36 ms, sys: 0 ns, total: 36 ms\n",
      "Wall time: 35.7 ms\n",
      "reg_id 1: train_rmsle 0.833758711427; test_rmsle 0.746476334169\n",
      "CPU times: user 42.7 s, sys: 76 ms, total: 42.8 s\n",
      "Wall time: 43.2 s\n",
      "reg_id 2: train_rmsle 0.0930124988764; test_rmsle 0.260040993738\n",
      "---------------------- split 2\n",
      "CPU times: user 1.43 s, sys: 292 ms, total: 1.72 s\n",
      "Wall time: 1.75 s\n",
      "CPU times: user 36 ms, sys: 0 ns, total: 36 ms\n",
      "Wall time: 39.8 ms\n",
      "reg_id 0: train_rmsle 2.35520731412; test_rmsle 2.30848587249\n",
      "CPU times: user 36 ms, sys: 0 ns, total: 36 ms\n",
      "Wall time: 36.9 ms\n",
      "reg_id 1: train_rmsle 0.835661085665; test_rmsle 0.730153693371\n",
      "CPU times: user 45 s, sys: 120 ms, total: 45.1 s\n",
      "Wall time: 45.4 s\n",
      "reg_id 2: train_rmsle 0.0910425177046; test_rmsle 0.272058442885\n",
      "---------------------- split 3\n",
      "CPU times: user 1.48 s, sys: 496 ms, total: 1.97 s\n",
      "Wall time: 2.16 s\n",
      "CPU times: user 36 ms, sys: 0 ns, total: 36 ms\n",
      "Wall time: 38 ms\n",
      "reg_id 0: train_rmsle 2.3534860834; test_rmsle 2.31173300407\n",
      "CPU times: user 40 ms, sys: 0 ns, total: 40 ms\n",
      "Wall time: 38.3 ms\n",
      "reg_id 1: train_rmsle 0.832456895066; test_rmsle 0.73288196521\n",
      "CPU times: user 45.8 s, sys: 32 ms, total: 45.8 s\n",
      "Wall time: 47.4 s\n",
      "reg_id 2: train_rmsle 0.0913395283012; test_rmsle 0.27943052651\n",
      "---------------------- split 4\n",
      "CPU times: user 1.49 s, sys: 324 ms, total: 1.82 s\n",
      "Wall time: 1.83 s\n",
      "CPU times: user 40 ms, sys: 0 ns, total: 40 ms\n",
      "Wall time: 40.4 ms\n",
      "reg_id 0: train_rmsle 2.35493923012; test_rmsle 2.29437390883\n",
      "CPU times: user 40 ms, sys: 0 ns, total: 40 ms\n",
      "Wall time: 42.1 ms\n",
      "reg_id 1: train_rmsle 0.827361020178; test_rmsle 0.781516728673\n",
      "CPU times: user 44.5 s, sys: 112 ms, total: 44.6 s\n",
      "Wall time: 44.9 s\n",
      "reg_id 2: train_rmsle 0.0905238794832; test_rmsle 0.301929161224\n",
      "---------------------- split 5\n",
      "CPU times: user 1.53 s, sys: 412 ms, total: 1.94 s\n",
      "Wall time: 1.96 s\n",
      "CPU times: user 36 ms, sys: 0 ns, total: 36 ms\n",
      "Wall time: 39.9 ms\n",
      "reg_id 0: train_rmsle 2.34084771867; test_rmsle 2.4725747105\n",
      "CPU times: user 36 ms, sys: 0 ns, total: 36 ms\n",
      "Wall time: 35.4 ms\n",
      "reg_id 1: train_rmsle 0.818761645599; test_rmsle 0.88712849875\n",
      "CPU times: user 49.8 s, sys: 104 ms, total: 49.9 s\n",
      "Wall time: 50.4 s\n",
      "reg_id 2: train_rmsle 0.0914546381578; test_rmsle 0.328617740354\n",
      "---------------------- split 6\n",
      "CPU times: user 1.5 s, sys: 492 ms, total: 1.99 s\n",
      "Wall time: 2.01 s\n",
      "CPU times: user 40 ms, sys: 0 ns, total: 40 ms\n",
      "Wall time: 38.8 ms\n",
      "reg_id 0: train_rmsle 2.33630044445; test_rmsle 2.54160481578\n",
      "CPU times: user 36 ms, sys: 0 ns, total: 36 ms\n",
      "Wall time: 35.1 ms\n",
      "reg_id 1: train_rmsle 0.817617385436; test_rmsle 0.906035032599\n",
      "CPU times: user 46.5 s, sys: 108 ms, total: 46.6 s\n",
      "Wall time: 47.3 s\n",
      "reg_id 2: train_rmsle 0.0914792548016; test_rmsle 0.312902962718\n",
      "---------------------- split 7\n",
      "CPU times: user 1.55 s, sys: 440 ms, total: 1.99 s\n",
      "Wall time: 2.02 s\n",
      "CPU times: user 40 ms, sys: 0 ns, total: 40 ms\n",
      "Wall time: 40 ms\n",
      "reg_id 0: train_rmsle 2.32499370234; test_rmsle 2.75271364092\n",
      "CPU times: user 40 ms, sys: 0 ns, total: 40 ms\n",
      "Wall time: 38.5 ms\n",
      "reg_id 1: train_rmsle 0.805091411869; test_rmsle 1.10320377229\n",
      "CPU times: user 47.2 s, sys: 24 ms, total: 47.2 s\n",
      "Wall time: 47.8 s\n",
      "reg_id 2: train_rmsle 0.0888138809118; test_rmsle 0.388493364144\n",
      "---------------------- split 8\n",
      "CPU times: user 1.54 s, sys: 312 ms, total: 1.85 s\n",
      "Wall time: 1.87 s\n",
      "CPU times: user 36 ms, sys: 0 ns, total: 36 ms\n",
      "Wall time: 38.4 ms\n",
      "reg_id 0: train_rmsle 2.35589034507; test_rmsle 2.28827760325\n",
      "CPU times: user 32 ms, sys: 0 ns, total: 32 ms\n",
      "Wall time: 35.8 ms\n",
      "reg_id 1: train_rmsle 0.817666046221; test_rmsle 0.873969527058\n",
      "CPU times: user 44.1 s, sys: 60 ms, total: 44.1 s\n",
      "Wall time: 44.7 s\n",
      "reg_id 2: train_rmsle 0.0923872889532; test_rmsle 0.292340085036\n",
      "---------------------- split 9\n",
      "CPU times: user 1.42 s, sys: 356 ms, total: 1.77 s\n",
      "Wall time: 1.79 s\n",
      "CPU times: user 32 ms, sys: 0 ns, total: 32 ms\n",
      "Wall time: 33 ms\n",
      "reg_id 0: train_rmsle 2.37158229658; test_rmsle 2.22517336373\n",
      "CPU times: user 32 ms, sys: 0 ns, total: 32 ms\n",
      "Wall time: 33.1 ms\n",
      "reg_id 1: train_rmsle 0.821714122006; test_rmsle 0.833725058871\n",
      "CPU times: user 41.2 s, sys: 36 ms, total: 41.3 s\n",
      "Wall time: 42 s\n",
      "reg_id 2: train_rmsle 0.0944308969164; test_rmsle 0.266280422796\n",
      "\n",
      "------------------------------ averages\n",
      "DummyRegressor(constant=array(0.0), quantile=None, strategy='constant'):\n",
      "    train RMSLE avg 2.34977890009 std 0.0121544124605\n",
      "    train RMSLEs: [[2.3504600743241166, 2.3540817918653447, 2.355207314121829, 2.3534860833978577, 2.3549392301212588, 2.340847718668702, 2.3363004444510489, 2.3249937023436926, 2.3558903450711166, 2.3715822965812188], [0.82291921528332612, 0.83375871142740787, 0.8356610856647293, 0.83245689506554776, 0.82736102017784552, 0.81876164559912101, 0.81761738543618623, 0.80509141186914868, 0.81766604622050121, 0.82171412200556559], [0.090385345881406287, 0.093012498876448163, 0.091042517704609222, 0.091339528301178322, 0.090523879483245043, 0.091454638157763141, 0.091479254801641777, 0.088813880911794957, 0.0923872889532414, 0.094430896916408824]]\n",
      "    test RMSLE avg 2.38544288874 std 0.151053264038\n",
      "    test RMSLEs: [[2.3424697063443012, 2.3170222614778204, 2.3084858724871542, 2.3117330040739636, 2.2943739088296375, 2.472574710497121, 2.5416048157751985, 2.7527136409171344, 2.2882776032497145, 2.2251733637299735], [0.8253794933129569, 0.74647633416872883, 0.73015369337084379, 0.73288196520956206, 0.78151672867294186, 0.88712849875010003, 0.9060350325994454, 1.1032037722880084, 0.87396952705799724, 0.83372505887057913], [0.29869444602446682, 0.26004099373812306, 0.27205844288500591, 0.27943052651003758, 0.30192916122408375, 0.32861774035401742, 0.31290296271798396, 0.38849336414423186, 0.2923400850357582, 0.26628042279578656]]\n",
      "\n",
      "DummyRegressor(constant=None, quantile=None, strategy='mean'):\n",
      "    train RMSLE avg 0.823300753875 std 0.00883948291387\n",
      "    train RMSLEs: [[2.3504600743241166, 2.3540817918653447, 2.355207314121829, 2.3534860833978577, 2.3549392301212588, 2.340847718668702, 2.3363004444510489, 2.3249937023436926, 2.3558903450711166, 2.3715822965812188], [0.82291921528332612, 0.83375871142740787, 0.8356610856647293, 0.83245689506554776, 0.82736102017784552, 0.81876164559912101, 0.81761738543618623, 0.80509141186914868, 0.81766604622050121, 0.82171412200556559], [0.090385345881406287, 0.093012498876448163, 0.091042517704609222, 0.091339528301178322, 0.090523879483245043, 0.091454638157763141, 0.091479254801641777, 0.088813880911794957, 0.0923872889532414, 0.094430896916408824]]\n",
      "    test RMSLE avg 0.84204701043 std 0.106268791551\n",
      "    test RMSLEs: [[2.3424697063443012, 2.3170222614778204, 2.3084858724871542, 2.3117330040739636, 2.2943739088296375, 2.472574710497121, 2.5416048157751985, 2.7527136409171344, 2.2882776032497145, 2.2251733637299735], [0.8253794933129569, 0.74647633416872883, 0.73015369337084379, 0.73288196520956206, 0.78151672867294186, 0.88712849875010003, 0.9060350325994454, 1.1032037722880084, 0.87396952705799724, 0.83372505887057913], [0.29869444602446682, 0.26004099373812306, 0.27205844288500591, 0.27943052651003758, 0.30192916122408375, 0.32861774035401742, 0.31290296271798396, 0.38849336414423186, 0.2923400850357582, 0.26628042279578656]]\n",
      "\n",
      "RandomForestRegressor(bootstrap=True, criterion='mse', max_depth=None,\n",
      "           max_features='auto', max_leaf_nodes=None, min_samples_leaf=1,\n",
      "           min_samples_split=2, min_weight_fraction_leaf=0.0,\n",
      "           n_estimators=20, n_jobs=1, oob_score=False, random_state=None,\n",
      "           verbose=0, warm_start=False):\n",
      "    train RMSLE avg 0.0914869729988 std 0.00145984329107\n",
      "    train RMSLEs: [[2.3504600743241166, 2.3540817918653447, 2.355207314121829, 2.3534860833978577, 2.3549392301212588, 2.340847718668702, 2.3363004444510489, 2.3249937023436926, 2.3558903450711166, 2.3715822965812188], [0.82291921528332612, 0.83375871142740787, 0.8356610856647293, 0.83245689506554776, 0.82736102017784552, 0.81876164559912101, 0.81761738543618623, 0.80509141186914868, 0.81766604622050121, 0.82171412200556559], [0.090385345881406287, 0.093012498876448163, 0.091042517704609222, 0.091339528301178322, 0.090523879483245043, 0.091454638157763141, 0.091479254801641777, 0.088813880911794957, 0.0923872889532414, 0.094430896916408824]]\n",
      "    test RMSLE avg 0.300078814543 std 0.0358024318218\n",
      "    test RMSLEs: [[2.3424697063443012, 2.3170222614778204, 2.3084858724871542, 2.3117330040739636, 2.2943739088296375, 2.472574710497121, 2.5416048157751985, 2.7527136409171344, 2.2882776032497145, 2.2251733637299735], [0.8253794933129569, 0.74647633416872883, 0.73015369337084379, 0.73288196520956206, 0.78151672867294186, 0.88712849875010003, 0.9060350325994454, 1.1032037722880084, 0.87396952705799724, 0.83372505887057913], [0.29869444602446682, 0.26004099373812306, 0.27205844288500591, 0.27943052651003758, 0.30192916122408375, 0.32861774035401742, 0.31290296271798396, 0.38849336414423186, 0.2923400850357582, 0.26628042279578656]]\n",
      "\n"
     ]
    }
   ],
   "source": [
    "featurizer = AllCategoricalsFeaturizer()\n",
    "\n",
    "train_rmsles = []\n",
    "test_rmsles = []\n",
    "for reg in regressors:\n",
    "    train_rmsles.append([])\n",
    "    test_rmsles.append([])\n",
    "\n",
    "for i, split in enumerate(generate_xv_splits(aug_train_set)):\n",
    "    print \"---------------------- split {}\".format(i)\n",
    "    %time split_np = featurize_and_to_numpy(featurizer, *split)\n",
    "\n",
    "    for reg_id, reg in enumerate(regressors):\n",
    "        %time train_rmsle, test_rmsle = eval_regressor(reg, *split_np)\n",
    "        print \"reg_id {}: train_rmsle {}; test_rmsle {}\".format(reg_id, train_rmsle, test_rmsle)\n",
    "        train_rmsles[reg_id].append(train_rmsle)\n",
    "        test_rmsles[reg_id].append(test_rmsle)\n",
    "\n",
    "print\n",
    "print \"------------------------------ averages\".format(i)\n",
    "\n",
    "for reg_id, reg in enumerate(regressors):\n",
    "    print \"{}:\".format(reg)\n",
    "    print \"    train RMSLE avg {} std {}\".format(np.mean(train_rmsles[reg_id]), np.std(train_rmsles[reg_id]))\n",
    "    print \"    train RMSLEs: {}\".format(train_rmsles)\n",
    "    print \"    test RMSLE avg {} std {}\".format(np.mean(test_rmsles[reg_id]), np.std(test_rmsles[reg_id]))\n",
    "    print \"    test RMSLEs: {}\".format(test_rmsles)\n",
    "    print"
   ]
  },
  {
   "cell_type": "code",
   "execution_count": null,
   "metadata": {
    "collapsed": true
   },
   "outputs": [],
   "source": []
  }
 ],
 "metadata": {
  "kernelspec": {
   "display_name": "Python 2",
   "language": "python",
   "name": "python2"
  },
  "language_info": {
   "codemirror_mode": {
    "name": "ipython",
    "version": 2
   },
   "file_extension": ".py",
   "mimetype": "text/x-python",
   "name": "python",
   "nbconvert_exporter": "python",
   "pygments_lexer": "ipython2",
   "version": "2.7.3"
  }
 },
 "nbformat": 4,
 "nbformat_minor": 0
}
