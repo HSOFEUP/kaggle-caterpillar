{
 "cells": [
  {
   "cell_type": "code",
   "execution_count": 1,
   "metadata": {
    "collapsed": false
   },
   "outputs": [
    {
     "name": "stdout",
     "output_type": "stream",
     "text": [
      "Populating the interactive namespace from numpy and matplotlib\n"
     ]
    }
   ],
   "source": [
    "%pylab inline\n",
    "\n",
    "from sklearn.dummy import DummyRegressor\n",
    "from sklearn.ensemble import RandomForestRegressor\n",
    "from sklearn.metrics import mean_squared_error\n",
    "\n",
    "from soln.dataset import load_raw_data\n",
    "from soln.dataset import generate_xv_splits_np\n",
    "from soln.featurizer import CustomFeaturizer\n",
    "from soln.utils import eval_regressor"
   ]
  },
  {
   "cell_type": "code",
   "execution_count": 4,
   "metadata": {
    "collapsed": true
   },
   "outputs": [],
   "source": [
    "raw = load_raw_data()\n",
    "featurizer = CustomFeaturizer()\n",
    "\n",
    "regressors = [\n",
    "    DummyRegressor(strategy='constant', constant=0.0),\n",
    "    DummyRegressor(strategy='mean'),\n",
    "    # RandomForestRegressor(n_estimators=20),\n",
    "    # RandomForestRegressor(n_estimators=100),\n",
    "]"
   ]
  },
  {
   "cell_type": "code",
   "execution_count": 5,
   "metadata": {
    "collapsed": false
   },
   "outputs": [
    {
     "name": "stdout",
     "output_type": "stream",
     "text": [
      "CPU times: user 28 ms, sys: 0 ns, total: 28 ms\n",
      "Wall time: 28.4 ms\n",
      "CPU times: user 32 ms, sys: 0 ns, total: 32 ms\n",
      "Wall time: 29.5 ms\n",
      "CPU times: user 28 ms, sys: 0 ns, total: 28 ms\n",
      "Wall time: 28 ms\n",
      "CPU times: user 28 ms, sys: 4 ms, total: 32 ms\n",
      "Wall time: 37.4 ms\n",
      "CPU times: user 36 ms, sys: 0 ns, total: 36 ms\n",
      "Wall time: 32.9 ms\n",
      "CPU times: user 24 ms, sys: 4 ms, total: 28 ms\n",
      "Wall time: 29.2 ms\n",
      "CPU times: user 28 ms, sys: 0 ns, total: 28 ms\n",
      "Wall time: 29.8 ms\n",
      "CPU times: user 28 ms, sys: 0 ns, total: 28 ms\n",
      "Wall time: 29.4 ms\n",
      "CPU times: user 28 ms, sys: 0 ns, total: 28 ms\n",
      "Wall time: 28 ms\n",
      "CPU times: user 24 ms, sys: 0 ns, total: 24 ms\n",
      "Wall time: 27.6 ms\n",
      "DummyRegressor(constant=array(0.0), quantile=None, strategy='constant'):\n",
      "    train RMSLE avg 2.34977890009 std 0.0121544124605\n",
      "    train RMSLEs: [2.3504600743241166, 2.3540817918653447, 2.355207314121829, 2.3534860833978577, 2.3549392301212588, 2.340847718668702, 2.3363004444510489, 2.3249937023436926, 2.3558903450711166, 2.3715822965812188]\n",
      "    test RMSLE avg 2.38544288874 std 0.151053264038\n",
      "    test RMSLEs: [2.3424697063443012, 2.3170222614778204, 2.3084858724871542, 2.3117330040739636, 2.2943739088296375, 2.472574710497121, 2.5416048157751985, 2.7527136409171344, 2.2882776032497145, 2.2251733637299735]\n",
      "\n",
      "CPU times: user 24 ms, sys: 4 ms, total: 28 ms\n",
      "Wall time: 28.2 ms\n",
      "CPU times: user 32 ms, sys: 0 ns, total: 32 ms\n",
      "Wall time: 29 ms\n",
      "CPU times: user 28 ms, sys: 0 ns, total: 28 ms\n",
      "Wall time: 29 ms\n",
      "CPU times: user 28 ms, sys: 0 ns, total: 28 ms\n",
      "Wall time: 28.8 ms\n",
      "CPU times: user 28 ms, sys: 0 ns, total: 28 ms\n",
      "Wall time: 29.3 ms\n",
      "CPU times: user 32 ms, sys: 0 ns, total: 32 ms\n",
      "Wall time: 30.3 ms\n",
      "CPU times: user 28 ms, sys: 0 ns, total: 28 ms\n",
      "Wall time: 29.5 ms\n",
      "CPU times: user 36 ms, sys: 0 ns, total: 36 ms\n",
      "Wall time: 34.5 ms\n",
      "CPU times: user 28 ms, sys: 0 ns, total: 28 ms\n",
      "Wall time: 28.7 ms\n",
      "CPU times: user 28 ms, sys: 0 ns, total: 28 ms\n",
      "Wall time: 27.8 ms\n",
      "DummyRegressor(constant=None, quantile=None, strategy='mean'):\n",
      "    train RMSLE avg 0.823300753875 std 0.00883948291387\n",
      "    train RMSLEs: [0.82291921528332612, 0.83375871142740787, 0.8356610856647293, 0.83245689506554776, 0.82736102017784552, 0.81876164559912101, 0.81761738543618623, 0.80509141186914868, 0.81766604622050121, 0.82171412200556559]\n",
      "    test RMSLE avg 0.84204701043 std 0.106268791551\n",
      "    test RMSLEs: [0.8253794933129569, 0.74647633416872883, 0.73015369337084379, 0.73288196520956206, 0.78151672867294186, 0.88712849875010003, 0.9060350325994454, 1.1032037722880084, 0.87396952705799724, 0.83372505887057913]\n",
      "\n"
     ]
    }
   ],
   "source": [
    "for reg in regressors:\n",
    "    train_rmsles = []\n",
    "    test_rmsles = []\n",
    "    for xv_split in generate_xv_splits_np(raw, featurizer):\n",
    "        X_train_feats, X_train_np, y_train_np, X_test_np, y_test_np = xv_split\n",
    "        %time train_rmsle, test_rmsle = eval_regressor(reg, X_train_np, y_train_np, X_test_np, y_test_np)\n",
    "        train_rmsles.append(train_rmsle)\n",
    "        test_rmsles.append(test_rmsle)\n",
    "    print \"{}:\".format(reg)\n",
    "    print \"    train RMSLE avg {} std {}\".format(np.mean(train_rmsles), np.std(train_rmsles))\n",
    "    print \"    train RMSLEs: {}\".format(train_rmsles)\n",
    "    print \"    test RMSLE avg {} std {}\".format(np.mean(test_rmsles), np.std(test_rmsles))\n",
    "    print \"    test RMSLEs: {}\".format(test_rmsles)\n",
    "    print"
   ]
  }
 ],
 "metadata": {
  "kernelspec": {
   "display_name": "Python 2",
   "language": "python",
   "name": "python2"
  },
  "language_info": {
   "codemirror_mode": {
    "name": "ipython",
    "version": 2
   },
   "file_extension": ".py",
   "mimetype": "text/x-python",
   "name": "python",
   "nbconvert_exporter": "python",
   "pygments_lexer": "ipython2",
   "version": "2.7.3"
  }
 },
 "nbformat": 4,
 "nbformat_minor": 0
}
